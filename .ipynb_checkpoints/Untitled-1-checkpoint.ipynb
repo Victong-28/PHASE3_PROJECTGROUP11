{
 "cells": [
  {
   "cell_type": "markdown",
   "id": "e90cc4d4",
   "metadata": {
    "jp-MarkdownHeadingCollapsed": true
   },
   "source": [
    "## 1. Business Understanding\n",
    "### 1.1 Business Overview\n",
    "#### 1.1.0 H1N1 influenza\n",
    " H1N1 is a type of Influenza A virus that infects the nose, throat, and lungs. It was originally called \"swine flu\" because it resembled a flu virus that affects pigs. The H1N1 virus that caused the 2009 pandemic contained genetic material from avian, swine, and human influenza viruses. The H1N1 virus caused the deadly \"Spanish flu\" pandemic in 1918. A different strain of H1N1 caused a pandemic in 2009, but it is now considered a regular, seasonal flu virus. H1N1 is contagious and spreads from person to person through coughs and sneezes. Its symptoms are similar to other types of flu and can include fever, cough, sore throat, body aches, and fatigue. \n",
    "\n",
    " The 2009 H1N1 influenza pandemic highlighted the importance of vaccination campaigns in preventing widespread illness. Despite the availability of both H1N1 and seasonal flu vaccines, vaccination rates varied significantly across demographic groups. Factors such as personal health behaviors, medical access, and perceptions of vaccine safety played a major role in whether individuals chose to get vaccinated.\n",
    "\n",
    "As the world continues to face public health challenges, such as the COVID-19 pandemic, gaining insight into the drivers of vaccine uptake remains critical. By analyzing survey data from the 2009 National H1N1 Flu Survey, we can explore how people’s backgrounds, health conditions, opinions, and behaviors relate to their vaccination decisions.\n",
    "\n",
    "#### 1.1.1 Seasonal flu vaccine\n",
    " Seasonal flu vaccine is an annual vaccination that protects against the influenza viruses predicted to be the most common in the coming season. The vaccine is updated every year. It typically includes protection against two influenza A viruses (one H1N1 and one H3N2 subtype) and one or two influenza B viruses. Administration, It is offered as either an injection (shot) containing an inactivated (killed) virus or as a nasal spray containing a weakened live virus.\n",
    "\n",
    "\n",
    "**NOTE: H1N1 is a type of flu, while the seasonal flu vaccine is a tool used to prevent it and other circulating flu strains.**\n",
    "\n",
    "### 1.2 Problem Statement\n",
    "\n",
    "* During the 2009 H1N1 influenza pandemic, vaccination was one of the most effective strategies for reducing infection and preventing severe illness. However, not all individuals chose to get vaccinated, and uptake rates varied across different demographic and socioeconomic groups. Understanding the factors that influence vaccine adoption is critical for designing effective public health interventions.This project aims to develop a machine learning model that predicts whether an individual received the H1N1 flu vaccine based on their demographic information, health conditions, behaviors, and opinions collected in the National 2009 H1N1 Flu Survey.\n",
    "\n",
    "\n",
    "\n",
    "### 1.3 Business Objectives\n",
    "\n",
    "#### 1.3.0 Main objective\n",
    "* To develop a model that will Predict whether an individual received the H1N1 vaccine.\n",
    "\n",
    "#### 1.3.1 Specific Objectives.\n",
    "* To identify which age group, sex, race and chronic_med_condition persons received the H1N1 vaccine\n",
    "* To analyze the demographic, behavioral, and medical characteristics of survey respondents and determine their association with H1N1 vaccine uptake.\n",
    "* To identify the most influential features affecting vaccine uptake, providing insights that can guide targeted public health interventions and awareness campaigns.\n",
    "\n",
    "#### 1.3.2 Research Questions.\n",
    "* What demographic factors influence whether an individual receives the H1N1 vaccine?\n",
    "* What behavioral factors influence whether an individual receives the H1N1 vaccine?\n",
    "* What are the medical factors influence whether an individual receives the H1N1 vaccine?\n",
    "* How can the insights from the predictive model help public health officials design targeted campaigns to increase vaccination rates?\n",
    "\n",
    "### 1.4 Success criteria\n",
    "* If we build a model that will corectly predict whether an individual received the H1N1 vaccine."
   ]
  },
  {
   "cell_type": "markdown",
   "id": "c4ad0858",
   "metadata": {},
   "source": [
    "## 2. Data Understanding."
   ]
  },
  {
   "cell_type": "code",
   "execution_count": 3,
   "id": "e327b93d",
   "metadata": {},
   "outputs": [],
   "source": [
    "import pandas as pd\n",
    "import numpy as np\n",
    "import matplotlib.pyplot as plt\n",
    "import seaborn as sns"
   ]
  },
  {
   "cell_type": "code",
   "execution_count": 4,
   "id": "1f6c6225",
   "metadata": {},
   "outputs": [
    {
     "ename": "FileNotFoundError",
     "evalue": "[Errno 2] No such file or directory: 'H1N1_Flu_Vaccines.csv'",
     "output_type": "error",
     "traceback": [
      "\u001b[1;31m---------------------------------------------------------------------------\u001b[0m",
      "\u001b[1;31mFileNotFoundError\u001b[0m                         Traceback (most recent call last)",
      "Cell \u001b[1;32mIn[4], line 2\u001b[0m\n\u001b[0;32m      1\u001b[0m \u001b[38;5;66;03m#H1N1 and Seasonal Flu Vaccines\u001b[39;00m\n\u001b[1;32m----> 2\u001b[0m df1 \u001b[38;5;241m=\u001b[39m \u001b[43mpd\u001b[49m\u001b[38;5;241;43m.\u001b[39;49m\u001b[43mread_csv\u001b[49m\u001b[43m(\u001b[49m\u001b[38;5;124;43m'\u001b[39;49m\u001b[38;5;124;43mH1N1_Flu_Vaccines.csv\u001b[39;49m\u001b[38;5;124;43m'\u001b[39;49m\u001b[43m)\u001b[49m\n\u001b[0;32m      3\u001b[0m df1\u001b[38;5;241m.\u001b[39mhead()\n",
      "File \u001b[1;32m~\\anaconda3\\Lib\\site-packages\\pandas\\io\\parsers\\readers.py:1026\u001b[0m, in \u001b[0;36mread_csv\u001b[1;34m(filepath_or_buffer, sep, delimiter, header, names, index_col, usecols, dtype, engine, converters, true_values, false_values, skipinitialspace, skiprows, skipfooter, nrows, na_values, keep_default_na, na_filter, verbose, skip_blank_lines, parse_dates, infer_datetime_format, keep_date_col, date_parser, date_format, dayfirst, cache_dates, iterator, chunksize, compression, thousands, decimal, lineterminator, quotechar, quoting, doublequote, escapechar, comment, encoding, encoding_errors, dialect, on_bad_lines, delim_whitespace, low_memory, memory_map, float_precision, storage_options, dtype_backend)\u001b[0m\n\u001b[0;32m   1013\u001b[0m kwds_defaults \u001b[38;5;241m=\u001b[39m _refine_defaults_read(\n\u001b[0;32m   1014\u001b[0m     dialect,\n\u001b[0;32m   1015\u001b[0m     delimiter,\n\u001b[1;32m   (...)\u001b[0m\n\u001b[0;32m   1022\u001b[0m     dtype_backend\u001b[38;5;241m=\u001b[39mdtype_backend,\n\u001b[0;32m   1023\u001b[0m )\n\u001b[0;32m   1024\u001b[0m kwds\u001b[38;5;241m.\u001b[39mupdate(kwds_defaults)\n\u001b[1;32m-> 1026\u001b[0m \u001b[38;5;28;01mreturn\u001b[39;00m \u001b[43m_read\u001b[49m\u001b[43m(\u001b[49m\u001b[43mfilepath_or_buffer\u001b[49m\u001b[43m,\u001b[49m\u001b[43m \u001b[49m\u001b[43mkwds\u001b[49m\u001b[43m)\u001b[49m\n",
      "File \u001b[1;32m~\\anaconda3\\Lib\\site-packages\\pandas\\io\\parsers\\readers.py:620\u001b[0m, in \u001b[0;36m_read\u001b[1;34m(filepath_or_buffer, kwds)\u001b[0m\n\u001b[0;32m    617\u001b[0m _validate_names(kwds\u001b[38;5;241m.\u001b[39mget(\u001b[38;5;124m\"\u001b[39m\u001b[38;5;124mnames\u001b[39m\u001b[38;5;124m\"\u001b[39m, \u001b[38;5;28;01mNone\u001b[39;00m))\n\u001b[0;32m    619\u001b[0m \u001b[38;5;66;03m# Create the parser.\u001b[39;00m\n\u001b[1;32m--> 620\u001b[0m parser \u001b[38;5;241m=\u001b[39m \u001b[43mTextFileReader\u001b[49m\u001b[43m(\u001b[49m\u001b[43mfilepath_or_buffer\u001b[49m\u001b[43m,\u001b[49m\u001b[43m \u001b[49m\u001b[38;5;241;43m*\u001b[39;49m\u001b[38;5;241;43m*\u001b[39;49m\u001b[43mkwds\u001b[49m\u001b[43m)\u001b[49m\n\u001b[0;32m    622\u001b[0m \u001b[38;5;28;01mif\u001b[39;00m chunksize \u001b[38;5;129;01mor\u001b[39;00m iterator:\n\u001b[0;32m    623\u001b[0m     \u001b[38;5;28;01mreturn\u001b[39;00m parser\n",
      "File \u001b[1;32m~\\anaconda3\\Lib\\site-packages\\pandas\\io\\parsers\\readers.py:1620\u001b[0m, in \u001b[0;36mTextFileReader.__init__\u001b[1;34m(self, f, engine, **kwds)\u001b[0m\n\u001b[0;32m   1617\u001b[0m     \u001b[38;5;28mself\u001b[39m\u001b[38;5;241m.\u001b[39moptions[\u001b[38;5;124m\"\u001b[39m\u001b[38;5;124mhas_index_names\u001b[39m\u001b[38;5;124m\"\u001b[39m] \u001b[38;5;241m=\u001b[39m kwds[\u001b[38;5;124m\"\u001b[39m\u001b[38;5;124mhas_index_names\u001b[39m\u001b[38;5;124m\"\u001b[39m]\n\u001b[0;32m   1619\u001b[0m \u001b[38;5;28mself\u001b[39m\u001b[38;5;241m.\u001b[39mhandles: IOHandles \u001b[38;5;241m|\u001b[39m \u001b[38;5;28;01mNone\u001b[39;00m \u001b[38;5;241m=\u001b[39m \u001b[38;5;28;01mNone\u001b[39;00m\n\u001b[1;32m-> 1620\u001b[0m \u001b[38;5;28mself\u001b[39m\u001b[38;5;241m.\u001b[39m_engine \u001b[38;5;241m=\u001b[39m \u001b[38;5;28;43mself\u001b[39;49m\u001b[38;5;241;43m.\u001b[39;49m\u001b[43m_make_engine\u001b[49m\u001b[43m(\u001b[49m\u001b[43mf\u001b[49m\u001b[43m,\u001b[49m\u001b[43m \u001b[49m\u001b[38;5;28;43mself\u001b[39;49m\u001b[38;5;241;43m.\u001b[39;49m\u001b[43mengine\u001b[49m\u001b[43m)\u001b[49m\n",
      "File \u001b[1;32m~\\anaconda3\\Lib\\site-packages\\pandas\\io\\parsers\\readers.py:1880\u001b[0m, in \u001b[0;36mTextFileReader._make_engine\u001b[1;34m(self, f, engine)\u001b[0m\n\u001b[0;32m   1878\u001b[0m     \u001b[38;5;28;01mif\u001b[39;00m \u001b[38;5;124m\"\u001b[39m\u001b[38;5;124mb\u001b[39m\u001b[38;5;124m\"\u001b[39m \u001b[38;5;129;01mnot\u001b[39;00m \u001b[38;5;129;01min\u001b[39;00m mode:\n\u001b[0;32m   1879\u001b[0m         mode \u001b[38;5;241m+\u001b[39m\u001b[38;5;241m=\u001b[39m \u001b[38;5;124m\"\u001b[39m\u001b[38;5;124mb\u001b[39m\u001b[38;5;124m\"\u001b[39m\n\u001b[1;32m-> 1880\u001b[0m \u001b[38;5;28mself\u001b[39m\u001b[38;5;241m.\u001b[39mhandles \u001b[38;5;241m=\u001b[39m \u001b[43mget_handle\u001b[49m\u001b[43m(\u001b[49m\n\u001b[0;32m   1881\u001b[0m \u001b[43m    \u001b[49m\u001b[43mf\u001b[49m\u001b[43m,\u001b[49m\n\u001b[0;32m   1882\u001b[0m \u001b[43m    \u001b[49m\u001b[43mmode\u001b[49m\u001b[43m,\u001b[49m\n\u001b[0;32m   1883\u001b[0m \u001b[43m    \u001b[49m\u001b[43mencoding\u001b[49m\u001b[38;5;241;43m=\u001b[39;49m\u001b[38;5;28;43mself\u001b[39;49m\u001b[38;5;241;43m.\u001b[39;49m\u001b[43moptions\u001b[49m\u001b[38;5;241;43m.\u001b[39;49m\u001b[43mget\u001b[49m\u001b[43m(\u001b[49m\u001b[38;5;124;43m\"\u001b[39;49m\u001b[38;5;124;43mencoding\u001b[39;49m\u001b[38;5;124;43m\"\u001b[39;49m\u001b[43m,\u001b[49m\u001b[43m \u001b[49m\u001b[38;5;28;43;01mNone\u001b[39;49;00m\u001b[43m)\u001b[49m\u001b[43m,\u001b[49m\n\u001b[0;32m   1884\u001b[0m \u001b[43m    \u001b[49m\u001b[43mcompression\u001b[49m\u001b[38;5;241;43m=\u001b[39;49m\u001b[38;5;28;43mself\u001b[39;49m\u001b[38;5;241;43m.\u001b[39;49m\u001b[43moptions\u001b[49m\u001b[38;5;241;43m.\u001b[39;49m\u001b[43mget\u001b[49m\u001b[43m(\u001b[49m\u001b[38;5;124;43m\"\u001b[39;49m\u001b[38;5;124;43mcompression\u001b[39;49m\u001b[38;5;124;43m\"\u001b[39;49m\u001b[43m,\u001b[49m\u001b[43m \u001b[49m\u001b[38;5;28;43;01mNone\u001b[39;49;00m\u001b[43m)\u001b[49m\u001b[43m,\u001b[49m\n\u001b[0;32m   1885\u001b[0m \u001b[43m    \u001b[49m\u001b[43mmemory_map\u001b[49m\u001b[38;5;241;43m=\u001b[39;49m\u001b[38;5;28;43mself\u001b[39;49m\u001b[38;5;241;43m.\u001b[39;49m\u001b[43moptions\u001b[49m\u001b[38;5;241;43m.\u001b[39;49m\u001b[43mget\u001b[49m\u001b[43m(\u001b[49m\u001b[38;5;124;43m\"\u001b[39;49m\u001b[38;5;124;43mmemory_map\u001b[39;49m\u001b[38;5;124;43m\"\u001b[39;49m\u001b[43m,\u001b[49m\u001b[43m \u001b[49m\u001b[38;5;28;43;01mFalse\u001b[39;49;00m\u001b[43m)\u001b[49m\u001b[43m,\u001b[49m\n\u001b[0;32m   1886\u001b[0m \u001b[43m    \u001b[49m\u001b[43mis_text\u001b[49m\u001b[38;5;241;43m=\u001b[39;49m\u001b[43mis_text\u001b[49m\u001b[43m,\u001b[49m\n\u001b[0;32m   1887\u001b[0m \u001b[43m    \u001b[49m\u001b[43merrors\u001b[49m\u001b[38;5;241;43m=\u001b[39;49m\u001b[38;5;28;43mself\u001b[39;49m\u001b[38;5;241;43m.\u001b[39;49m\u001b[43moptions\u001b[49m\u001b[38;5;241;43m.\u001b[39;49m\u001b[43mget\u001b[49m\u001b[43m(\u001b[49m\u001b[38;5;124;43m\"\u001b[39;49m\u001b[38;5;124;43mencoding_errors\u001b[39;49m\u001b[38;5;124;43m\"\u001b[39;49m\u001b[43m,\u001b[49m\u001b[43m \u001b[49m\u001b[38;5;124;43m\"\u001b[39;49m\u001b[38;5;124;43mstrict\u001b[39;49m\u001b[38;5;124;43m\"\u001b[39;49m\u001b[43m)\u001b[49m\u001b[43m,\u001b[49m\n\u001b[0;32m   1888\u001b[0m \u001b[43m    \u001b[49m\u001b[43mstorage_options\u001b[49m\u001b[38;5;241;43m=\u001b[39;49m\u001b[38;5;28;43mself\u001b[39;49m\u001b[38;5;241;43m.\u001b[39;49m\u001b[43moptions\u001b[49m\u001b[38;5;241;43m.\u001b[39;49m\u001b[43mget\u001b[49m\u001b[43m(\u001b[49m\u001b[38;5;124;43m\"\u001b[39;49m\u001b[38;5;124;43mstorage_options\u001b[39;49m\u001b[38;5;124;43m\"\u001b[39;49m\u001b[43m,\u001b[49m\u001b[43m \u001b[49m\u001b[38;5;28;43;01mNone\u001b[39;49;00m\u001b[43m)\u001b[49m\u001b[43m,\u001b[49m\n\u001b[0;32m   1889\u001b[0m \u001b[43m\u001b[49m\u001b[43m)\u001b[49m\n\u001b[0;32m   1890\u001b[0m \u001b[38;5;28;01massert\u001b[39;00m \u001b[38;5;28mself\u001b[39m\u001b[38;5;241m.\u001b[39mhandles \u001b[38;5;129;01mis\u001b[39;00m \u001b[38;5;129;01mnot\u001b[39;00m \u001b[38;5;28;01mNone\u001b[39;00m\n\u001b[0;32m   1891\u001b[0m f \u001b[38;5;241m=\u001b[39m \u001b[38;5;28mself\u001b[39m\u001b[38;5;241m.\u001b[39mhandles\u001b[38;5;241m.\u001b[39mhandle\n",
      "File \u001b[1;32m~\\anaconda3\\Lib\\site-packages\\pandas\\io\\common.py:873\u001b[0m, in \u001b[0;36mget_handle\u001b[1;34m(path_or_buf, mode, encoding, compression, memory_map, is_text, errors, storage_options)\u001b[0m\n\u001b[0;32m    868\u001b[0m \u001b[38;5;28;01melif\u001b[39;00m \u001b[38;5;28misinstance\u001b[39m(handle, \u001b[38;5;28mstr\u001b[39m):\n\u001b[0;32m    869\u001b[0m     \u001b[38;5;66;03m# Check whether the filename is to be opened in binary mode.\u001b[39;00m\n\u001b[0;32m    870\u001b[0m     \u001b[38;5;66;03m# Binary mode does not support 'encoding' and 'newline'.\u001b[39;00m\n\u001b[0;32m    871\u001b[0m     \u001b[38;5;28;01mif\u001b[39;00m ioargs\u001b[38;5;241m.\u001b[39mencoding \u001b[38;5;129;01mand\u001b[39;00m \u001b[38;5;124m\"\u001b[39m\u001b[38;5;124mb\u001b[39m\u001b[38;5;124m\"\u001b[39m \u001b[38;5;129;01mnot\u001b[39;00m \u001b[38;5;129;01min\u001b[39;00m ioargs\u001b[38;5;241m.\u001b[39mmode:\n\u001b[0;32m    872\u001b[0m         \u001b[38;5;66;03m# Encoding\u001b[39;00m\n\u001b[1;32m--> 873\u001b[0m         handle \u001b[38;5;241m=\u001b[39m \u001b[38;5;28;43mopen\u001b[39;49m\u001b[43m(\u001b[49m\n\u001b[0;32m    874\u001b[0m \u001b[43m            \u001b[49m\u001b[43mhandle\u001b[49m\u001b[43m,\u001b[49m\n\u001b[0;32m    875\u001b[0m \u001b[43m            \u001b[49m\u001b[43mioargs\u001b[49m\u001b[38;5;241;43m.\u001b[39;49m\u001b[43mmode\u001b[49m\u001b[43m,\u001b[49m\n\u001b[0;32m    876\u001b[0m \u001b[43m            \u001b[49m\u001b[43mencoding\u001b[49m\u001b[38;5;241;43m=\u001b[39;49m\u001b[43mioargs\u001b[49m\u001b[38;5;241;43m.\u001b[39;49m\u001b[43mencoding\u001b[49m\u001b[43m,\u001b[49m\n\u001b[0;32m    877\u001b[0m \u001b[43m            \u001b[49m\u001b[43merrors\u001b[49m\u001b[38;5;241;43m=\u001b[39;49m\u001b[43merrors\u001b[49m\u001b[43m,\u001b[49m\n\u001b[0;32m    878\u001b[0m \u001b[43m            \u001b[49m\u001b[43mnewline\u001b[49m\u001b[38;5;241;43m=\u001b[39;49m\u001b[38;5;124;43m\"\u001b[39;49m\u001b[38;5;124;43m\"\u001b[39;49m\u001b[43m,\u001b[49m\n\u001b[0;32m    879\u001b[0m \u001b[43m        \u001b[49m\u001b[43m)\u001b[49m\n\u001b[0;32m    880\u001b[0m     \u001b[38;5;28;01melse\u001b[39;00m:\n\u001b[0;32m    881\u001b[0m         \u001b[38;5;66;03m# Binary mode\u001b[39;00m\n\u001b[0;32m    882\u001b[0m         handle \u001b[38;5;241m=\u001b[39m \u001b[38;5;28mopen\u001b[39m(handle, ioargs\u001b[38;5;241m.\u001b[39mmode)\n",
      "\u001b[1;31mFileNotFoundError\u001b[0m: [Errno 2] No such file or directory: 'H1N1_Flu_Vaccines.csv'"
     ]
    }
   ],
   "source": [
    "#H1N1 and Seasonal Flu Vaccines\n",
    "df1 = pd.read_csv('H1N1_Flu_Vaccines.csv')\n",
    "df1.head()"
   ]
  },
  {
   "cell_type": "markdown",
   "id": "2182709f",
   "metadata": {},
   "source": [
    "### Describtion of Data\n",
    "\n",
    "* Data format: CSV file (H1N1_Flu_Vaccines.csv).\n",
    "* Number of records (rows): 26,000 respondents (varies depending on version of dataset).\n",
    "* Number of fields (columns): 36 features + 2 target labels (h1n1_vaccine, seasonal_vaccine).\n",
    "* Field identities: Columns represent demographic, behavioral, medical, and opinion-based survey responses (e.g., age_group, sex, h1n1_concern, doctor_recc_h1n1, employment_status)."
   ]
  },
  {
   "cell_type": "markdown",
   "id": "c2a7e290",
   "metadata": {},
   "source": [
    "* Missing values: Some fields (like employment_industry, employment_occupation, health_insurance) have missing data.\n",
    "\n",
    "* Inconsistent entries: Check for unexpected values (e.g., misspelled categories, out-of-range numbers).\n",
    "\n",
    "* Imbalanced data: If far more people did not vaccinate compared to those who did, models may get biased toward predicting \"not vaccinated.\"\n",
    "\n",
    "* Data types: Ensure categorical features are encoded properly (e.g., strings vs. integers).\n",
    "\n",
    "* Duplicates: Check if any respondents appear more than once."
   ]
  },
  {
   "cell_type": "markdown",
   "id": "11984dde",
   "metadata": {},
   "source": [
    "### Vaccine Targets (Dependent Variables)\n",
    "\n",
    "**h1n1_vaccine → Did the person receive the H1N1 vaccine? (1 = yes, 0 = no).**\n",
    "\n",
    "**seasonal_vaccine → Did the person receive the seasonal flu vaccine? (1 = yes, 0 = no).**\n",
    "* respondent_id → Unique ID for each survey participant.\n",
    "* h1n1_concern → Level of concern about H1N1 flu (e.g., not at all, somewhat, very concerned).\n",
    "* h1n1_knowledge → Self-rated knowledge about H1N1 flu (low, medium, high).\n",
    "* behavioral_antiviral_meds → Did they take antiviral medications to prevent flu?\n",
    "* behavioral_avoidance → Did they avoid large gatherings?\n",
    "* behavioral_face_mask → Did they wear a face mask?\n",
    "* behavioral_wash_hands → Did they wash hands frequently?\n",
    "* behavioral_large_gatherings → Did they avoid large gatherings?\n",
    "* behavioral_outside_home → Did they limit time outside home?\n",
    "* behavioral_touch_face → Did they avoid touching face?\n",
    "* doctor_recc_h1n1 → Did a doctor recommend the H1N1 vaccine?\n",
    "* doctor_recc_seasonal → Did a doctor recommend the seasonal flu vaccine?\n",
    "* chronic_med_condition → Does the person have a chronic medical condition (e.g., diabetes, asthma)?\n",
    "* child_under_6_months → Is there a child under 6 months old in the household? (since babies can’t be vaccinated).\n",
    "* health_worker → Is the person a health care worker?\n",
    "* health_insurance → Do they have health insurance coverage?\n",
    "* opinion_h1n1_vacc_effective → Belief in H1N1 vaccine effectiveness.\n",
    "* opinion_h1n1_risk → Perceived personal risk of getting H1N1 flu.\n",
    "* opinion_h1n1_sick_from_vacc → Belief that H1N1 vaccine might cause sickness.\n",
    "* opinion_seas_vacc_effective → Belief in seasonal flu vaccine effectiveness.\n",
    "* opinion_seas_risk → Perceived personal risk of getting seasonal flu.\n",
    "* opinion_seas_sick_from_vacc → Belief that seasonal flu vaccine might cause sickness.\n",
    "* age_group → Age category of respondent (e.g., 18–34, 35–44, 65+).\n",
    "* education → Education level (e.g., less than high school, some college, college graduate).\n",
    "* race → Self-reported race/ethnicity.\n",
    "* sex → Gender of respondent.\n",
    "* income_poverty → Household income relative to poverty line.\n",
    "* marital_status → Married, single, divorced, etc.\n",
    "* rent_or_own → Housing situation (rent or own).\n",
    "* employment_status → Employment status (employed, unemployed, retired).\n",
    "* employment_industry → Industry where respondent works.\n",
    "* employment_occupation → Occupation of respondent.\n",
    "* hhs_geo_region → U.S. Department of Health and Human Services region (geographic code).\n",
    "* census_msa → Metropolitan Statistical Area (urban/rural type).\n",
    "* household_adults → Number of adults in the household.\n",
    "* household_children → Number of children in the household."
   ]
  },
  {
   "cell_type": "code",
   "execution_count": null,
   "id": "e8b89f5b",
   "metadata": {},
   "outputs": [],
   "source": [
    "df1.info()"
   ]
  },
  {
   "cell_type": "code",
   "execution_count": null,
   "id": "ec986bc1",
   "metadata": {},
   "outputs": [],
   "source": [
    "df1.columns"
   ]
  },
  {
   "cell_type": "code",
   "execution_count": null,
   "id": "b4d9909d",
   "metadata": {},
   "outputs": [],
   "source": [
    "df1.isnull().sum()/df1.shape[0]*100"
   ]
  },
  {
   "cell_type": "code",
   "execution_count": null,
   "id": "0e1a1a4f",
   "metadata": {},
   "outputs": [],
   "source": [
    "df1['h1n1_vaccine'].unique()"
   ]
  },
  {
   "cell_type": "code",
   "execution_count": null,
   "id": "941e15bc",
   "metadata": {},
   "outputs": [],
   "source": [
    "df1['employment_occupation'].unique()"
   ]
  },
  {
   "cell_type": "code",
   "execution_count": null,
   "id": "09a35f83",
   "metadata": {},
   "outputs": [],
   "source": [
    "df1['employment_industry'].unique()"
   ]
  },
  {
   "cell_type": "code",
   "execution_count": null,
   "id": "ceb01629",
   "metadata": {},
   "outputs": [],
   "source": [
    "df1.duplicated().sum()"
   ]
  },
  {
   "cell_type": "code",
   "execution_count": null,
   "id": "6e043a94",
   "metadata": {},
   "outputs": [],
   "source": [
    "# for i in [ 'h1n1_knowledge',\n",
    "#        'behavioral_antiviral_meds', 'behavioral_avoidance',\n",
    "#        'behavioral_face_mask', 'behavioral_wash_hands',\n",
    "#        'behavioral_large_gatherings', 'behavioral_outside_home',\n",
    "#        'behavioral_touch_face', 'doctor_recc_h1n1', 'doctor_recc_seasonal',\n",
    "#        'chronic_med_condition', 'child_under_6_months', 'health_worker',\n",
    "#         'opinion_h1n1_vacc_effective', 'opinion_h1n1_risk',\n",
    "#        'opinion_h1n1_sick_from_vacc', 'opinion_seas_vacc_effective',\n",
    "#        'opinion_seas_risk', 'opinion_seas_sick_from_vacc', 'household_adults',\n",
    "#        'household_children']:\n",
    "#     sns.scatterplot(data=df1, x=i, y='h1n1_vaccine')\n",
    "#     plt.show()"
   ]
  },
  {
   "cell_type": "code",
   "execution_count": null,
   "id": "a168737c",
   "metadata": {},
   "outputs": [],
   "source": [
    "df1.select_dtypes(include='number').columns\n"
   ]
  },
  {
   "cell_type": "code",
   "execution_count": null,
   "id": "834e8a24",
   "metadata": {},
   "outputs": [],
   "source": [
    "numeric_cols = df1.select_dtypes(include='number').columns\n",
    "n = len(numeric_cols)\n",
    "\n",
    "# Create subplots (adjust rows/cols depending on number of features)\n",
    "fig, axes = plt.subplots(nrows=(n // 3) + 1, ncols=3, figsize=(15, 12))\n",
    "axes = axes.flatten()\n",
    "\n",
    "for i, col in enumerate(numeric_cols):\n",
    "    sns.boxplot(y=df1[col], ax=axes[i])\n",
    "    axes[i].set_title(f\"Boxplot of {col}\")\n",
    "\n",
    "# Remove empty subplots if any\n",
    "for j in range(i+1, len(axes)):\n",
    "    fig.delaxes(axes[j])\n",
    "\n",
    "plt.tight_layout()\n",
    "plt.show()"
   ]
  },
  {
   "cell_type": "code",
   "execution_count": null,
   "id": "b6dc4e31",
   "metadata": {},
   "outputs": [],
   "source": [
    "df1_new.value_counts()"
   ]
  },
  {
   "cell_type": "code",
   "execution_count": null,
   "id": "09d0b61c",
   "metadata": {},
   "outputs": [],
   "source": [
    "# checking classing imbalance\n",
    "df1_new['h1n1_vaccine'].value_counts(normalize=False)\n"
   ]
  },
  {
   "cell_type": "code",
   "execution_count": null,
   "id": "c385cbfd",
   "metadata": {},
   "outputs": [],
   "source": [
    "df1_new.columns"
   ]
  },
  {
   "cell_type": "code",
   "execution_count": null,
   "id": "739d6a64",
   "metadata": {},
   "outputs": [],
   "source": [
    "df1_new.info()"
   ]
  },
  {
   "cell_type": "code",
   "execution_count": null,
   "id": "e2ed1f0a",
   "metadata": {},
   "outputs": [],
   "source": [
    "df1_new.shape"
   ]
  },
  {
   "cell_type": "code",
   "execution_count": null,
   "id": "af67d063",
   "metadata": {},
   "outputs": [],
   "source": [
    "df1_new.columns"
   ]
  },
  {
   "cell_type": "code",
   "execution_count": null,
   "id": "aca20250",
   "metadata": {},
   "outputs": [],
   "source": [
    "df1_new['hhs_geo_region'].unique()"
   ]
  },
  {
   "cell_type": "code",
   "execution_count": null,
   "id": "2640d4a2",
   "metadata": {},
   "outputs": [],
   "source": [
    "# check for categorical columns check which method to use for encoding\n",
    "categorical_cols = df1.select_dtypes(include='object').columns\n",
    "for col in categorical_cols:\n",
    "    print(f\"Column: {col}\")\n",
    "    print(df1[col].value_counts())\n",
    "    print(\"\\n\")\n",
    "    "
   ]
  },
  {
   "cell_type": "code",
   "execution_count": null,
   "id": "140504f1",
   "metadata": {},
   "outputs": [],
   "source": []
  },
  {
   "cell_type": "markdown",
   "id": "9e2c2b9a",
   "metadata": {},
   "source": [
    "## 3. Data Preparation\n"
   ]
  },
  {
   "cell_type": "code",
   "execution_count": null,
   "id": "5284b596",
   "metadata": {},
   "outputs": [],
   "source": [
    "df1.head()"
   ]
  },
  {
   "cell_type": "code",
   "execution_count": null,
   "id": "63ff7f75",
   "metadata": {},
   "outputs": [],
   "source": [
    "df1['household_children'].value_counts()"
   ]
  },
  {
   "cell_type": "code",
   "execution_count": null,
   "id": "a7d8ab2d",
   "metadata": {},
   "outputs": [],
   "source": [
    "df1.info()"
   ]
  },
  {
   "cell_type": "markdown",
   "id": "f7165f6a",
   "metadata": {},
   "source": [
    "* droping irrelevant columns and also columns with highest missing values\n",
    "* impute columns with less missing values \n",
    "* perform class imbalance\n",
    "* onehot encoding\n",
    "* "
   ]
  },
  {
   "cell_type": "code",
   "execution_count": null,
   "id": "61a7fe9a",
   "metadata": {},
   "outputs": [],
   "source": [
    "# picking the columns that i want to use for my analysis\n",
    "df1_new = df1[['h1n1_concern', 'h1n1_knowledge', 'behavioral_antiviral_meds',\n",
    "       'behavioral_avoidance', 'behavioral_face_mask', 'behavioral_wash_hands',\n",
    "       'behavioral_large_gatherings', 'behavioral_outside_home',\n",
    "       'behavioral_touch_face', 'doctor_recc_h1n1', 'doctor_recc_seasonal',\n",
    "       'chronic_med_condition', 'child_under_6_months', 'health_worker',\n",
    "       'opinion_h1n1_vacc_effective', 'opinion_h1n1_risk',\n",
    "       'opinion_h1n1_sick_from_vacc', 'opinion_seas_vacc_effective',\n",
    "       'opinion_seas_risk', 'opinion_seas_sick_from_vacc', 'age_group',\n",
    "       'education', 'race', 'sex', 'income_poverty', 'marital_status',\n",
    "       'rent_or_own', 'employment_status', 'hhs_geo_region', 'census_msa',\n",
    "       'household_adults', 'household_children', 'h1n1_vaccine']].copy()\n"
   ]
  },
  {
   "cell_type": "markdown",
   "id": "9e6c9669",
   "metadata": {},
   "source": [
    "**We decided to drop the `employment_occupation`, `employment_industry` and `health_insurance` since they have over 40% missing values**"
   ]
  },
  {
   "cell_type": "code",
   "execution_count": null,
   "id": "4e93fdb4",
   "metadata": {},
   "outputs": [],
   "source": [
    "df1_new.columns"
   ]
  },
  {
   "cell_type": "code",
   "execution_count": null,
   "id": "25c23599",
   "metadata": {},
   "outputs": [],
   "source": []
  },
  {
   "cell_type": "code",
   "execution_count": null,
   "id": "83f69b87",
   "metadata": {},
   "outputs": [],
   "source": [
    "df1_new.isnull().sum()"
   ]
  },
  {
   "cell_type": "code",
   "execution_count": null,
   "id": "e5b8cf3b",
   "metadata": {},
   "outputs": [],
   "source": [
    "# impute missing categorical columns with mode\n",
    "for col in df1_new.select_dtypes(include='float64').columns:\n",
    "    df1_new[col].fillna(df1_new[col].mode()[0], inplace=True)\n",
    "df1_new.isnull().sum()\n",
    "\n"
   ]
  },
  {
   "cell_type": "code",
   "execution_count": null,
   "id": "c48a1352",
   "metadata": {},
   "outputs": [],
   "source": [
    "df1_new.head()"
   ]
  },
  {
   "cell_type": "code",
   "execution_count": null,
   "id": "00770418",
   "metadata": {},
   "outputs": [],
   "source": [
    "# onehot encoding for categorical variables for int too\n",
    "df1_encoded = pd.get_dummies(df1_new, drop_first=True).astype(int)\n",
    "df1_encoded.head()\n",
    "\n"
   ]
  },
  {
   "cell_type": "code",
   "execution_count": null,
   "id": "90abdc71",
   "metadata": {},
   "outputs": [],
   "source": [
    "df1_encoded.dtypes"
   ]
  },
  {
   "cell_type": "code",
   "execution_count": null,
   "id": "298276e2",
   "metadata": {},
   "outputs": [],
   "source": [
    "# checking for class imbalance\n",
    "df1_encoded['h1n1_vaccine'].value_counts()"
   ]
  },
  {
   "cell_type": "code",
   "execution_count": null,
   "id": "71bb274c",
   "metadata": {},
   "outputs": [],
   "source": [
    "# handling class imbalance with SMOTE where minority class is oversampled\n",
    "from imblearn.over_sampling import SMOTE\n",
    "X = df1_encoded.drop('h1n1_vaccine', axis=1)\n",
    "y = df1_encoded['h1n1_vaccine']\n",
    "smote = SMOTE(random_state=42)\n",
    "X_res, y_res = smote.fit_resample(X, y)\n",
    "X_res.shape, y_res.shape\n"
   ]
  },
  {
   "cell_type": "code",
   "execution_count": null,
   "id": "b1fbfeae",
   "metadata": {},
   "outputs": [],
   "source": [
    "# distribution of target variable after resampling\n",
    "y_res.value_counts()"
   ]
  },
  {
   "cell_type": "markdown",
   "id": "90d97697",
   "metadata": {},
   "source": [
    "## 4. MODELING LOGISTIC"
   ]
  },
  {
   "cell_type": "code",
   "execution_count": null,
   "id": "dedd8196",
   "metadata": {},
   "outputs": [],
   "source": [
    "# importing libraries for model building\n",
    "from sklearn.linear_model import LogisticRegression\n",
    "from sklearn.model_selection import train_test_split\n",
    "from sklearn.metrics import classification_report, confusion_matrix, accuracy_score"
   ]
  },
  {
   "cell_type": "code",
   "execution_count": null,
   "id": "f592cb4b",
   "metadata": {},
   "outputs": [],
   "source": [
    "X_train, X_test, y_train, y_test = train_test_split(X_res, y_res, test_size=0.2, random_state=42)"
   ]
  },
  {
   "cell_type": "code",
   "execution_count": null,
   "id": "0097553b",
   "metadata": {},
   "outputs": [],
   "source": [
    "clf = LogisticRegression(max_iter=1000)\n",
    "clf.fit(X_train, y_train)\n",
    "y_pred = clf.predict(X_test)\n"
   ]
  },
  {
   "cell_type": "markdown",
   "id": "634edb92",
   "metadata": {},
   "source": [
    "## EVALUATION LOGISTIC"
   ]
  },
  {
   "cell_type": "code",
   "execution_count": null,
   "id": "f709247e",
   "metadata": {},
   "outputs": [],
   "source": [
    "acc = accuracy_score(y_test, y_pred)\n",
    "acc"
   ]
  },
  {
   "cell_type": "code",
   "execution_count": null,
   "id": "5e886dbf",
   "metadata": {},
   "outputs": [],
   "source": [
    "# using Recall, Precision, F1-score for model evaluation\n",
    "print(classification_report(y_test, y_pred))\n"
   ]
  },
  {
   "cell_type": "code",
   "execution_count": null,
   "id": "856a3688",
   "metadata": {},
   "outputs": [],
   "source": [
    "# CHECKING FOR OVERFITTING\n",
    "print(\"Training Accuracy:\", accuracy_score(y_train, clf.predict(X_train)))\n",
    "print(\"Testing Accuracy:\", accuracy_score(y_test, y_pred))"
   ]
  },
  {
   "cell_type": "code",
   "execution_count": null,
   "id": "1f5d7d14",
   "metadata": {},
   "outputs": [],
   "source": [
    "# using confusion matrix for model evaluation\n",
    "cm = confusion_matrix(y_test, y_pred)\n",
    "plt.figure(figsize=(12,10))\n",
    "sns.heatmap(cm, annot=True, fmt='d', cmap='Blues', cbar=False)\n",
    "plt.xlabel('Predicted')\n",
    "plt.ylabel('Actual')\n",
    "plt.title('Confusion Matrix')\n",
    "plt.show()"
   ]
  },
  {
   "cell_type": "markdown",
   "id": "e61aa0bd",
   "metadata": {},
   "source": [
    "## MODELING DECISION TREE"
   ]
  },
  {
   "cell_type": "code",
   "execution_count": null,
   "id": "741837b7",
   "metadata": {},
   "outputs": [],
   "source": [
    "# developing a decision tree model\n",
    "from sklearn.tree import DecisionTreeClassifier\n",
    "dt_clf = DecisionTreeClassifier(random_state=42, criterion='entropy', max_depth=5)\n",
    "\n"
   ]
  },
  {
   "cell_type": "code",
   "execution_count": null,
   "id": "4bdc1031",
   "metadata": {},
   "outputs": [],
   "source": [
    "dt_clf.fit(X_train, y_train)    \n",
    "y_dt_pred = dt_clf.predict(X_test)"
   ]
  },
  {
   "cell_type": "markdown",
   "id": "3b35b0f6",
   "metadata": {},
   "source": [
    "## EVALUATION DECISION TREE"
   ]
  },
  {
   "cell_type": "code",
   "execution_count": null,
   "id": "c452aef6",
   "metadata": {},
   "outputs": [],
   "source": [
    "acc_dt = accuracy_score(y_test, y_dt_pred)\n",
    "acc_dt"
   ]
  },
  {
   "cell_type": "code",
   "execution_count": null,
   "id": "d5b7382f",
   "metadata": {},
   "outputs": [],
   "source": [
    "# CHECKING FOR OVERFITTING\n",
    "print(\"Training Accuracy:\", accuracy_score(y_train, dt_clf.predict(X_train)))\n",
    "print(\"Testing Accuracy:\", accuracy_score(y_test, y_dt_pred))\n"
   ]
  },
  {
   "cell_type": "code",
   "execution_count": null,
   "id": "ebe4ab11",
   "metadata": {},
   "outputs": [],
   "source": [
    "# using confusion matrix for model evaluation for decision tree\n",
    "cm_dt = confusion_matrix(y_test, y_dt_pred)\n",
    "plt.figure(figsize=(12,10))\n",
    "sns.heatmap(cm_dt, annot=True, fmt='d', cmap='Greens', cbar=False)\n",
    "plt.xlabel('Predicted')\n",
    "plt.ylabel('Actual')\n"
   ]
  },
  {
   "cell_type": "code",
   "execution_count": null,
   "id": "d59a20dc",
   "metadata": {},
   "outputs": [],
   "source": []
  },
  {
   "cell_type": "code",
   "execution_count": null,
   "id": "493a7877",
   "metadata": {},
   "outputs": [],
   "source": [
    "# checking for correlation for numerical columns\n",
    "# plt.figure(figsize=(10,8))\n",
    "# sns.heatmap(df1_new.corr(), annot=True, cmap='coolwarm')\n",
    "# plt.title('Correlation Matrix')\n"
   ]
  },
  {
   "cell_type": "code",
   "execution_count": null,
   "id": "79c474ca",
   "metadata": {},
   "outputs": [],
   "source": [
    "\n",
    "# df1_new"
   ]
  },
  {
   "cell_type": "code",
   "execution_count": null,
   "id": "e5676c5f",
   "metadata": {},
   "outputs": [],
   "source": [
    "# s = df1.select_dtypes(include='number').corr()\n",
    "# s"
   ]
  },
  {
   "cell_type": "code",
   "execution_count": null,
   "id": "db37bdca",
   "metadata": {},
   "outputs": [],
   "source": [
    "\n",
    "# plt.figure(figsize=(25,15))\n",
    "# sns.heatmap(s, annot=True, cmap='coolwarm')"
   ]
  },
  {
   "cell_type": "code",
   "execution_count": null,
   "id": "1b101505",
   "metadata": {},
   "outputs": [],
   "source": [
    "# df1.describe()"
   ]
  },
  {
   "cell_type": "code",
   "execution_count": null,
   "id": "cb249afe",
   "metadata": {},
   "outputs": [],
   "source": [
    "# df1.info()"
   ]
  },
  {
   "cell_type": "code",
   "execution_count": null,
   "id": "8b0b6e6e",
   "metadata": {},
   "outputs": [],
   "source": [
    "# df1.isnull().sum()"
   ]
  }
 ],
 "metadata": {
  "kernelspec": {
   "display_name": "Python 3 (ipykernel)",
   "language": "python",
   "name": "python3"
  },
  "language_info": {
   "codemirror_mode": {
    "name": "ipython",
    "version": 3
   },
   "file_extension": ".py",
   "mimetype": "text/x-python",
   "name": "python",
   "nbconvert_exporter": "python",
   "pygments_lexer": "ipython3",
   "version": "3.12.7"
  }
 },
 "nbformat": 4,
 "nbformat_minor": 5
}
