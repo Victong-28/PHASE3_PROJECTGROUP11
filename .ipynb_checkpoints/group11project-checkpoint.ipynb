{
 "cells": [
  {
   "cell_type": "markdown",
   "id": "e90cc4d4",
   "metadata": {},
   "source": [
    "## 1. Business Understanding\n",
    "### 1.1 Business Overview\n",
    "#### 1.1.0 H1N1 influenza\n",
    " H1N1 is a type of Influenza A virus that infects the nose, throat, and lungs. It was originally called \"swine flu\" because it resembled a flu virus that affects pigs. The H1N1 virus that caused the 2009 pandemic contained genetic material from avian, swine, and human influenza viruses. The H1N1 virus caused the deadly \"Spanish flu\" pandemic in 1918. A different strain of H1N1 caused a pandemic in 2009, but it is now considered a regular, seasonal flu virus. H1N1 is contagious and spreads from person to person through coughs and sneezes. Its symptoms are similar to other types of flu and can include fever, cough, sore throat, body aches, and fatigue. \n",
    "\n",
    " The 2009 H1N1 influenza pandemic highlighted the importance of vaccination campaigns in preventing widespread illness. Despite the availability of both H1N1 and seasonal flu vaccines, vaccination rates varied significantly across demographic groups. Factors such as personal health behaviors, medical access, and perceptions of vaccine safety played a major role in whether individuals chose to get vaccinated.\n",
    "\n",
    "As the world continues to face public health challenges, such as the COVID-19 pandemic, gaining insight into the drivers of vaccine uptake remains critical. By analyzing survey data from the 2009 National H1N1 Flu Survey, we can explore how people’s backgrounds, health conditions, opinions, and behaviors relate to their vaccination decisions.\n",
    "\n",
    "#### 1.1.1 Seasonal flu vaccine\n",
    " Seasonal flu vaccine is an annual vaccination that protects against the influenza viruses predicted to be the most common in the coming season. The vaccine is updated every year. It typically includes protection against two influenza A viruses (one H1N1 and one H3N2 subtype) and one or two influenza B viruses. Administration, It is offered as either an injection (shot) containing an inactivated (killed) virus or as a nasal spray containing a weakened live virus.\n",
    "\n",
    "\n",
    "**NOTE: H1N1 is a type of flu, while the seasonal flu vaccine is a tool used to prevent it and other circulating flu strains.**\n",
    "\n",
    "### 1.2 Problem Statement\n",
    "\n",
    "* During the 2009 H1N1 influenza pandemic, vaccination was one of the most effective strategies for reducing infection and preventing severe illness. However, not all individuals chose to get vaccinated, and uptake rates varied across different demographic and socioeconomic groups. Understanding the factors that influence vaccine adoption is critical for designing effective public health interventions.This project aims to develop a machine learning model that predicts whether an individual did not receive the H1N1 flu vaccine based on their demographic information, health conditions, behaviors, and opinions collected in the National 2009 H1N1 Flu Survey.\n",
    "\n",
    "\n",
    "\n",
    "### 1.3 Business Objectives\n",
    "\n",
    "#### 1.3.0 Main objective\n",
    "* To develop a model that will Predict whether an individual received the H1N1 vaccine.\n",
    "\n",
    "#### 1.3.1 Specific Objectives.\n",
    "* To identify which age group, sex, race and chronic_med_condition persons received the H1N1 vaccine\n",
    "* To analyze the demographic, behavioral, and medical characteristics of survey respondents and determine their association with H1N1 vaccine uptake.\n",
    "* To identify the most influential features affecting vaccine uptake, providing insights that can guide targeted public health interventions and awareness campaigns.\n",
    "\n",
    "#### 1.3.2 Research Questions.\n",
    "* What demographic factors influence whether an individual receives the H1N1 vaccine?\n",
    "* What behavioral factors influence whether an individual receives the H1N1 vaccine?\n",
    "* What are the medical factors influence whether an individual receives the H1N1 vaccine?\n",
    "* How can the insights from the predictive model help public health officials design targeted campaigns to increase vaccination rates?\n",
    "\n",
    "### 1.4 Success criteria\n",
    "* If we build a model that will corectly predict whether an individual received the H1N1 vaccine."
   ]
  },
  {
   "cell_type": "markdown",
   "id": "c4ad0858",
   "metadata": {},
   "source": [
    "## 2. Data Understanding."
   ]
  },
  {
   "cell_type": "code",
   "execution_count": 408,
   "id": "e327b93d",
   "metadata": {},
   "outputs": [],
   "source": [
    "import pandas as pd\n",
    "import numpy as np\n",
    "import matplotlib.pyplot as plt\n",
    "import seaborn as sns"
   ]
  },
  {
   "cell_type": "code",
   "execution_count": 409,
   "id": "1f6c6225",
   "metadata": {},
   "outputs": [
    {
     "data": {
      "text/html": [
       "<div>\n",
       "<style scoped>\n",
       "    .dataframe tbody tr th:only-of-type {\n",
       "        vertical-align: middle;\n",
       "    }\n",
       "\n",
       "    .dataframe tbody tr th {\n",
       "        vertical-align: top;\n",
       "    }\n",
       "\n",
       "    .dataframe thead th {\n",
       "        text-align: right;\n",
       "    }\n",
       "</style>\n",
       "<table border=\"1\" class=\"dataframe\">\n",
       "  <thead>\n",
       "    <tr style=\"text-align: right;\">\n",
       "      <th></th>\n",
       "      <th>respondent_id</th>\n",
       "      <th>h1n1_concern</th>\n",
       "      <th>h1n1_knowledge</th>\n",
       "      <th>behavioral_antiviral_meds</th>\n",
       "      <th>behavioral_avoidance</th>\n",
       "      <th>behavioral_face_mask</th>\n",
       "      <th>behavioral_wash_hands</th>\n",
       "      <th>behavioral_large_gatherings</th>\n",
       "      <th>behavioral_outside_home</th>\n",
       "      <th>behavioral_touch_face</th>\n",
       "      <th>...</th>\n",
       "      <th>rent_or_own</th>\n",
       "      <th>employment_status</th>\n",
       "      <th>hhs_geo_region</th>\n",
       "      <th>census_msa</th>\n",
       "      <th>household_adults</th>\n",
       "      <th>household_children</th>\n",
       "      <th>employment_industry</th>\n",
       "      <th>employment_occupation</th>\n",
       "      <th>h1n1_vaccine</th>\n",
       "      <th>seasonal_vaccine</th>\n",
       "    </tr>\n",
       "  </thead>\n",
       "  <tbody>\n",
       "    <tr>\n",
       "      <th>0</th>\n",
       "      <td>0</td>\n",
       "      <td>1.0</td>\n",
       "      <td>0.0</td>\n",
       "      <td>0.0</td>\n",
       "      <td>0.0</td>\n",
       "      <td>0.0</td>\n",
       "      <td>0.0</td>\n",
       "      <td>0.0</td>\n",
       "      <td>1.0</td>\n",
       "      <td>1.0</td>\n",
       "      <td>...</td>\n",
       "      <td>Own</td>\n",
       "      <td>Not in Labor Force</td>\n",
       "      <td>oxchjgsf</td>\n",
       "      <td>Non-MSA</td>\n",
       "      <td>0.0</td>\n",
       "      <td>0.0</td>\n",
       "      <td>NaN</td>\n",
       "      <td>NaN</td>\n",
       "      <td>0</td>\n",
       "      <td>0</td>\n",
       "    </tr>\n",
       "    <tr>\n",
       "      <th>1</th>\n",
       "      <td>1</td>\n",
       "      <td>3.0</td>\n",
       "      <td>2.0</td>\n",
       "      <td>0.0</td>\n",
       "      <td>1.0</td>\n",
       "      <td>0.0</td>\n",
       "      <td>1.0</td>\n",
       "      <td>0.0</td>\n",
       "      <td>1.0</td>\n",
       "      <td>1.0</td>\n",
       "      <td>...</td>\n",
       "      <td>Rent</td>\n",
       "      <td>Employed</td>\n",
       "      <td>bhuqouqj</td>\n",
       "      <td>MSA, Not Principle  City</td>\n",
       "      <td>0.0</td>\n",
       "      <td>0.0</td>\n",
       "      <td>pxcmvdjn</td>\n",
       "      <td>xgwztkwe</td>\n",
       "      <td>0</td>\n",
       "      <td>1</td>\n",
       "    </tr>\n",
       "    <tr>\n",
       "      <th>2</th>\n",
       "      <td>2</td>\n",
       "      <td>1.0</td>\n",
       "      <td>1.0</td>\n",
       "      <td>0.0</td>\n",
       "      <td>1.0</td>\n",
       "      <td>0.0</td>\n",
       "      <td>0.0</td>\n",
       "      <td>0.0</td>\n",
       "      <td>0.0</td>\n",
       "      <td>0.0</td>\n",
       "      <td>...</td>\n",
       "      <td>Own</td>\n",
       "      <td>Employed</td>\n",
       "      <td>qufhixun</td>\n",
       "      <td>MSA, Not Principle  City</td>\n",
       "      <td>2.0</td>\n",
       "      <td>0.0</td>\n",
       "      <td>rucpziij</td>\n",
       "      <td>xtkaffoo</td>\n",
       "      <td>0</td>\n",
       "      <td>0</td>\n",
       "    </tr>\n",
       "    <tr>\n",
       "      <th>3</th>\n",
       "      <td>3</td>\n",
       "      <td>1.0</td>\n",
       "      <td>1.0</td>\n",
       "      <td>0.0</td>\n",
       "      <td>1.0</td>\n",
       "      <td>0.0</td>\n",
       "      <td>1.0</td>\n",
       "      <td>1.0</td>\n",
       "      <td>0.0</td>\n",
       "      <td>0.0</td>\n",
       "      <td>...</td>\n",
       "      <td>Rent</td>\n",
       "      <td>Not in Labor Force</td>\n",
       "      <td>lrircsnp</td>\n",
       "      <td>MSA, Principle City</td>\n",
       "      <td>0.0</td>\n",
       "      <td>0.0</td>\n",
       "      <td>NaN</td>\n",
       "      <td>NaN</td>\n",
       "      <td>0</td>\n",
       "      <td>1</td>\n",
       "    </tr>\n",
       "    <tr>\n",
       "      <th>4</th>\n",
       "      <td>4</td>\n",
       "      <td>2.0</td>\n",
       "      <td>1.0</td>\n",
       "      <td>0.0</td>\n",
       "      <td>1.0</td>\n",
       "      <td>0.0</td>\n",
       "      <td>1.0</td>\n",
       "      <td>1.0</td>\n",
       "      <td>0.0</td>\n",
       "      <td>1.0</td>\n",
       "      <td>...</td>\n",
       "      <td>Own</td>\n",
       "      <td>Employed</td>\n",
       "      <td>qufhixun</td>\n",
       "      <td>MSA, Not Principle  City</td>\n",
       "      <td>1.0</td>\n",
       "      <td>0.0</td>\n",
       "      <td>wxleyezf</td>\n",
       "      <td>emcorrxb</td>\n",
       "      <td>0</td>\n",
       "      <td>0</td>\n",
       "    </tr>\n",
       "  </tbody>\n",
       "</table>\n",
       "<p>5 rows × 38 columns</p>\n",
       "</div>"
      ],
      "text/plain": [
       "   respondent_id  h1n1_concern  h1n1_knowledge  behavioral_antiviral_meds  \\\n",
       "0              0           1.0             0.0                        0.0   \n",
       "1              1           3.0             2.0                        0.0   \n",
       "2              2           1.0             1.0                        0.0   \n",
       "3              3           1.0             1.0                        0.0   \n",
       "4              4           2.0             1.0                        0.0   \n",
       "\n",
       "   behavioral_avoidance  behavioral_face_mask  behavioral_wash_hands  \\\n",
       "0                   0.0                   0.0                    0.0   \n",
       "1                   1.0                   0.0                    1.0   \n",
       "2                   1.0                   0.0                    0.0   \n",
       "3                   1.0                   0.0                    1.0   \n",
       "4                   1.0                   0.0                    1.0   \n",
       "\n",
       "   behavioral_large_gatherings  behavioral_outside_home  \\\n",
       "0                          0.0                      1.0   \n",
       "1                          0.0                      1.0   \n",
       "2                          0.0                      0.0   \n",
       "3                          1.0                      0.0   \n",
       "4                          1.0                      0.0   \n",
       "\n",
       "   behavioral_touch_face  ...  rent_or_own   employment_status  \\\n",
       "0                    1.0  ...          Own  Not in Labor Force   \n",
       "1                    1.0  ...         Rent            Employed   \n",
       "2                    0.0  ...          Own            Employed   \n",
       "3                    0.0  ...         Rent  Not in Labor Force   \n",
       "4                    1.0  ...          Own            Employed   \n",
       "\n",
       "   hhs_geo_region                census_msa  household_adults  \\\n",
       "0        oxchjgsf                   Non-MSA               0.0   \n",
       "1        bhuqouqj  MSA, Not Principle  City               0.0   \n",
       "2        qufhixun  MSA, Not Principle  City               2.0   \n",
       "3        lrircsnp       MSA, Principle City               0.0   \n",
       "4        qufhixun  MSA, Not Principle  City               1.0   \n",
       "\n",
       "   household_children  employment_industry  employment_occupation  \\\n",
       "0                 0.0                  NaN                    NaN   \n",
       "1                 0.0             pxcmvdjn               xgwztkwe   \n",
       "2                 0.0             rucpziij               xtkaffoo   \n",
       "3                 0.0                  NaN                    NaN   \n",
       "4                 0.0             wxleyezf               emcorrxb   \n",
       "\n",
       "   h1n1_vaccine  seasonal_vaccine  \n",
       "0             0                 0  \n",
       "1             0                 1  \n",
       "2             0                 0  \n",
       "3             0                 1  \n",
       "4             0                 0  \n",
       "\n",
       "[5 rows x 38 columns]"
      ]
     },
     "execution_count": 409,
     "metadata": {},
     "output_type": "execute_result"
    }
   ],
   "source": [
    "#H1N1 and Seasonal Flu Vaccines\n",
    "df1 = pd.read_csv('H1N1_Flu_Vaccines.csv')\n",
    "df1.head()"
   ]
  },
  {
   "cell_type": "markdown",
   "id": "2182709f",
   "metadata": {},
   "source": [
    "### Describtion of Data\n",
    "\n",
    "* Data format: CSV file (H1N1_Flu_Vaccines.csv).\n",
    "* Number of records (rows): 26,000 respondents (varies depending on version of dataset).\n",
    "* Number of fields (columns): 36 features + 2 target labels (h1n1_vaccine, seasonal_vaccine).\n",
    "* Field identities: Columns represent demographic, behavioral, medical, and opinion-based survey responses (e.g., age_group, sex, h1n1_concern, doctor_recc_h1n1, employment_status)."
   ]
  },
  {
   "cell_type": "markdown",
   "id": "c2a7e290",
   "metadata": {},
   "source": [
    "* Missing values: Some fields (like employment_industry, employment_occupation, health_insurance) have missing data.\n",
    "\n",
    "* Inconsistent entries: Check for unexpected values (e.g., misspelled categories, out-of-range numbers).\n",
    "\n",
    "* Imbalanced data: If far more people did not vaccinate compared to those who did, models may get biased toward predicting \"not vaccinated.\"\n",
    "\n",
    "* Data types: Ensure categorical features are encoded properly (e.g., strings vs. integers).\n",
    "\n",
    "* Duplicates: Check if any respondents appear more than once."
   ]
  },
  {
   "cell_type": "markdown",
   "id": "11984dde",
   "metadata": {},
   "source": [
    "### Vaccine Targets (Dependent Variables)\n",
    "\n",
    "**h1n1_vaccine → Did the person receive the H1N1 vaccine? (1 = yes, 0 = no).**\n",
    "\n",
    "**seasonal_vaccine → Did the person receive the seasonal flu vaccine? (1 = yes, 0 = no).**\n",
    "* respondent_id → Unique ID for each survey participant.\n",
    "* h1n1_concern → Level of concern about H1N1 flu (e.g., not at all, somewhat, very concerned).\n",
    "* h1n1_knowledge → Self-rated knowledge about H1N1 flu (low, medium, high).\n",
    "* behavioral_antiviral_meds → Did they take antiviral medications to prevent flu?\n",
    "* behavioral_avoidance → Did they avoid large gatherings?\n",
    "* behavioral_face_mask → Did they wear a face mask?\n",
    "* behavioral_wash_hands → Did they wash hands frequently?\n",
    "* behavioral_large_gatherings → Did they avoid large gatherings?\n",
    "* behavioral_outside_home → Did they limit time outside home?\n",
    "* behavioral_touch_face → Did they avoid touching face?\n",
    "* doctor_recc_h1n1 → Did a doctor recommend the H1N1 vaccine?\n",
    "* doctor_recc_seasonal → Did a doctor recommend the seasonal flu vaccine?\n",
    "* chronic_med_condition → Does the person have a chronic medical condition (e.g., diabetes, asthma)?\n",
    "* child_under_6_months → Is there a child under 6 months old in the household? (since babies can’t be vaccinated).\n",
    "* health_worker → Is the person a health care worker?\n",
    "* health_insurance → Do they have health insurance coverage?\n",
    "* opinion_h1n1_vacc_effective → Belief in H1N1 vaccine effectiveness.\n",
    "* opinion_h1n1_risk → Perceived personal risk of getting H1N1 flu.\n",
    "* opinion_h1n1_sick_from_vacc → Belief that H1N1 vaccine might cause sickness.\n",
    "* opinion_seas_vacc_effective → Belief in seasonal flu vaccine effectiveness.\n",
    "* opinion_seas_risk → Perceived personal risk of getting seasonal flu.\n",
    "* opinion_seas_sick_from_vacc → Belief that seasonal flu vaccine might cause sickness.\n",
    "* age_group → Age category of respondent (e.g., 18–34, 35–44, 65+).\n",
    "* education → Education level (e.g., less than high school, some college, college graduate).\n",
    "* race → Self-reported race/ethnicity.\n",
    "* sex → Gender of respondent.\n",
    "* income_poverty → Household income relative to poverty line.\n",
    "* marital_status → Married, single, divorced, etc.\n",
    "* rent_or_own → Housing situation (rent or own).\n",
    "* employment_status → Employment status (employed, unemployed, retired).\n",
    "* employment_industry → Industry where respondent works.\n",
    "* employment_occupation → Occupation of respondent.\n",
    "* hhs_geo_region → U.S. Department of Health and Human Services region (geographic code).\n",
    "* census_msa → Metropolitan Statistical Area (urban/rural type).\n",
    "* household_adults → Number of adults in the household.\n",
    "* household_children → Number of children in the household."
   ]
  },
  {
   "cell_type": "code",
   "execution_count": 410,
   "id": "e8b89f5b",
   "metadata": {},
   "outputs": [
    {
     "name": "stdout",
     "output_type": "stream",
     "text": [
      "<class 'pandas.core.frame.DataFrame'>\n",
      "RangeIndex: 26707 entries, 0 to 26706\n",
      "Data columns (total 38 columns):\n",
      " #   Column                       Non-Null Count  Dtype  \n",
      "---  ------                       --------------  -----  \n",
      " 0   respondent_id                26707 non-null  int64  \n",
      " 1   h1n1_concern                 26615 non-null  float64\n",
      " 2   h1n1_knowledge               26591 non-null  float64\n",
      " 3   behavioral_antiviral_meds    26636 non-null  float64\n",
      " 4   behavioral_avoidance         26499 non-null  float64\n",
      " 5   behavioral_face_mask         26688 non-null  float64\n",
      " 6   behavioral_wash_hands        26665 non-null  float64\n",
      " 7   behavioral_large_gatherings  26620 non-null  float64\n",
      " 8   behavioral_outside_home      26625 non-null  float64\n",
      " 9   behavioral_touch_face        26579 non-null  float64\n",
      " 10  doctor_recc_h1n1             24547 non-null  float64\n",
      " 11  doctor_recc_seasonal         24547 non-null  float64\n",
      " 12  chronic_med_condition        25736 non-null  float64\n",
      " 13  child_under_6_months         25887 non-null  float64\n",
      " 14  health_worker                25903 non-null  float64\n",
      " 15  health_insurance             14433 non-null  float64\n",
      " 16  opinion_h1n1_vacc_effective  26316 non-null  float64\n",
      " 17  opinion_h1n1_risk            26319 non-null  float64\n",
      " 18  opinion_h1n1_sick_from_vacc  26312 non-null  float64\n",
      " 19  opinion_seas_vacc_effective  26245 non-null  float64\n",
      " 20  opinion_seas_risk            26193 non-null  float64\n",
      " 21  opinion_seas_sick_from_vacc  26170 non-null  float64\n",
      " 22  age_group                    26707 non-null  object \n",
      " 23  education                    25300 non-null  object \n",
      " 24  race                         26707 non-null  object \n",
      " 25  sex                          26707 non-null  object \n",
      " 26  income_poverty               22284 non-null  object \n",
      " 27  marital_status               25299 non-null  object \n",
      " 28  rent_or_own                  24665 non-null  object \n",
      " 29  employment_status            25244 non-null  object \n",
      " 30  hhs_geo_region               26707 non-null  object \n",
      " 31  census_msa                   26707 non-null  object \n",
      " 32  household_adults             26458 non-null  float64\n",
      " 33  household_children           26458 non-null  float64\n",
      " 34  employment_industry          13377 non-null  object \n",
      " 35  employment_occupation        13237 non-null  object \n",
      " 36  h1n1_vaccine                 26707 non-null  int64  \n",
      " 37  seasonal_vaccine             26707 non-null  int64  \n",
      "dtypes: float64(23), int64(3), object(12)\n",
      "memory usage: 7.7+ MB\n"
     ]
    }
   ],
   "source": [
    "df1.info()"
   ]
  },
  {
   "cell_type": "code",
   "execution_count": 411,
   "id": "ec986bc1",
   "metadata": {},
   "outputs": [
    {
     "data": {
      "text/plain": [
       "Index(['respondent_id', 'h1n1_concern', 'h1n1_knowledge',\n",
       "       'behavioral_antiviral_meds', 'behavioral_avoidance',\n",
       "       'behavioral_face_mask', 'behavioral_wash_hands',\n",
       "       'behavioral_large_gatherings', 'behavioral_outside_home',\n",
       "       'behavioral_touch_face', 'doctor_recc_h1n1', 'doctor_recc_seasonal',\n",
       "       'chronic_med_condition', 'child_under_6_months', 'health_worker',\n",
       "       'health_insurance', 'opinion_h1n1_vacc_effective', 'opinion_h1n1_risk',\n",
       "       'opinion_h1n1_sick_from_vacc', 'opinion_seas_vacc_effective',\n",
       "       'opinion_seas_risk', 'opinion_seas_sick_from_vacc', 'age_group',\n",
       "       'education', 'race', 'sex', 'income_poverty', 'marital_status',\n",
       "       'rent_or_own', 'employment_status', 'hhs_geo_region', 'census_msa',\n",
       "       'household_adults', 'household_children', 'employment_industry',\n",
       "       'employment_occupation', 'h1n1_vaccine', 'seasonal_vaccine'],\n",
       "      dtype='object')"
      ]
     },
     "execution_count": 411,
     "metadata": {},
     "output_type": "execute_result"
    }
   ],
   "source": [
    "df1.columns"
   ]
  },
  {
   "cell_type": "code",
   "execution_count": 412,
   "id": "b4d9909d",
   "metadata": {},
   "outputs": [
    {
     "data": {
      "text/plain": [
       "respondent_id                   0.000000\n",
       "h1n1_concern                    0.344479\n",
       "h1n1_knowledge                  0.434343\n",
       "behavioral_antiviral_meds       0.265848\n",
       "behavioral_avoidance            0.778822\n",
       "behavioral_face_mask            0.071142\n",
       "behavioral_wash_hands           0.157262\n",
       "behavioral_large_gatherings     0.325757\n",
       "behavioral_outside_home         0.307036\n",
       "behavioral_touch_face           0.479275\n",
       "doctor_recc_h1n1                8.087767\n",
       "doctor_recc_seasonal            8.087767\n",
       "chronic_med_condition           3.635751\n",
       "child_under_6_months            3.070356\n",
       "health_worker                   3.010447\n",
       "health_insurance               45.957989\n",
       "opinion_h1n1_vacc_effective     1.464036\n",
       "opinion_h1n1_risk               1.452803\n",
       "opinion_h1n1_sick_from_vacc     1.479013\n",
       "opinion_seas_vacc_effective     1.729884\n",
       "opinion_seas_risk               1.924589\n",
       "opinion_seas_sick_from_vacc     2.010709\n",
       "age_group                       0.000000\n",
       "education                       5.268282\n",
       "race                            0.000000\n",
       "sex                             0.000000\n",
       "income_poverty                 16.561201\n",
       "marital_status                  5.272026\n",
       "rent_or_own                     7.645936\n",
       "employment_status               5.477965\n",
       "hhs_geo_region                  0.000000\n",
       "census_msa                      0.000000\n",
       "household_adults                0.932340\n",
       "household_children              0.932340\n",
       "employment_industry            49.912008\n",
       "employment_occupation          50.436215\n",
       "h1n1_vaccine                    0.000000\n",
       "seasonal_vaccine                0.000000\n",
       "dtype: float64"
      ]
     },
     "execution_count": 412,
     "metadata": {},
     "output_type": "execute_result"
    }
   ],
   "source": [
    "df1.isnull().sum()/df1.shape[0]*100"
   ]
  },
  {
   "cell_type": "code",
   "execution_count": 413,
   "id": "761ff87a",
   "metadata": {},
   "outputs": [
    {
     "data": {
      "text/plain": [
       "respondent_id                    int64\n",
       "h1n1_concern                   float64\n",
       "h1n1_knowledge                 float64\n",
       "behavioral_antiviral_meds      float64\n",
       "behavioral_avoidance           float64\n",
       "behavioral_face_mask           float64\n",
       "behavioral_wash_hands          float64\n",
       "behavioral_large_gatherings    float64\n",
       "behavioral_outside_home        float64\n",
       "behavioral_touch_face          float64\n",
       "doctor_recc_h1n1               float64\n",
       "doctor_recc_seasonal           float64\n",
       "chronic_med_condition          float64\n",
       "child_under_6_months           float64\n",
       "health_worker                  float64\n",
       "health_insurance               float64\n",
       "opinion_h1n1_vacc_effective    float64\n",
       "opinion_h1n1_risk              float64\n",
       "opinion_h1n1_sick_from_vacc    float64\n",
       "opinion_seas_vacc_effective    float64\n",
       "opinion_seas_risk              float64\n",
       "opinion_seas_sick_from_vacc    float64\n",
       "age_group                       object\n",
       "education                       object\n",
       "race                            object\n",
       "sex                             object\n",
       "income_poverty                  object\n",
       "marital_status                  object\n",
       "rent_or_own                     object\n",
       "employment_status               object\n",
       "hhs_geo_region                  object\n",
       "census_msa                      object\n",
       "household_adults               float64\n",
       "household_children             float64\n",
       "employment_industry             object\n",
       "employment_occupation           object\n",
       "h1n1_vaccine                     int64\n",
       "seasonal_vaccine                 int64\n",
       "dtype: object"
      ]
     },
     "execution_count": 413,
     "metadata": {},
     "output_type": "execute_result"
    }
   ],
   "source": [
    "df1.dtypes"
   ]
  },
  {
   "cell_type": "code",
   "execution_count": 414,
   "id": "0e1a1a4f",
   "metadata": {},
   "outputs": [
    {
     "data": {
      "text/plain": [
       "array([0, 1], dtype=int64)"
      ]
     },
     "execution_count": 414,
     "metadata": {},
     "output_type": "execute_result"
    }
   ],
   "source": [
    "df1['h1n1_vaccine'].unique()"
   ]
  },
  {
   "cell_type": "code",
   "execution_count": 415,
   "id": "66fbd9d4",
   "metadata": {},
   "outputs": [
    {
     "data": {
      "text/plain": [
       "array([0, 1], dtype=int64)"
      ]
     },
     "execution_count": 415,
     "metadata": {},
     "output_type": "execute_result"
    }
   ],
   "source": [
    "df1['seasonal_vaccine'].unique()"
   ]
  },
  {
   "cell_type": "code",
   "execution_count": 416,
   "id": "941e15bc",
   "metadata": {},
   "outputs": [
    {
     "data": {
      "text/plain": [
       "array([nan, 'xgwztkwe', 'xtkaffoo', 'emcorrxb', 'vlluhbov', 'xqwwgdyp',\n",
       "       'ccgxvspp', 'qxajmpny', 'kldqjyjy', 'mxkfnird', 'hfxkjkmi',\n",
       "       'bxpfxfdn', 'ukymxvdu', 'cmhcxjea', 'haliazsg', 'dlvbwzss',\n",
       "       'xzmlyyjv', 'oijqvulv', 'rcertsgn', 'tfqavkke', 'hodpvpew',\n",
       "       'uqqtjvyb', 'pvmttkik', 'dcjcmpih'], dtype=object)"
      ]
     },
     "execution_count": 416,
     "metadata": {},
     "output_type": "execute_result"
    }
   ],
   "source": [
    "df1['employment_occupation'].unique()"
   ]
  },
  {
   "cell_type": "code",
   "execution_count": 417,
   "id": "09a35f83",
   "metadata": {},
   "outputs": [
    {
     "data": {
      "text/plain": [
       "array([nan, 'pxcmvdjn', 'rucpziij', 'wxleyezf', 'saaquncn', 'xicduogh',\n",
       "       'ldnlellj', 'wlfvacwt', 'nduyfdeo', 'fcxhlnwr', 'vjjrobsf',\n",
       "       'arjwrbjb', 'atmlpfrs', 'msuufmds', 'xqicxuve', 'phxvnwax',\n",
       "       'dotnnunm', 'mfikgejo', 'cfqqtusy', 'mcubkhph', 'haxffmxo',\n",
       "       'qnlwzans'], dtype=object)"
      ]
     },
     "execution_count": 417,
     "metadata": {},
     "output_type": "execute_result"
    }
   ],
   "source": [
    "df1['employment_industry'].unique()"
   ]
  },
  {
   "cell_type": "code",
   "execution_count": 418,
   "id": "ceb01629",
   "metadata": {},
   "outputs": [
    {
     "data": {
      "text/plain": [
       "0"
      ]
     },
     "execution_count": 418,
     "metadata": {},
     "output_type": "execute_result"
    }
   ],
   "source": [
    "df1.duplicated().sum()"
   ]
  },
  {
   "cell_type": "code",
   "execution_count": 419,
   "id": "6e043a94",
   "metadata": {},
   "outputs": [],
   "source": [
    "# for i in [ 'h1n1_knowledge',\n",
    "#        'behavioral_antiviral_meds', 'behavioral_avoidance',\n",
    "#        'behavioral_face_mask', 'behavioral_wash_hands',\n",
    "#        'behavioral_large_gatherings', 'behavioral_outside_home',\n",
    "#        'behavioral_touch_face', 'doctor_recc_h1n1', 'doctor_recc_seasonal',\n",
    "#        'chronic_med_condition', 'child_under_6_months', 'health_worker',\n",
    "#         'opinion_h1n1_vacc_effective', 'opinion_h1n1_risk',\n",
    "#        'opinion_h1n1_sick_from_vacc', 'opinion_seas_vacc_effective',\n",
    "#        'opinion_seas_risk', 'opinion_seas_sick_from_vacc', 'household_adults',\n",
    "#        'household_children']:\n",
    "#     sns.scatterplot(data=df1, x=i, y='h1n1_vaccine')\n",
    "#     plt.show()"
   ]
  },
  {
   "cell_type": "code",
   "execution_count": 420,
   "id": "a168737c",
   "metadata": {},
   "outputs": [
    {
     "data": {
      "text/plain": [
       "Index(['respondent_id', 'h1n1_concern', 'h1n1_knowledge',\n",
       "       'behavioral_antiviral_meds', 'behavioral_avoidance',\n",
       "       'behavioral_face_mask', 'behavioral_wash_hands',\n",
       "       'behavioral_large_gatherings', 'behavioral_outside_home',\n",
       "       'behavioral_touch_face', 'doctor_recc_h1n1', 'doctor_recc_seasonal',\n",
       "       'chronic_med_condition', 'child_under_6_months', 'health_worker',\n",
       "       'health_insurance', 'opinion_h1n1_vacc_effective', 'opinion_h1n1_risk',\n",
       "       'opinion_h1n1_sick_from_vacc', 'opinion_seas_vacc_effective',\n",
       "       'opinion_seas_risk', 'opinion_seas_sick_from_vacc', 'household_adults',\n",
       "       'household_children', 'h1n1_vaccine', 'seasonal_vaccine'],\n",
       "      dtype='object')"
      ]
     },
     "execution_count": 420,
     "metadata": {},
     "output_type": "execute_result"
    }
   ],
   "source": [
    "df1.select_dtypes(include='number').columns\n"
   ]
  },
  {
   "cell_type": "code",
   "execution_count": 421,
   "id": "834e8a24",
   "metadata": {},
   "outputs": [
    {
     "data": {
      "image/png": "[encoded data removed]",
      "text/plain": [
       "<Figure size 1500x1200 with 26 Axes>"
      ]
     },
     "metadata": {},
     "output_type": "display_data"
    }
   ],
   "source": [
    "numeric_cols = df1.select_dtypes(include='number').columns\n",
    "n = len(numeric_cols)\n",
    "\n",
    "# Create subplots (adjust rows/cols depending on number of features)\n",
    "fig, axes = plt.subplots(nrows=(n // 3) + 1, ncols=3, figsize=(15, 12))\n",
    "axes = axes.flatten()\n",
    "\n",
    "for i, col in enumerate(numeric_cols):\n",
    "    sns.boxplot(y=df1[col], ax=axes[i])\n",
    "    axes[i].set_title(f\"Boxplot of {col}\")\n",
    "\n",
    "# Remove empty subplots if any\n",
    "for j in range(i+1, len(axes)):\n",
    "    fig.delaxes(axes[j])\n",
    "\n",
    "plt.tight_layout()\n",
    "plt.show()"
   ]
  },
  {
   "cell_type": "code",
   "execution_count": null,
   "id": "b6dc4e31",
   "metadata": {},
   "outputs": [
    {
     "data": {
      "text/plain": [
       "h1n1_concern  h1n1_knowledge  behavioral_antiviral_meds  behavioral_avoidance  behavioral_face_mask  behavioral_wash_hands  behavioral_large_gatherings  behavioral_outside_home  behavioral_touch_face  doctor_recc_h1n1  doctor_recc_seasonal  chronic_med_condition  child_under_6_months  health_worker  opinion_h1n1_vacc_effective  opinion_h1n1_risk  opinion_h1n1_sick_from_vacc  opinion_seas_vacc_effective  opinion_seas_risk  opinion_seas_sick_from_vacc  age_group      education         race               sex     income_poverty             marital_status  rent_or_own  employment_status   hhs_geo_region  census_msa                household_adults  household_children  seasonal_vaccine\n",
       "0.0           1.0             0.0                        0.0                   0.0                   0.0                    0.0                          0.0                      0.0                    0.0               0.0                   0.0                    0.0                   0.0            1.0                          1.0                1.0                          1.0                          1.0                1.0                          55 - 64 Years  Some College      White              Male    <= $75,000, Above Poverty  Married         Own          Employed            lzgpxyit        MSA, Not Principle  City  1.0               0.0                 0                   2\n",
       "              0.0             0.0                        0.0                   0.0                   0.0                    0.0                          0.0                      0.0                    0.0               0.0                   0.0                    0.0                   0.0            1.0                          1.0                1.0                          1.0                          1.0                1.0                          18 - 34 Years  College Graduate  Black              Male    > $75,000                  Married         Rent         Employed            atmpeygn        MSA, Not Principle  City  2.0               0.0                 0                   1\n",
       "2.0           1.0             0.0                        1.0                   1.0                   1.0                    1.0                          1.0                      1.0                    1.0               0.0                   0.0                    0.0                   0.0            4.0                          1.0                1.0                          5.0                          1.0                2.0                          55 - 64 Years  College Graduate  Hispanic           Female  <= $75,000, Above Poverty  Not Married     Rent         Not in Labor Force  kbazzjca        MSA, Principle City       1.0               0.0                 0                   1\n",
       "                                                                                                                                                                                                                           1.0                   0.0                    0.0                   0.0            4.0                          5.0                4.0                          2.0                          4.0                1.0                          18 - 34 Years  Some College      Other or Multiple  Male    <= $75,000, Above Poverty  Married         Own          Employed            lrircsnp        Non-MSA                   1.0               2.0                 0                   1\n",
       "                                                                                                                                                                                                                                                                                                                                          4.0                2.0                          5.0                          5.0                2.0                          45 - 54 Years  12 Years          White              Female  > $75,000                  Married         Own          Employed            atmpeygn        Non-MSA                   1.0               0.0                 1                   1\n",
       "                                                                                                                                                                                                                                                                                                                                                                                                                                                                                                                                                                                                                                                                                                                  ..\n",
       "1.0           2.0             0.0                        0.0                   0.0                   0.0                    0.0                          0.0                      0.0                    0.0               0.0                   0.0                    0.0                   0.0            5.0                          2.0                1.0                          5.0                          4.0                1.0                          35 - 44 Years  College Graduate  White              Male    > $75,000                  Not Married     Own          Not in Labor Force  fpwskwrf        MSA, Principle City       0.0               0.0                 0                   1\n",
       "                                                                                                                                                                                                                                                                                                                                                                                                                       2.0                1.0                          18 - 34 Years  College Graduate  White              Male    > $75,000                  Not Married     Rent         Employed            mlyzmhmf        MSA, Principle City       3.0               1.0                 0                   1\n",
       "                                                                                                                                                                                                                                                                                                                                                                                                                       1.0                2.0                          55 - 64 Years  College Graduate  White              Male    > $75,000                  Married         Own          Employed            dqpwygqj        MSA, Not Principle  City  1.0               0.0                 0                   1\n",
       "                                                                                                                                                                                                                                                                                                                                                                                                                                          1.0                          55 - 64 Years  12 Years          White              Female  > $75,000                  Married         Own          Not in Labor Force  lzgpxyit        MSA, Not Principle  City  1.0               0.0                 1                   1\n",
       "3.0           2.0             1.0                        1.0                   1.0                   1.0                    1.0                          1.0                      1.0                    1.0               1.0                   1.0                    0.0                   0.0            5.0                          4.0                4.0                          5.0                          4.0                5.0                          45 - 54 Years  College Graduate  Black              Female  > $75,000                  Married         Own          Not in Labor Force  qufhixun        MSA, Principle City       1.0               0.0                 1                   1\n",
       "Name: count, Length: 26706, dtype: int64"
      ]
     },
     "execution_count": 422,
     "metadata": {},
     "output_type": "execute_result"
    }
   ],
   "source": [
    "# df1_new.value_counts()"
   ]
  },
  {
   "cell_type": "code",
   "execution_count": 423,
   "id": "09d0b61c",
   "metadata": {},
   "outputs": [],
   "source": [
    "# checking classing imbalance\n",
    "# df1_new['h1n1_vaccine'].value_counts(normalize=False)\n"
   ]
  },
  {
   "cell_type": "code",
   "execution_count": 424,
   "id": "c385cbfd",
   "metadata": {},
   "outputs": [],
   "source": [
    "# df1_new.columns"
   ]
  },
  {
   "cell_type": "code",
   "execution_count": null,
   "id": "739d6a64",
   "metadata": {},
   "outputs": [
    {
     "name": "stdout",
     "output_type": "stream",
     "text": [
      "<class 'pandas.core.frame.DataFrame'>\n",
      "RangeIndex: 26707 entries, 0 to 26706\n",
      "Data columns (total 33 columns):\n",
      " #   Column                       Non-Null Count  Dtype  \n",
      "---  ------                       --------------  -----  \n",
      " 0   h1n1_concern                 26707 non-null  float64\n",
      " 1   h1n1_knowledge               26707 non-null  float64\n",
      " 2   behavioral_antiviral_meds    26707 non-null  float64\n",
      " 3   behavioral_avoidance         26707 non-null  float64\n",
      " 4   behavioral_face_mask         26707 non-null  float64\n",
      " 5   behavioral_wash_hands        26707 non-null  float64\n",
      " 6   behavioral_large_gatherings  26707 non-null  float64\n",
      " 7   behavioral_outside_home      26707 non-null  float64\n",
      " 8   behavioral_touch_face        26707 non-null  float64\n",
      " 9   doctor_recc_h1n1             26707 non-null  float64\n",
      " 10  doctor_recc_seasonal         26707 non-null  float64\n",
      " 11  chronic_med_condition        26707 non-null  float64\n",
      " 12  child_under_6_months         26707 non-null  float64\n",
      " 13  health_worker                26707 non-null  float64\n",
      " 14  opinion_h1n1_vacc_effective  26707 non-null  float64\n",
      " 15  opinion_h1n1_risk            26707 non-null  float64\n",
      " 16  opinion_h1n1_sick_from_vacc  26707 non-null  float64\n",
      " 17  opinion_seas_vacc_effective  26707 non-null  float64\n",
      " 18  opinion_seas_risk            26707 non-null  float64\n",
      " 19  opinion_seas_sick_from_vacc  26707 non-null  float64\n",
      " 20  age_group                    26707 non-null  object \n",
      " 21  education                    26707 non-null  object \n",
      " 22  race                         26707 non-null  object \n",
      " 23  sex                          26707 non-null  object \n",
      " 24  income_poverty               26707 non-null  object \n",
      " 25  marital_status               26707 non-null  object \n",
      " 26  rent_or_own                  26707 non-null  object \n",
      " 27  employment_status            26707 non-null  object \n",
      " 28  hhs_geo_region               26707 non-null  object \n",
      " 29  census_msa                   26707 non-null  object \n",
      " 30  household_adults             26707 non-null  float64\n",
      " 31  household_children           26707 non-null  float64\n",
      " 32  seasonal_vaccine             26707 non-null  int64  \n",
      "dtypes: float64(22), int64(1), object(10)\n",
      "memory usage: 6.7+ MB\n"
     ]
    }
   ],
   "source": [
    "# df1_new.info()"
   ]
  },
  {
   "cell_type": "code",
   "execution_count": null,
   "id": "e2ed1f0a",
   "metadata": {},
   "outputs": [
    {
     "data": {
      "text/plain": [
       "(26707, 33)"
      ]
     },
     "execution_count": 426,
     "metadata": {},
     "output_type": "execute_result"
    }
   ],
   "source": [
    "# df1_new.shape"
   ]
  },
  {
   "cell_type": "code",
   "execution_count": null,
   "id": "af67d063",
   "metadata": {},
   "outputs": [
    {
     "data": {
      "text/plain": [
       "Index(['h1n1_concern', 'h1n1_knowledge', 'behavioral_antiviral_meds',\n",
       "       'behavioral_avoidance', 'behavioral_face_mask', 'behavioral_wash_hands',\n",
       "       'behavioral_large_gatherings', 'behavioral_outside_home',\n",
       "       'behavioral_touch_face', 'doctor_recc_h1n1', 'doctor_recc_seasonal',\n",
       "       'chronic_med_condition', 'child_under_6_months', 'health_worker',\n",
       "       'opinion_h1n1_vacc_effective', 'opinion_h1n1_risk',\n",
       "       'opinion_h1n1_sick_from_vacc', 'opinion_seas_vacc_effective',\n",
       "       'opinion_seas_risk', 'opinion_seas_sick_from_vacc', 'age_group',\n",
       "       'education', 'race', 'sex', 'income_poverty', 'marital_status',\n",
       "       'rent_or_own', 'employment_status', 'hhs_geo_region', 'census_msa',\n",
       "       'household_adults', 'household_children', 'seasonal_vaccine'],\n",
       "      dtype='object')"
      ]
     },
     "execution_count": 427,
     "metadata": {},
     "output_type": "execute_result"
    }
   ],
   "source": [
    "# df1_new.columns"
   ]
  },
  {
   "cell_type": "code",
   "execution_count": null,
   "id": "aca20250",
   "metadata": {},
   "outputs": [
    {
     "data": {
      "text/plain": [
       "array(['oxchjgsf', 'bhuqouqj', 'qufhixun', 'lrircsnp', 'atmpeygn',\n",
       "       'lzgpxyit', 'fpwskwrf', 'mlyzmhmf', 'dqpwygqj', 'kbazzjca'],\n",
       "      dtype=object)"
      ]
     },
     "execution_count": 428,
     "metadata": {},
     "output_type": "execute_result"
    }
   ],
   "source": [
    "# df1_new['hhs_geo_region'].unique()"
   ]
  },
  {
   "cell_type": "code",
   "execution_count": 429,
   "id": "2640d4a2",
   "metadata": {},
   "outputs": [
    {
     "name": "stdout",
     "output_type": "stream",
     "text": [
      "Column: age_group\n",
      "age_group\n",
      "65+ Years        6843\n",
      "55 - 64 Years    5563\n",
      "45 - 54 Years    5238\n",
      "18 - 34 Years    5215\n",
      "35 - 44 Years    3848\n",
      "Name: count, dtype: int64\n",
      "\n",
      "\n",
      "Column: education\n",
      "education\n",
      "College Graduate    10097\n",
      "Some College         7043\n",
      "12 Years             5797\n",
      "< 12 Years           2363\n",
      "Name: count, dtype: int64\n",
      "\n",
      "\n",
      "Column: race\n",
      "race\n",
      "White                21222\n",
      "Black                 2118\n",
      "Hispanic              1755\n",
      "Other or Multiple     1612\n",
      "Name: count, dtype: int64\n",
      "\n",
      "\n",
      "Column: sex\n",
      "sex\n",
      "Female    15858\n",
      "Male      10849\n",
      "Name: count, dtype: int64\n",
      "\n",
      "\n",
      "Column: income_poverty\n",
      "income_poverty\n",
      "<= $75,000, Above Poverty    12777\n",
      "> $75,000                     6810\n",
      "Below Poverty                 2697\n",
      "Name: count, dtype: int64\n",
      "\n",
      "\n",
      "Column: marital_status\n",
      "marital_status\n",
      "Married        13555\n",
      "Not Married    11744\n",
      "Name: count, dtype: int64\n",
      "\n",
      "\n",
      "Column: rent_or_own\n",
      "rent_or_own\n",
      "Own     18736\n",
      "Rent     5929\n",
      "Name: count, dtype: int64\n",
      "\n",
      "\n",
      "Column: employment_status\n",
      "employment_status\n",
      "Employed              13560\n",
      "Not in Labor Force    10231\n",
      "Unemployed             1453\n",
      "Name: count, dtype: int64\n",
      "\n",
      "\n",
      "Column: hhs_geo_region\n",
      "hhs_geo_region\n",
      "lzgpxyit    4297\n",
      "fpwskwrf    3265\n",
      "qufhixun    3102\n",
      "oxchjgsf    2859\n",
      "kbazzjca    2858\n",
      "bhuqouqj    2846\n",
      "mlyzmhmf    2243\n",
      "lrircsnp    2078\n",
      "atmpeygn    2033\n",
      "dqpwygqj    1126\n",
      "Name: count, dtype: int64\n",
      "\n",
      "\n",
      "Column: census_msa\n",
      "census_msa\n",
      "MSA, Not Principle  City    11645\n",
      "MSA, Principle City          7864\n",
      "Non-MSA                      7198\n",
      "Name: count, dtype: int64\n",
      "\n",
      "\n",
      "Column: employment_industry\n",
      "employment_industry\n",
      "fcxhlnwr    2468\n",
      "wxleyezf    1804\n",
      "ldnlellj    1231\n",
      "pxcmvdjn    1037\n",
      "atmlpfrs     926\n",
      "arjwrbjb     871\n",
      "xicduogh     851\n",
      "mfikgejo     614\n",
      "vjjrobsf     527\n",
      "rucpziij     523\n",
      "xqicxuve     511\n",
      "saaquncn     338\n",
      "cfqqtusy     325\n",
      "nduyfdeo     286\n",
      "mcubkhph     275\n",
      "wlfvacwt     215\n",
      "dotnnunm     201\n",
      "haxffmxo     148\n",
      "msuufmds     124\n",
      "phxvnwax      89\n",
      "qnlwzans      13\n",
      "Name: count, dtype: int64\n",
      "\n",
      "\n",
      "Column: employment_occupation\n",
      "employment_occupation\n",
      "xtkaffoo    1778\n",
      "mxkfnird    1509\n",
      "emcorrxb    1270\n",
      "cmhcxjea    1247\n",
      "xgwztkwe    1082\n",
      "hfxkjkmi     766\n",
      "qxajmpny     548\n",
      "xqwwgdyp     485\n",
      "kldqjyjy     469\n",
      "uqqtjvyb     452\n",
      "tfqavkke     388\n",
      "ukymxvdu     372\n",
      "vlluhbov     354\n",
      "oijqvulv     344\n",
      "ccgxvspp     341\n",
      "bxpfxfdn     331\n",
      "haliazsg     296\n",
      "rcertsgn     276\n",
      "xzmlyyjv     248\n",
      "dlvbwzss     227\n",
      "hodpvpew     208\n",
      "dcjcmpih     148\n",
      "pvmttkik      98\n",
      "Name: count, dtype: int64\n",
      "\n",
      "\n"
     ]
    }
   ],
   "source": [
    "# check for categorical columns check which method to use for encoding\n",
    "categorical_cols = df1.select_dtypes(include='object').columns\n",
    "for col in categorical_cols:\n",
    "    print(f\"Column: {col}\")\n",
    "    print(df1[col].value_counts())\n",
    "    print(\"\\n\")\n",
    "    "
   ]
  },
  {
   "cell_type": "code",
   "execution_count": null,
   "id": "140504f1",
   "metadata": {},
   "outputs": [],
   "source": []
  },
  {
   "cell_type": "markdown",
   "id": "9e2c2b9a",
   "metadata": {},
   "source": [
    "## 3. Data Preparation\n"
   ]
  },
  {
   "cell_type": "code",
   "execution_count": null,
   "id": "a6a2df3e",
   "metadata": {},
   "outputs": [],
   "source": [
    "coor = df1.drop(['employment_occupation', 'employment_industry','h1n1_vaccine','health_insurance','respondent_id'], axis=1, inplace=True)"
   ]
  },
  {
   "cell_type": "code",
   "execution_count": null,
   "id": "d24fd1cf",
   "metadata": {},
   "outputs": [],
   "source": [
    "df_test= df1.copy()"
   ]
  },
  {
   "cell_type": "code",
   "execution_count": 431,
   "id": "5284b596",
   "metadata": {},
   "outputs": [
    {
     "data": {
      "text/plain": [
       "Index(['h1n1_concern', 'h1n1_knowledge', 'behavioral_antiviral_meds',\n",
       "       'behavioral_avoidance', 'behavioral_face_mask', 'behavioral_wash_hands',\n",
       "       'behavioral_large_gatherings', 'behavioral_outside_home',\n",
       "       'behavioral_touch_face', 'doctor_recc_h1n1', 'doctor_recc_seasonal',\n",
       "       'chronic_med_condition', 'child_under_6_months', 'health_worker',\n",
       "       'opinion_h1n1_vacc_effective', 'opinion_h1n1_risk',\n",
       "       'opinion_h1n1_sick_from_vacc', 'opinion_seas_vacc_effective',\n",
       "       'opinion_seas_risk', 'opinion_seas_sick_from_vacc', 'age_group',\n",
       "       'education', 'race', 'sex', 'income_poverty', 'marital_status',\n",
       "       'rent_or_own', 'employment_status', 'hhs_geo_region', 'census_msa',\n",
       "       'household_adults', 'household_children', 'seasonal_vaccine'],\n",
       "      dtype='object')"
      ]
     },
     "execution_count": 431,
     "metadata": {},
     "output_type": "execute_result"
    }
   ],
   "source": [
    "df1.columns"
   ]
  },
  {
   "cell_type": "code",
   "execution_count": 432,
   "id": "1fbcb969",
   "metadata": {},
   "outputs": [
    {
     "data": {
      "text/plain": [
       "h1n1_concern                   float64\n",
       "h1n1_knowledge                 float64\n",
       "behavioral_antiviral_meds      float64\n",
       "behavioral_avoidance           float64\n",
       "behavioral_face_mask           float64\n",
       "behavioral_wash_hands          float64\n",
       "behavioral_large_gatherings    float64\n",
       "behavioral_outside_home        float64\n",
       "behavioral_touch_face          float64\n",
       "doctor_recc_h1n1               float64\n",
       "doctor_recc_seasonal           float64\n",
       "chronic_med_condition          float64\n",
       "child_under_6_months           float64\n",
       "health_worker                  float64\n",
       "opinion_h1n1_vacc_effective    float64\n",
       "opinion_h1n1_risk              float64\n",
       "opinion_h1n1_sick_from_vacc    float64\n",
       "opinion_seas_vacc_effective    float64\n",
       "opinion_seas_risk              float64\n",
       "opinion_seas_sick_from_vacc    float64\n",
       "age_group                       object\n",
       "education                       object\n",
       "race                            object\n",
       "sex                             object\n",
       "income_poverty                  object\n",
       "marital_status                  object\n",
       "rent_or_own                     object\n",
       "employment_status               object\n",
       "hhs_geo_region                  object\n",
       "census_msa                      object\n",
       "household_adults               float64\n",
       "household_children             float64\n",
       "seasonal_vaccine                 int64\n",
       "dtype: object"
      ]
     },
     "execution_count": 432,
     "metadata": {},
     "output_type": "execute_result"
    }
   ],
   "source": [
    "df1.dtypes"
   ]
  },
  {
   "cell_type": "code",
   "execution_count": null,
   "id": "8468915a",
   "metadata": {},
   "outputs": [],
   "source": []
  },
  {
   "cell_type": "code",
   "execution_count": 433,
   "id": "0e468c46",
   "metadata": {},
   "outputs": [
    {
     "data": {
      "text/html": [
       "<div>\n",
       "<style scoped>\n",
       "    .dataframe tbody tr th:only-of-type {\n",
       "        vertical-align: middle;\n",
       "    }\n",
       "\n",
       "    .dataframe tbody tr th {\n",
       "        vertical-align: top;\n",
       "    }\n",
       "\n",
       "    .dataframe thead th {\n",
       "        text-align: right;\n",
       "    }\n",
       "</style>\n",
       "<table border=\"1\" class=\"dataframe\">\n",
       "  <thead>\n",
       "    <tr style=\"text-align: right;\">\n",
       "      <th></th>\n",
       "      <th>dtype</th>\n",
       "      <th>non_null_count</th>\n",
       "      <th>null_count</th>\n",
       "      <th>null_percentage</th>\n",
       "      <th>unique_values</th>\n",
       "      <th>count</th>\n",
       "      <th>mean</th>\n",
       "      <th>std</th>\n",
       "      <th>min</th>\n",
       "      <th>25%</th>\n",
       "      <th>50%</th>\n",
       "      <th>75%</th>\n",
       "      <th>max</th>\n",
       "    </tr>\n",
       "  </thead>\n",
       "  <tbody>\n",
       "    <tr>\n",
       "      <th>h1n1_concern</th>\n",
       "      <td>float64</td>\n",
       "      <td>26615</td>\n",
       "      <td>92</td>\n",
       "      <td>0.344479</td>\n",
       "      <td>4</td>\n",
       "      <td>26615.0</td>\n",
       "      <td>1.618486</td>\n",
       "      <td>0.910311</td>\n",
       "      <td>0.0</td>\n",
       "      <td>1.0</td>\n",
       "      <td>2.0</td>\n",
       "      <td>2.0</td>\n",
       "      <td>3.0</td>\n",
       "    </tr>\n",
       "    <tr>\n",
       "      <th>h1n1_knowledge</th>\n",
       "      <td>float64</td>\n",
       "      <td>26591</td>\n",
       "      <td>116</td>\n",
       "      <td>0.434343</td>\n",
       "      <td>3</td>\n",
       "      <td>26591.0</td>\n",
       "      <td>1.262532</td>\n",
       "      <td>0.618149</td>\n",
       "      <td>0.0</td>\n",
       "      <td>1.0</td>\n",
       "      <td>1.0</td>\n",
       "      <td>2.0</td>\n",
       "      <td>2.0</td>\n",
       "    </tr>\n",
       "    <tr>\n",
       "      <th>behavioral_antiviral_meds</th>\n",
       "      <td>float64</td>\n",
       "      <td>26636</td>\n",
       "      <td>71</td>\n",
       "      <td>0.265848</td>\n",
       "      <td>2</td>\n",
       "      <td>26636.0</td>\n",
       "      <td>0.048844</td>\n",
       "      <td>0.215545</td>\n",
       "      <td>0.0</td>\n",
       "      <td>0.0</td>\n",
       "      <td>0.0</td>\n",
       "      <td>0.0</td>\n",
       "      <td>1.0</td>\n",
       "    </tr>\n",
       "    <tr>\n",
       "      <th>behavioral_avoidance</th>\n",
       "      <td>float64</td>\n",
       "      <td>26499</td>\n",
       "      <td>208</td>\n",
       "      <td>0.778822</td>\n",
       "      <td>2</td>\n",
       "      <td>26499.0</td>\n",
       "      <td>0.725612</td>\n",
       "      <td>0.446214</td>\n",
       "      <td>0.0</td>\n",
       "      <td>0.0</td>\n",
       "      <td>1.0</td>\n",
       "      <td>1.0</td>\n",
       "      <td>1.0</td>\n",
       "    </tr>\n",
       "    <tr>\n",
       "      <th>behavioral_face_mask</th>\n",
       "      <td>float64</td>\n",
       "      <td>26688</td>\n",
       "      <td>19</td>\n",
       "      <td>0.071142</td>\n",
       "      <td>2</td>\n",
       "      <td>26688.0</td>\n",
       "      <td>0.068982</td>\n",
       "      <td>0.253429</td>\n",
       "      <td>0.0</td>\n",
       "      <td>0.0</td>\n",
       "      <td>0.0</td>\n",
       "      <td>0.0</td>\n",
       "      <td>1.0</td>\n",
       "    </tr>\n",
       "    <tr>\n",
       "      <th>behavioral_wash_hands</th>\n",
       "      <td>float64</td>\n",
       "      <td>26665</td>\n",
       "      <td>42</td>\n",
       "      <td>0.157262</td>\n",
       "      <td>2</td>\n",
       "      <td>26665.0</td>\n",
       "      <td>0.825614</td>\n",
       "      <td>0.379448</td>\n",
       "      <td>0.0</td>\n",
       "      <td>1.0</td>\n",
       "      <td>1.0</td>\n",
       "      <td>1.0</td>\n",
       "      <td>1.0</td>\n",
       "    </tr>\n",
       "    <tr>\n",
       "      <th>behavioral_large_gatherings</th>\n",
       "      <td>float64</td>\n",
       "      <td>26620</td>\n",
       "      <td>87</td>\n",
       "      <td>0.325757</td>\n",
       "      <td>2</td>\n",
       "      <td>26620.0</td>\n",
       "      <td>0.358640</td>\n",
       "      <td>0.479610</td>\n",
       "      <td>0.0</td>\n",
       "      <td>0.0</td>\n",
       "      <td>0.0</td>\n",
       "      <td>1.0</td>\n",
       "      <td>1.0</td>\n",
       "    </tr>\n",
       "    <tr>\n",
       "      <th>behavioral_outside_home</th>\n",
       "      <td>float64</td>\n",
       "      <td>26625</td>\n",
       "      <td>82</td>\n",
       "      <td>0.307036</td>\n",
       "      <td>2</td>\n",
       "      <td>26625.0</td>\n",
       "      <td>0.337315</td>\n",
       "      <td>0.472802</td>\n",
       "      <td>0.0</td>\n",
       "      <td>0.0</td>\n",
       "      <td>0.0</td>\n",
       "      <td>1.0</td>\n",
       "      <td>1.0</td>\n",
       "    </tr>\n",
       "    <tr>\n",
       "      <th>behavioral_touch_face</th>\n",
       "      <td>float64</td>\n",
       "      <td>26579</td>\n",
       "      <td>128</td>\n",
       "      <td>0.479275</td>\n",
       "      <td>2</td>\n",
       "      <td>26579.0</td>\n",
       "      <td>0.677264</td>\n",
       "      <td>0.467531</td>\n",
       "      <td>0.0</td>\n",
       "      <td>0.0</td>\n",
       "      <td>1.0</td>\n",
       "      <td>1.0</td>\n",
       "      <td>1.0</td>\n",
       "    </tr>\n",
       "    <tr>\n",
       "      <th>doctor_recc_h1n1</th>\n",
       "      <td>float64</td>\n",
       "      <td>24547</td>\n",
       "      <td>2160</td>\n",
       "      <td>8.087767</td>\n",
       "      <td>2</td>\n",
       "      <td>24547.0</td>\n",
       "      <td>0.220312</td>\n",
       "      <td>0.414466</td>\n",
       "      <td>0.0</td>\n",
       "      <td>0.0</td>\n",
       "      <td>0.0</td>\n",
       "      <td>0.0</td>\n",
       "      <td>1.0</td>\n",
       "    </tr>\n",
       "    <tr>\n",
       "      <th>doctor_recc_seasonal</th>\n",
       "      <td>float64</td>\n",
       "      <td>24547</td>\n",
       "      <td>2160</td>\n",
       "      <td>8.087767</td>\n",
       "      <td>2</td>\n",
       "      <td>24547.0</td>\n",
       "      <td>0.329735</td>\n",
       "      <td>0.470126</td>\n",
       "      <td>0.0</td>\n",
       "      <td>0.0</td>\n",
       "      <td>0.0</td>\n",
       "      <td>1.0</td>\n",
       "      <td>1.0</td>\n",
       "    </tr>\n",
       "    <tr>\n",
       "      <th>chronic_med_condition</th>\n",
       "      <td>float64</td>\n",
       "      <td>25736</td>\n",
       "      <td>971</td>\n",
       "      <td>3.635751</td>\n",
       "      <td>2</td>\n",
       "      <td>25736.0</td>\n",
       "      <td>0.283261</td>\n",
       "      <td>0.450591</td>\n",
       "      <td>0.0</td>\n",
       "      <td>0.0</td>\n",
       "      <td>0.0</td>\n",
       "      <td>1.0</td>\n",
       "      <td>1.0</td>\n",
       "    </tr>\n",
       "    <tr>\n",
       "      <th>child_under_6_months</th>\n",
       "      <td>float64</td>\n",
       "      <td>25887</td>\n",
       "      <td>820</td>\n",
       "      <td>3.070356</td>\n",
       "      <td>2</td>\n",
       "      <td>25887.0</td>\n",
       "      <td>0.082590</td>\n",
       "      <td>0.275266</td>\n",
       "      <td>0.0</td>\n",
       "      <td>0.0</td>\n",
       "      <td>0.0</td>\n",
       "      <td>0.0</td>\n",
       "      <td>1.0</td>\n",
       "    </tr>\n",
       "    <tr>\n",
       "      <th>health_worker</th>\n",
       "      <td>float64</td>\n",
       "      <td>25903</td>\n",
       "      <td>804</td>\n",
       "      <td>3.010447</td>\n",
       "      <td>2</td>\n",
       "      <td>25903.0</td>\n",
       "      <td>0.111918</td>\n",
       "      <td>0.315271</td>\n",
       "      <td>0.0</td>\n",
       "      <td>0.0</td>\n",
       "      <td>0.0</td>\n",
       "      <td>0.0</td>\n",
       "      <td>1.0</td>\n",
       "    </tr>\n",
       "    <tr>\n",
       "      <th>opinion_h1n1_vacc_effective</th>\n",
       "      <td>float64</td>\n",
       "      <td>26316</td>\n",
       "      <td>391</td>\n",
       "      <td>1.464036</td>\n",
       "      <td>5</td>\n",
       "      <td>26316.0</td>\n",
       "      <td>3.850623</td>\n",
       "      <td>1.007436</td>\n",
       "      <td>1.0</td>\n",
       "      <td>3.0</td>\n",
       "      <td>4.0</td>\n",
       "      <td>5.0</td>\n",
       "      <td>5.0</td>\n",
       "    </tr>\n",
       "    <tr>\n",
       "      <th>opinion_h1n1_risk</th>\n",
       "      <td>float64</td>\n",
       "      <td>26319</td>\n",
       "      <td>388</td>\n",
       "      <td>1.452803</td>\n",
       "      <td>5</td>\n",
       "      <td>26319.0</td>\n",
       "      <td>2.342566</td>\n",
       "      <td>1.285539</td>\n",
       "      <td>1.0</td>\n",
       "      <td>1.0</td>\n",
       "      <td>2.0</td>\n",
       "      <td>4.0</td>\n",
       "      <td>5.0</td>\n",
       "    </tr>\n",
       "    <tr>\n",
       "      <th>opinion_h1n1_sick_from_vacc</th>\n",
       "      <td>float64</td>\n",
       "      <td>26312</td>\n",
       "      <td>395</td>\n",
       "      <td>1.479013</td>\n",
       "      <td>5</td>\n",
       "      <td>26312.0</td>\n",
       "      <td>2.357670</td>\n",
       "      <td>1.362766</td>\n",
       "      <td>1.0</td>\n",
       "      <td>1.0</td>\n",
       "      <td>2.0</td>\n",
       "      <td>4.0</td>\n",
       "      <td>5.0</td>\n",
       "    </tr>\n",
       "    <tr>\n",
       "      <th>opinion_seas_vacc_effective</th>\n",
       "      <td>float64</td>\n",
       "      <td>26245</td>\n",
       "      <td>462</td>\n",
       "      <td>1.729884</td>\n",
       "      <td>5</td>\n",
       "      <td>26245.0</td>\n",
       "      <td>4.025986</td>\n",
       "      <td>1.086565</td>\n",
       "      <td>1.0</td>\n",
       "      <td>4.0</td>\n",
       "      <td>4.0</td>\n",
       "      <td>5.0</td>\n",
       "      <td>5.0</td>\n",
       "    </tr>\n",
       "    <tr>\n",
       "      <th>opinion_seas_risk</th>\n",
       "      <td>float64</td>\n",
       "      <td>26193</td>\n",
       "      <td>514</td>\n",
       "      <td>1.924589</td>\n",
       "      <td>5</td>\n",
       "      <td>26193.0</td>\n",
       "      <td>2.719162</td>\n",
       "      <td>1.385055</td>\n",
       "      <td>1.0</td>\n",
       "      <td>2.0</td>\n",
       "      <td>2.0</td>\n",
       "      <td>4.0</td>\n",
       "      <td>5.0</td>\n",
       "    </tr>\n",
       "    <tr>\n",
       "      <th>opinion_seas_sick_from_vacc</th>\n",
       "      <td>float64</td>\n",
       "      <td>26170</td>\n",
       "      <td>537</td>\n",
       "      <td>2.010709</td>\n",
       "      <td>5</td>\n",
       "      <td>26170.0</td>\n",
       "      <td>2.118112</td>\n",
       "      <td>1.332950</td>\n",
       "      <td>1.0</td>\n",
       "      <td>1.0</td>\n",
       "      <td>2.0</td>\n",
       "      <td>4.0</td>\n",
       "      <td>5.0</td>\n",
       "    </tr>\n",
       "    <tr>\n",
       "      <th>age_group</th>\n",
       "      <td>object</td>\n",
       "      <td>26707</td>\n",
       "      <td>0</td>\n",
       "      <td>0.000000</td>\n",
       "      <td>5</td>\n",
       "      <td>NaN</td>\n",
       "      <td>NaN</td>\n",
       "      <td>NaN</td>\n",
       "      <td>NaN</td>\n",
       "      <td>NaN</td>\n",
       "      <td>NaN</td>\n",
       "      <td>NaN</td>\n",
       "      <td>NaN</td>\n",
       "    </tr>\n",
       "    <tr>\n",
       "      <th>education</th>\n",
       "      <td>object</td>\n",
       "      <td>25300</td>\n",
       "      <td>1407</td>\n",
       "      <td>5.268282</td>\n",
       "      <td>4</td>\n",
       "      <td>NaN</td>\n",
       "      <td>NaN</td>\n",
       "      <td>NaN</td>\n",
       "      <td>NaN</td>\n",
       "      <td>NaN</td>\n",
       "      <td>NaN</td>\n",
       "      <td>NaN</td>\n",
       "      <td>NaN</td>\n",
       "    </tr>\n",
       "    <tr>\n",
       "      <th>race</th>\n",
       "      <td>object</td>\n",
       "      <td>26707</td>\n",
       "      <td>0</td>\n",
       "      <td>0.000000</td>\n",
       "      <td>4</td>\n",
       "      <td>NaN</td>\n",
       "      <td>NaN</td>\n",
       "      <td>NaN</td>\n",
       "      <td>NaN</td>\n",
       "      <td>NaN</td>\n",
       "      <td>NaN</td>\n",
       "      <td>NaN</td>\n",
       "      <td>NaN</td>\n",
       "    </tr>\n",
       "    <tr>\n",
       "      <th>sex</th>\n",
       "      <td>object</td>\n",
       "      <td>26707</td>\n",
       "      <td>0</td>\n",
       "      <td>0.000000</td>\n",
       "      <td>2</td>\n",
       "      <td>NaN</td>\n",
       "      <td>NaN</td>\n",
       "      <td>NaN</td>\n",
       "      <td>NaN</td>\n",
       "      <td>NaN</td>\n",
       "      <td>NaN</td>\n",
       "      <td>NaN</td>\n",
       "      <td>NaN</td>\n",
       "    </tr>\n",
       "    <tr>\n",
       "      <th>income_poverty</th>\n",
       "      <td>object</td>\n",
       "      <td>22284</td>\n",
       "      <td>4423</td>\n",
       "      <td>16.561201</td>\n",
       "      <td>3</td>\n",
       "      <td>NaN</td>\n",
       "      <td>NaN</td>\n",
       "      <td>NaN</td>\n",
       "      <td>NaN</td>\n",
       "      <td>NaN</td>\n",
       "      <td>NaN</td>\n",
       "      <td>NaN</td>\n",
       "      <td>NaN</td>\n",
       "    </tr>\n",
       "    <tr>\n",
       "      <th>marital_status</th>\n",
       "      <td>object</td>\n",
       "      <td>25299</td>\n",
       "      <td>1408</td>\n",
       "      <td>5.272026</td>\n",
       "      <td>2</td>\n",
       "      <td>NaN</td>\n",
       "      <td>NaN</td>\n",
       "      <td>NaN</td>\n",
       "      <td>NaN</td>\n",
       "      <td>NaN</td>\n",
       "      <td>NaN</td>\n",
       "      <td>NaN</td>\n",
       "      <td>NaN</td>\n",
       "    </tr>\n",
       "    <tr>\n",
       "      <th>rent_or_own</th>\n",
       "      <td>object</td>\n",
       "      <td>24665</td>\n",
       "      <td>2042</td>\n",
       "      <td>7.645936</td>\n",
       "      <td>2</td>\n",
       "      <td>NaN</td>\n",
       "      <td>NaN</td>\n",
       "      <td>NaN</td>\n",
       "      <td>NaN</td>\n",
       "      <td>NaN</td>\n",
       "      <td>NaN</td>\n",
       "      <td>NaN</td>\n",
       "      <td>NaN</td>\n",
       "    </tr>\n",
       "    <tr>\n",
       "      <th>employment_status</th>\n",
       "      <td>object</td>\n",
       "      <td>25244</td>\n",
       "      <td>1463</td>\n",
       "      <td>5.477965</td>\n",
       "      <td>3</td>\n",
       "      <td>NaN</td>\n",
       "      <td>NaN</td>\n",
       "      <td>NaN</td>\n",
       "      <td>NaN</td>\n",
       "      <td>NaN</td>\n",
       "      <td>NaN</td>\n",
       "      <td>NaN</td>\n",
       "      <td>NaN</td>\n",
       "    </tr>\n",
       "    <tr>\n",
       "      <th>hhs_geo_region</th>\n",
       "      <td>object</td>\n",
       "      <td>26707</td>\n",
       "      <td>0</td>\n",
       "      <td>0.000000</td>\n",
       "      <td>10</td>\n",
       "      <td>NaN</td>\n",
       "      <td>NaN</td>\n",
       "      <td>NaN</td>\n",
       "      <td>NaN</td>\n",
       "      <td>NaN</td>\n",
       "      <td>NaN</td>\n",
       "      <td>NaN</td>\n",
       "      <td>NaN</td>\n",
       "    </tr>\n",
       "    <tr>\n",
       "      <th>census_msa</th>\n",
       "      <td>object</td>\n",
       "      <td>26707</td>\n",
       "      <td>0</td>\n",
       "      <td>0.000000</td>\n",
       "      <td>3</td>\n",
       "      <td>NaN</td>\n",
       "      <td>NaN</td>\n",
       "      <td>NaN</td>\n",
       "      <td>NaN</td>\n",
       "      <td>NaN</td>\n",
       "      <td>NaN</td>\n",
       "      <td>NaN</td>\n",
       "      <td>NaN</td>\n",
       "    </tr>\n",
       "    <tr>\n",
       "      <th>household_adults</th>\n",
       "      <td>float64</td>\n",
       "      <td>26458</td>\n",
       "      <td>249</td>\n",
       "      <td>0.932340</td>\n",
       "      <td>4</td>\n",
       "      <td>26458.0</td>\n",
       "      <td>0.886499</td>\n",
       "      <td>0.753422</td>\n",
       "      <td>0.0</td>\n",
       "      <td>0.0</td>\n",
       "      <td>1.0</td>\n",
       "      <td>1.0</td>\n",
       "      <td>3.0</td>\n",
       "    </tr>\n",
       "    <tr>\n",
       "      <th>household_children</th>\n",
       "      <td>float64</td>\n",
       "      <td>26458</td>\n",
       "      <td>249</td>\n",
       "      <td>0.932340</td>\n",
       "      <td>4</td>\n",
       "      <td>26458.0</td>\n",
       "      <td>0.534583</td>\n",
       "      <td>0.928173</td>\n",
       "      <td>0.0</td>\n",
       "      <td>0.0</td>\n",
       "      <td>0.0</td>\n",
       "      <td>1.0</td>\n",
       "      <td>3.0</td>\n",
       "    </tr>\n",
       "    <tr>\n",
       "      <th>seasonal_vaccine</th>\n",
       "      <td>int64</td>\n",
       "      <td>26707</td>\n",
       "      <td>0</td>\n",
       "      <td>0.000000</td>\n",
       "      <td>2</td>\n",
       "      <td>26707.0</td>\n",
       "      <td>0.465608</td>\n",
       "      <td>0.498825</td>\n",
       "      <td>0.0</td>\n",
       "      <td>0.0</td>\n",
       "      <td>0.0</td>\n",
       "      <td>1.0</td>\n",
       "      <td>1.0</td>\n",
       "    </tr>\n",
       "  </tbody>\n",
       "</table>\n",
       "</div>"
      ],
      "text/plain": [
       "                               dtype  non_null_count  null_count  \\\n",
       "h1n1_concern                 float64           26615          92   \n",
       "h1n1_knowledge               float64           26591         116   \n",
       "behavioral_antiviral_meds    float64           26636          71   \n",
       "behavioral_avoidance         float64           26499         208   \n",
       "behavioral_face_mask         float64           26688          19   \n",
       "behavioral_wash_hands        float64           26665          42   \n",
       "behavioral_large_gatherings  float64           26620          87   \n",
       "behavioral_outside_home      float64           26625          82   \n",
       "behavioral_touch_face        float64           26579         128   \n",
       "doctor_recc_h1n1             float64           24547        2160   \n",
       "doctor_recc_seasonal         float64           24547        2160   \n",
       "chronic_med_condition        float64           25736         971   \n",
       "child_under_6_months         float64           25887         820   \n",
       "health_worker                float64           25903         804   \n",
       "opinion_h1n1_vacc_effective  float64           26316         391   \n",
       "opinion_h1n1_risk            float64           26319         388   \n",
       "opinion_h1n1_sick_from_vacc  float64           26312         395   \n",
       "opinion_seas_vacc_effective  float64           26245         462   \n",
       "opinion_seas_risk            float64           26193         514   \n",
       "opinion_seas_sick_from_vacc  float64           26170         537   \n",
       "age_group                     object           26707           0   \n",
       "education                     object           25300        1407   \n",
       "race                          object           26707           0   \n",
       "sex                           object           26707           0   \n",
       "income_poverty                object           22284        4423   \n",
       "marital_status                object           25299        1408   \n",
       "rent_or_own                   object           24665        2042   \n",
       "employment_status             object           25244        1463   \n",
       "hhs_geo_region                object           26707           0   \n",
       "census_msa                    object           26707           0   \n",
       "household_adults             float64           26458         249   \n",
       "household_children           float64           26458         249   \n",
       "seasonal_vaccine               int64           26707           0   \n",
       "\n",
       "                             null_percentage  unique_values    count  \\\n",
       "h1n1_concern                        0.344479              4  26615.0   \n",
       "h1n1_knowledge                      0.434343              3  26591.0   \n",
       "behavioral_antiviral_meds           0.265848              2  26636.0   \n",
       "behavioral_avoidance                0.778822              2  26499.0   \n",
       "behavioral_face_mask                0.071142              2  26688.0   \n",
       "behavioral_wash_hands               0.157262              2  26665.0   \n",
       "behavioral_large_gatherings         0.325757              2  26620.0   \n",
       "behavioral_outside_home             0.307036              2  26625.0   \n",
       "behavioral_touch_face               0.479275              2  26579.0   \n",
       "doctor_recc_h1n1                    8.087767              2  24547.0   \n",
       "doctor_recc_seasonal                8.087767              2  24547.0   \n",
       "chronic_med_condition               3.635751              2  25736.0   \n",
       "child_under_6_months                3.070356              2  25887.0   \n",
       "health_worker                       3.010447              2  25903.0   \n",
       "opinion_h1n1_vacc_effective         1.464036              5  26316.0   \n",
       "opinion_h1n1_risk                   1.452803              5  26319.0   \n",
       "opinion_h1n1_sick_from_vacc         1.479013              5  26312.0   \n",
       "opinion_seas_vacc_effective         1.729884              5  26245.0   \n",
       "opinion_seas_risk                   1.924589              5  26193.0   \n",
       "opinion_seas_sick_from_vacc         2.010709              5  26170.0   \n",
       "age_group                           0.000000              5      NaN   \n",
       "education                           5.268282              4      NaN   \n",
       "race                                0.000000              4      NaN   \n",
       "sex                                 0.000000              2      NaN   \n",
       "income_poverty                     16.561201              3      NaN   \n",
       "marital_status                      5.272026              2      NaN   \n",
       "rent_or_own                         7.645936              2      NaN   \n",
       "employment_status                   5.477965              3      NaN   \n",
       "hhs_geo_region                      0.000000             10      NaN   \n",
       "census_msa                          0.000000              3      NaN   \n",
       "household_adults                    0.932340              4  26458.0   \n",
       "household_children                  0.932340              4  26458.0   \n",
       "seasonal_vaccine                    0.000000              2  26707.0   \n",
       "\n",
       "                                 mean       std  min  25%  50%  75%  max  \n",
       "h1n1_concern                 1.618486  0.910311  0.0  1.0  2.0  2.0  3.0  \n",
       "h1n1_knowledge               1.262532  0.618149  0.0  1.0  1.0  2.0  2.0  \n",
       "behavioral_antiviral_meds    0.048844  0.215545  0.0  0.0  0.0  0.0  1.0  \n",
       "behavioral_avoidance         0.725612  0.446214  0.0  0.0  1.0  1.0  1.0  \n",
       "behavioral_face_mask         0.068982  0.253429  0.0  0.0  0.0  0.0  1.0  \n",
       "behavioral_wash_hands        0.825614  0.379448  0.0  1.0  1.0  1.0  1.0  \n",
       "behavioral_large_gatherings  0.358640  0.479610  0.0  0.0  0.0  1.0  1.0  \n",
       "behavioral_outside_home      0.337315  0.472802  0.0  0.0  0.0  1.0  1.0  \n",
       "behavioral_touch_face        0.677264  0.467531  0.0  0.0  1.0  1.0  1.0  \n",
       "doctor_recc_h1n1             0.220312  0.414466  0.0  0.0  0.0  0.0  1.0  \n",
       "doctor_recc_seasonal         0.329735  0.470126  0.0  0.0  0.0  1.0  1.0  \n",
       "chronic_med_condition        0.283261  0.450591  0.0  0.0  0.0  1.0  1.0  \n",
       "child_under_6_months         0.082590  0.275266  0.0  0.0  0.0  0.0  1.0  \n",
       "health_worker                0.111918  0.315271  0.0  0.0  0.0  0.0  1.0  \n",
       "opinion_h1n1_vacc_effective  3.850623  1.007436  1.0  3.0  4.0  5.0  5.0  \n",
       "opinion_h1n1_risk            2.342566  1.285539  1.0  1.0  2.0  4.0  5.0  \n",
       "opinion_h1n1_sick_from_vacc  2.357670  1.362766  1.0  1.0  2.0  4.0  5.0  \n",
       "opinion_seas_vacc_effective  4.025986  1.086565  1.0  4.0  4.0  5.0  5.0  \n",
       "opinion_seas_risk            2.719162  1.385055  1.0  2.0  2.0  4.0  5.0  \n",
       "opinion_seas_sick_from_vacc  2.118112  1.332950  1.0  1.0  2.0  4.0  5.0  \n",
       "age_group                         NaN       NaN  NaN  NaN  NaN  NaN  NaN  \n",
       "education                         NaN       NaN  NaN  NaN  NaN  NaN  NaN  \n",
       "race                              NaN       NaN  NaN  NaN  NaN  NaN  NaN  \n",
       "sex                               NaN       NaN  NaN  NaN  NaN  NaN  NaN  \n",
       "income_poverty                    NaN       NaN  NaN  NaN  NaN  NaN  NaN  \n",
       "marital_status                    NaN       NaN  NaN  NaN  NaN  NaN  NaN  \n",
       "rent_or_own                       NaN       NaN  NaN  NaN  NaN  NaN  NaN  \n",
       "employment_status                 NaN       NaN  NaN  NaN  NaN  NaN  NaN  \n",
       "hhs_geo_region                    NaN       NaN  NaN  NaN  NaN  NaN  NaN  \n",
       "census_msa                        NaN       NaN  NaN  NaN  NaN  NaN  NaN  \n",
       "household_adults             0.886499  0.753422  0.0  0.0  1.0  1.0  3.0  \n",
       "household_children           0.534583  0.928173  0.0  0.0  0.0  1.0  3.0  \n",
       "seasonal_vaccine             0.465608  0.498825  0.0  0.0  0.0  1.0  1.0  "
      ]
     },
     "execution_count": 433,
     "metadata": {},
     "output_type": "execute_result"
    }
   ],
   "source": [
    "\n",
    "\n",
    "# Get distribution summary with missing value info\n",
    "dist_summary = pd.DataFrame({\n",
    "    'dtype': df1.dtypes,\n",
    "    'non_null_count': df1.count(),\n",
    "    'null_count': df1.isnull().sum(),\n",
    "    'null_percentage': (df1.isnull().sum() / len(df1)) * 100,\n",
    "    'unique_values': df1.nunique()\n",
    "})\n",
    "\n",
    "# Add basic statistics\n",
    "dist_summary = dist_summary.join(df1.describe().T)\n",
    "dist_summary"
   ]
  },
  {
   "cell_type": "code",
   "execution_count": null,
   "id": "fa9e5bb4",
   "metadata": {},
   "outputs": [],
   "source": []
  },
  {
   "cell_type": "code",
   "execution_count": 434,
   "id": "02f8e831",
   "metadata": {},
   "outputs": [
    {
     "name": "stdout",
     "output_type": "stream",
     "text": [
      "Binary categorical columns:\n",
      "['behavioral_antiviral_meds', 'behavioral_avoidance', 'behavioral_face_mask', 'behavioral_wash_hands', 'behavioral_large_gatherings', 'behavioral_outside_home', 'behavioral_touch_face', 'doctor_recc_h1n1', 'doctor_recc_seasonal', 'chronic_med_condition', 'child_under_6_months', 'health_worker', 'sex', 'marital_status', 'rent_or_own', 'seasonal_vaccine']\n"
     ]
    }
   ],
   "source": [
    "# creating list variable for categorical and numerical columns\n",
    "binary_categorical_cols = [col for col in df1.columns \n",
    "               if df1[col].dropna().nunique() == 2]\n",
    "\n",
    "print(\"Binary categorical columns:\")\n",
    "print(binary_categorical_cols)"
   ]
  },
  {
   "cell_type": "code",
   "execution_count": 435,
   "id": "4ec159ba",
   "metadata": {},
   "outputs": [
    {
     "data": {
      "text/plain": [
       "h1n1_concern                     92\n",
       "h1n1_knowledge                  116\n",
       "behavioral_antiviral_meds         0\n",
       "behavioral_avoidance              0\n",
       "behavioral_face_mask              0\n",
       "behavioral_wash_hands             0\n",
       "behavioral_large_gatherings       0\n",
       "behavioral_outside_home           0\n",
       "behavioral_touch_face             0\n",
       "doctor_recc_h1n1                  0\n",
       "doctor_recc_seasonal              0\n",
       "chronic_med_condition             0\n",
       "child_under_6_months              0\n",
       "health_worker                     0\n",
       "opinion_h1n1_vacc_effective     391\n",
       "opinion_h1n1_risk               388\n",
       "opinion_h1n1_sick_from_vacc     395\n",
       "opinion_seas_vacc_effective     462\n",
       "opinion_seas_risk               514\n",
       "opinion_seas_sick_from_vacc     537\n",
       "age_group                         0\n",
       "education                      1407\n",
       "race                              0\n",
       "sex                               0\n",
       "income_poverty                 4423\n",
       "marital_status                    0\n",
       "rent_or_own                       0\n",
       "employment_status              1463\n",
       "hhs_geo_region                    0\n",
       "census_msa                        0\n",
       "household_adults                249\n",
       "household_children              249\n",
       "seasonal_vaccine                  0\n",
       "dtype: int64"
      ]
     },
     "execution_count": 435,
     "metadata": {},
     "output_type": "execute_result"
    }
   ],
   "source": [
    "# imputing all Binary categorical columns with mode\n",
    "for col in binary_categorical_cols:\n",
    "    mode_value = df1[col].mode()[0]\n",
    "    df1[col].fillna(mode_value, inplace=True)\n",
    "df1.isnull().sum()\n"
   ]
  },
  {
   "cell_type": "code",
   "execution_count": null,
   "id": "26a358f3",
   "metadata": {},
   "outputs": [],
   "source": []
  },
  {
   "cell_type": "code",
   "execution_count": 436,
   "id": "ae8be964",
   "metadata": {},
   "outputs": [
    {
     "data": {
      "text/plain": [
       "education\n",
       "College Graduate    10097\n",
       "Some College         7043\n",
       "12 Years             5797\n",
       "< 12 Years           2363\n",
       "Name: count, dtype: int64"
      ]
     },
     "execution_count": 436,
     "metadata": {},
     "output_type": "execute_result"
    }
   ],
   "source": [
    "df1['education'].value_counts()"
   ]
  },
  {
   "cell_type": "code",
   "execution_count": 437,
   "id": "b887f826",
   "metadata": {},
   "outputs": [
    {
     "name": "stdout",
     "output_type": "stream",
     "text": [
      "multi_categorical_cols:\n",
      "['h1n1_concern', 'h1n1_knowledge', 'opinion_h1n1_vacc_effective', 'opinion_h1n1_risk', 'opinion_h1n1_sick_from_vacc', 'opinion_seas_vacc_effective', 'opinion_seas_risk', 'opinion_seas_sick_from_vacc', 'age_group', 'education', 'race', 'income_poverty', 'employment_status', 'hhs_geo_region', 'census_msa', 'household_adults', 'household_children']\n"
     ]
    }
   ],
   "source": [
    "# checking for categorical columns with more than 2 categories classes\n",
    "multi_categorical_cols = [col for col in df1.columns \n",
    "               if df1[col].dropna().nunique() > 2]\n",
    "\n",
    "print(\"multi_categorical_cols:\")\n",
    "print(multi_categorical_cols)"
   ]
  },
  {
   "cell_type": "markdown",
   "id": "8ffca514",
   "metadata": {},
   "source": [
    "* age_group, education, income_poverty will be labeling them like 1,2,3,4....."
   ]
  },
  {
   "cell_type": "code",
   "execution_count": 438,
   "id": "efe9221d",
   "metadata": {},
   "outputs": [],
   "source": [
    "ordinal_cols = [\n",
    "    \"h1n1_concern\",\n",
    "    \"h1n1_knowledge\",\n",
    "    \"opinion_h1n1_vacc_effective\",\n",
    "    \"opinion_h1n1_risk\",\n",
    "    \"opinion_h1n1_sick_from_vacc\",\n",
    "    \"opinion_seas_vacc_effective\",\n",
    "    \"opinion_seas_risk\",\n",
    "    \"opinion_seas_sick_from_vacc\",\n",
    "    \"age_group\",\n",
    "    \"employment_status\",\n",
    "    \"education\",\n",
    "    \"income_poverty\",\n",
    "    \"household_adults\",\n",
    "    \"household_children\"\n",
    "]"
   ]
  },
  {
   "cell_type": "code",
   "execution_count": 439,
   "id": "139fb132",
   "metadata": {},
   "outputs": [],
   "source": [
    "age_order = {\n",
    "    \"18 - 34 Years\": 0,\n",
    "    \"35 - 44 Years\": 1,\n",
    "    \"45 - 54 Years\": 2,\n",
    "    \"55 - 64 Years\": 3,\n",
    "    \"65+ Years\": 4\n",
    "}\n",
    "\n",
    "df1[\"age_group\"] = df1[\"age_group\"].map(age_order)\n",
    "\n",
    "# Eduction Order \n",
    "edu_order = {\n",
    "    \"< 12 Years\": 0,\n",
    "    \"12 Years\": 1,\n",
    "    \"Some College\": 2,\n",
    "    \"College Graduate\": 3\n",
    "}\n",
    "df1[\"education\"] = df1[\"education\"].map(edu_order)\n",
    "\n",
    "# income poverty \n",
    "income_order = {\n",
    "    \"Below Poverty\": 0,\n",
    "    \"<= $75,000, Above Poverty\": 1,\n",
    "    \"> $75,000\": 2\n",
    "}\n",
    "\n",
    "\n",
    "\n",
    "df1[\"income_poverty\"] = df1[\"income_poverty\"].map(income_order)\n",
    "employment_status={\n",
    "    \"Employed\": 0,\n",
    "    \"Unemployed\": 1,\n",
    "    \"Not in Labor Force\": 2\n",
    "    \n",
    "}\n",
    "df1[\"employment_status\"] = df1[\"employment_status\"].map(employment_status)"
   ]
  },
  {
   "cell_type": "code",
   "execution_count": 440,
   "id": "45b90bc0",
   "metadata": {},
   "outputs": [
    {
     "data": {
      "text/plain": [
       "h1n1_concern                   0\n",
       "h1n1_knowledge                 0\n",
       "behavioral_antiviral_meds      0\n",
       "behavioral_avoidance           0\n",
       "behavioral_face_mask           0\n",
       "behavioral_wash_hands          0\n",
       "behavioral_large_gatherings    0\n",
       "behavioral_outside_home        0\n",
       "behavioral_touch_face          0\n",
       "doctor_recc_h1n1               0\n",
       "doctor_recc_seasonal           0\n",
       "chronic_med_condition          0\n",
       "child_under_6_months           0\n",
       "health_worker                  0\n",
       "opinion_h1n1_vacc_effective    0\n",
       "opinion_h1n1_risk              0\n",
       "opinion_h1n1_sick_from_vacc    0\n",
       "opinion_seas_vacc_effective    0\n",
       "opinion_seas_risk              0\n",
       "opinion_seas_sick_from_vacc    0\n",
       "age_group                      0\n",
       "education                      0\n",
       "race                           0\n",
       "sex                            0\n",
       "income_poverty                 0\n",
       "marital_status                 0\n",
       "rent_or_own                    0\n",
       "employment_status              0\n",
       "hhs_geo_region                 0\n",
       "census_msa                     0\n",
       "household_adults               0\n",
       "household_children             0\n",
       "seasonal_vaccine               0\n",
       "dtype: int64"
      ]
     },
     "execution_count": 440,
     "metadata": {},
     "output_type": "execute_result"
    }
   ],
   "source": [
    "# imputing ordinal columns with median\n",
    "for col in ordinal_cols:\n",
    "    median_value = df1[col].median()\n",
    "    df1[col].fillna(median_value, inplace=True)\n",
    "df1.isnull().sum()"
   ]
  },
  {
   "cell_type": "code",
   "execution_count": 475,
   "id": "280b5da9",
   "metadata": {},
   "outputs": [
    {
     "data": {
      "text/html": [
       "<div>\n",
       "<style scoped>\n",
       "    .dataframe tbody tr th:only-of-type {\n",
       "        vertical-align: middle;\n",
       "    }\n",
       "\n",
       "    .dataframe tbody tr th {\n",
       "        vertical-align: top;\n",
       "    }\n",
       "\n",
       "    .dataframe thead th {\n",
       "        text-align: right;\n",
       "    }\n",
       "</style>\n",
       "<table border=\"1\" class=\"dataframe\">\n",
       "  <thead>\n",
       "    <tr style=\"text-align: right;\">\n",
       "      <th></th>\n",
       "      <th>h1n1_concern</th>\n",
       "      <th>h1n1_knowledge</th>\n",
       "      <th>behavioral_antiviral_meds</th>\n",
       "      <th>behavioral_avoidance</th>\n",
       "      <th>behavioral_face_mask</th>\n",
       "      <th>behavioral_wash_hands</th>\n",
       "      <th>behavioral_large_gatherings</th>\n",
       "      <th>behavioral_outside_home</th>\n",
       "      <th>behavioral_touch_face</th>\n",
       "      <th>doctor_recc_h1n1</th>\n",
       "      <th>...</th>\n",
       "      <th>sex</th>\n",
       "      <th>income_poverty</th>\n",
       "      <th>marital_status</th>\n",
       "      <th>rent_or_own</th>\n",
       "      <th>employment_status</th>\n",
       "      <th>hhs_geo_region</th>\n",
       "      <th>census_msa</th>\n",
       "      <th>household_adults</th>\n",
       "      <th>household_children</th>\n",
       "      <th>seasonal_vaccine</th>\n",
       "    </tr>\n",
       "  </thead>\n",
       "  <tbody>\n",
       "    <tr>\n",
       "      <th>0</th>\n",
       "      <td>1.0</td>\n",
       "      <td>0.0</td>\n",
       "      <td>0.0</td>\n",
       "      <td>0.0</td>\n",
       "      <td>0.0</td>\n",
       "      <td>0.0</td>\n",
       "      <td>0.0</td>\n",
       "      <td>1.0</td>\n",
       "      <td>1.0</td>\n",
       "      <td>0.0</td>\n",
       "      <td>...</td>\n",
       "      <td>Female</td>\n",
       "      <td>0.0</td>\n",
       "      <td>Not Married</td>\n",
       "      <td>Own</td>\n",
       "      <td>2.0</td>\n",
       "      <td>oxchjgsf</td>\n",
       "      <td>Non-MSA</td>\n",
       "      <td>0.0</td>\n",
       "      <td>0.0</td>\n",
       "      <td>0</td>\n",
       "    </tr>\n",
       "    <tr>\n",
       "      <th>1</th>\n",
       "      <td>3.0</td>\n",
       "      <td>2.0</td>\n",
       "      <td>0.0</td>\n",
       "      <td>1.0</td>\n",
       "      <td>0.0</td>\n",
       "      <td>1.0</td>\n",
       "      <td>0.0</td>\n",
       "      <td>1.0</td>\n",
       "      <td>1.0</td>\n",
       "      <td>0.0</td>\n",
       "      <td>...</td>\n",
       "      <td>Male</td>\n",
       "      <td>0.0</td>\n",
       "      <td>Not Married</td>\n",
       "      <td>Rent</td>\n",
       "      <td>0.0</td>\n",
       "      <td>bhuqouqj</td>\n",
       "      <td>MSA, Not Principle  City</td>\n",
       "      <td>0.0</td>\n",
       "      <td>0.0</td>\n",
       "      <td>1</td>\n",
       "    </tr>\n",
       "    <tr>\n",
       "      <th>2</th>\n",
       "      <td>1.0</td>\n",
       "      <td>1.0</td>\n",
       "      <td>0.0</td>\n",
       "      <td>1.0</td>\n",
       "      <td>0.0</td>\n",
       "      <td>0.0</td>\n",
       "      <td>0.0</td>\n",
       "      <td>0.0</td>\n",
       "      <td>0.0</td>\n",
       "      <td>0.0</td>\n",
       "      <td>...</td>\n",
       "      <td>Male</td>\n",
       "      <td>1.0</td>\n",
       "      <td>Not Married</td>\n",
       "      <td>Own</td>\n",
       "      <td>0.0</td>\n",
       "      <td>qufhixun</td>\n",
       "      <td>MSA, Not Principle  City</td>\n",
       "      <td>2.0</td>\n",
       "      <td>0.0</td>\n",
       "      <td>0</td>\n",
       "    </tr>\n",
       "    <tr>\n",
       "      <th>3</th>\n",
       "      <td>1.0</td>\n",
       "      <td>1.0</td>\n",
       "      <td>0.0</td>\n",
       "      <td>1.0</td>\n",
       "      <td>0.0</td>\n",
       "      <td>1.0</td>\n",
       "      <td>1.0</td>\n",
       "      <td>0.0</td>\n",
       "      <td>0.0</td>\n",
       "      <td>0.0</td>\n",
       "      <td>...</td>\n",
       "      <td>Female</td>\n",
       "      <td>0.0</td>\n",
       "      <td>Not Married</td>\n",
       "      <td>Rent</td>\n",
       "      <td>2.0</td>\n",
       "      <td>lrircsnp</td>\n",
       "      <td>MSA, Principle City</td>\n",
       "      <td>0.0</td>\n",
       "      <td>0.0</td>\n",
       "      <td>1</td>\n",
       "    </tr>\n",
       "    <tr>\n",
       "      <th>4</th>\n",
       "      <td>2.0</td>\n",
       "      <td>1.0</td>\n",
       "      <td>0.0</td>\n",
       "      <td>1.0</td>\n",
       "      <td>0.0</td>\n",
       "      <td>1.0</td>\n",
       "      <td>1.0</td>\n",
       "      <td>0.0</td>\n",
       "      <td>1.0</td>\n",
       "      <td>0.0</td>\n",
       "      <td>...</td>\n",
       "      <td>Female</td>\n",
       "      <td>1.0</td>\n",
       "      <td>Married</td>\n",
       "      <td>Own</td>\n",
       "      <td>0.0</td>\n",
       "      <td>qufhixun</td>\n",
       "      <td>MSA, Not Principle  City</td>\n",
       "      <td>1.0</td>\n",
       "      <td>0.0</td>\n",
       "      <td>0</td>\n",
       "    </tr>\n",
       "  </tbody>\n",
       "</table>\n",
       "<p>5 rows × 33 columns</p>\n",
       "</div>"
      ],
      "text/plain": [
       "   h1n1_concern  h1n1_knowledge  behavioral_antiviral_meds  \\\n",
       "0           1.0             0.0                        0.0   \n",
       "1           3.0             2.0                        0.0   \n",
       "2           1.0             1.0                        0.0   \n",
       "3           1.0             1.0                        0.0   \n",
       "4           2.0             1.0                        0.0   \n",
       "\n",
       "   behavioral_avoidance  behavioral_face_mask  behavioral_wash_hands  \\\n",
       "0                   0.0                   0.0                    0.0   \n",
       "1                   1.0                   0.0                    1.0   \n",
       "2                   1.0                   0.0                    0.0   \n",
       "3                   1.0                   0.0                    1.0   \n",
       "4                   1.0                   0.0                    1.0   \n",
       "\n",
       "   behavioral_large_gatherings  behavioral_outside_home  \\\n",
       "0                          0.0                      1.0   \n",
       "1                          0.0                      1.0   \n",
       "2                          0.0                      0.0   \n",
       "3                          1.0                      0.0   \n",
       "4                          1.0                      0.0   \n",
       "\n",
       "   behavioral_touch_face  doctor_recc_h1n1  ...     sex  income_poverty  \\\n",
       "0                    1.0               0.0  ...  Female             0.0   \n",
       "1                    1.0               0.0  ...    Male             0.0   \n",
       "2                    0.0               0.0  ...    Male             1.0   \n",
       "3                    0.0               0.0  ...  Female             0.0   \n",
       "4                    1.0               0.0  ...  Female             1.0   \n",
       "\n",
       "   marital_status  rent_or_own  employment_status  hhs_geo_region  \\\n",
       "0     Not Married          Own                2.0        oxchjgsf   \n",
       "1     Not Married         Rent                0.0        bhuqouqj   \n",
       "2     Not Married          Own                0.0        qufhixun   \n",
       "3     Not Married         Rent                2.0        lrircsnp   \n",
       "4         Married          Own                0.0        qufhixun   \n",
       "\n",
       "                 census_msa  household_adults  household_children  \\\n",
       "0                   Non-MSA               0.0                 0.0   \n",
       "1  MSA, Not Principle  City               0.0                 0.0   \n",
       "2  MSA, Not Principle  City               2.0                 0.0   \n",
       "3       MSA, Principle City               0.0                 0.0   \n",
       "4  MSA, Not Principle  City               1.0                 0.0   \n",
       "\n",
       "   seasonal_vaccine  \n",
       "0                 0  \n",
       "1                 1  \n",
       "2                 0  \n",
       "3                 1  \n",
       "4                 0  \n",
       "\n",
       "[5 rows x 33 columns]"
      ]
     },
     "execution_count": 475,
     "metadata": {},
     "output_type": "execute_result"
    }
   ],
   "source": [
    "df1.head()"
   ]
  },
  {
   "cell_type": "code",
   "execution_count": 478,
   "id": "5b6693c2",
   "metadata": {},
   "outputs": [],
   "source": [
    "df1.drop('hhs_geo_region', axis=1, inplace=True)"
   ]
  },
  {
   "cell_type": "code",
   "execution_count": null,
   "id": "66b4c056",
   "metadata": {},
   "outputs": [],
   "source": [
    "nominal_cols = [\n",
    "    \"race\",\n",
    "    \"census_msa\",\n",
    "    \"sex\",\n",
    "    \"marital_status\",\n",
    "    \"rent_or_own\",\n",
    "    \n",
    "]\n",
    "\n",
    "data = pd.get_dummies(df1, columns=nominal_cols, drop_first=True).astype(int)"
   ]
  },
  {
   "cell_type": "code",
   "execution_count": 481,
   "id": "90a7844a",
   "metadata": {},
   "outputs": [
    {
     "data": {
      "text/html": [
       "<div>\n",
       "<style scoped>\n",
       "    .dataframe tbody tr th:only-of-type {\n",
       "        vertical-align: middle;\n",
       "    }\n",
       "\n",
       "    .dataframe tbody tr th {\n",
       "        vertical-align: top;\n",
       "    }\n",
       "\n",
       "    .dataframe thead th {\n",
       "        text-align: right;\n",
       "    }\n",
       "</style>\n",
       "<table border=\"1\" class=\"dataframe\">\n",
       "  <thead>\n",
       "    <tr style=\"text-align: right;\">\n",
       "      <th></th>\n",
       "      <th>h1n1_concern</th>\n",
       "      <th>h1n1_knowledge</th>\n",
       "      <th>behavioral_antiviral_meds</th>\n",
       "      <th>behavioral_avoidance</th>\n",
       "      <th>behavioral_face_mask</th>\n",
       "      <th>behavioral_wash_hands</th>\n",
       "      <th>behavioral_large_gatherings</th>\n",
       "      <th>behavioral_outside_home</th>\n",
       "      <th>behavioral_touch_face</th>\n",
       "      <th>doctor_recc_h1n1</th>\n",
       "      <th>...</th>\n",
       "      <th>household_children</th>\n",
       "      <th>seasonal_vaccine</th>\n",
       "      <th>race_Hispanic</th>\n",
       "      <th>race_Other or Multiple</th>\n",
       "      <th>race_White</th>\n",
       "      <th>census_msa_MSA, Principle City</th>\n",
       "      <th>census_msa_Non-MSA</th>\n",
       "      <th>sex_Male</th>\n",
       "      <th>marital_status_Not Married</th>\n",
       "      <th>rent_or_own_Rent</th>\n",
       "    </tr>\n",
       "  </thead>\n",
       "  <tbody>\n",
       "    <tr>\n",
       "      <th>0</th>\n",
       "      <td>1</td>\n",
       "      <td>0</td>\n",
       "      <td>0</td>\n",
       "      <td>0</td>\n",
       "      <td>0</td>\n",
       "      <td>0</td>\n",
       "      <td>0</td>\n",
       "      <td>1</td>\n",
       "      <td>1</td>\n",
       "      <td>0</td>\n",
       "      <td>...</td>\n",
       "      <td>0</td>\n",
       "      <td>0</td>\n",
       "      <td>0</td>\n",
       "      <td>0</td>\n",
       "      <td>1</td>\n",
       "      <td>0</td>\n",
       "      <td>1</td>\n",
       "      <td>0</td>\n",
       "      <td>1</td>\n",
       "      <td>0</td>\n",
       "    </tr>\n",
       "    <tr>\n",
       "      <th>1</th>\n",
       "      <td>3</td>\n",
       "      <td>2</td>\n",
       "      <td>0</td>\n",
       "      <td>1</td>\n",
       "      <td>0</td>\n",
       "      <td>1</td>\n",
       "      <td>0</td>\n",
       "      <td>1</td>\n",
       "      <td>1</td>\n",
       "      <td>0</td>\n",
       "      <td>...</td>\n",
       "      <td>0</td>\n",
       "      <td>1</td>\n",
       "      <td>0</td>\n",
       "      <td>0</td>\n",
       "      <td>1</td>\n",
       "      <td>0</td>\n",
       "      <td>0</td>\n",
       "      <td>1</td>\n",
       "      <td>1</td>\n",
       "      <td>1</td>\n",
       "    </tr>\n",
       "    <tr>\n",
       "      <th>2</th>\n",
       "      <td>1</td>\n",
       "      <td>1</td>\n",
       "      <td>0</td>\n",
       "      <td>1</td>\n",
       "      <td>0</td>\n",
       "      <td>0</td>\n",
       "      <td>0</td>\n",
       "      <td>0</td>\n",
       "      <td>0</td>\n",
       "      <td>0</td>\n",
       "      <td>...</td>\n",
       "      <td>0</td>\n",
       "      <td>0</td>\n",
       "      <td>0</td>\n",
       "      <td>0</td>\n",
       "      <td>1</td>\n",
       "      <td>0</td>\n",
       "      <td>0</td>\n",
       "      <td>1</td>\n",
       "      <td>1</td>\n",
       "      <td>0</td>\n",
       "    </tr>\n",
       "    <tr>\n",
       "      <th>3</th>\n",
       "      <td>1</td>\n",
       "      <td>1</td>\n",
       "      <td>0</td>\n",
       "      <td>1</td>\n",
       "      <td>0</td>\n",
       "      <td>1</td>\n",
       "      <td>1</td>\n",
       "      <td>0</td>\n",
       "      <td>0</td>\n",
       "      <td>0</td>\n",
       "      <td>...</td>\n",
       "      <td>0</td>\n",
       "      <td>1</td>\n",
       "      <td>0</td>\n",
       "      <td>0</td>\n",
       "      <td>1</td>\n",
       "      <td>1</td>\n",
       "      <td>0</td>\n",
       "      <td>0</td>\n",
       "      <td>1</td>\n",
       "      <td>1</td>\n",
       "    </tr>\n",
       "    <tr>\n",
       "      <th>4</th>\n",
       "      <td>2</td>\n",
       "      <td>1</td>\n",
       "      <td>0</td>\n",
       "      <td>1</td>\n",
       "      <td>0</td>\n",
       "      <td>1</td>\n",
       "      <td>1</td>\n",
       "      <td>0</td>\n",
       "      <td>1</td>\n",
       "      <td>0</td>\n",
       "      <td>...</td>\n",
       "      <td>0</td>\n",
       "      <td>0</td>\n",
       "      <td>0</td>\n",
       "      <td>0</td>\n",
       "      <td>1</td>\n",
       "      <td>0</td>\n",
       "      <td>0</td>\n",
       "      <td>0</td>\n",
       "      <td>0</td>\n",
       "      <td>0</td>\n",
       "    </tr>\n",
       "  </tbody>\n",
       "</table>\n",
       "<p>5 rows × 35 columns</p>\n",
       "</div>"
      ],
      "text/plain": [
       "   h1n1_concern  h1n1_knowledge  behavioral_antiviral_meds  \\\n",
       "0             1               0                          0   \n",
       "1             3               2                          0   \n",
       "2             1               1                          0   \n",
       "3             1               1                          0   \n",
       "4             2               1                          0   \n",
       "\n",
       "   behavioral_avoidance  behavioral_face_mask  behavioral_wash_hands  \\\n",
       "0                     0                     0                      0   \n",
       "1                     1                     0                      1   \n",
       "2                     1                     0                      0   \n",
       "3                     1                     0                      1   \n",
       "4                     1                     0                      1   \n",
       "\n",
       "   behavioral_large_gatherings  behavioral_outside_home  \\\n",
       "0                            0                        1   \n",
       "1                            0                        1   \n",
       "2                            0                        0   \n",
       "3                            1                        0   \n",
       "4                            1                        0   \n",
       "\n",
       "   behavioral_touch_face  doctor_recc_h1n1  ...  household_children  \\\n",
       "0                      1                 0  ...                   0   \n",
       "1                      1                 0  ...                   0   \n",
       "2                      0                 0  ...                   0   \n",
       "3                      0                 0  ...                   0   \n",
       "4                      1                 0  ...                   0   \n",
       "\n",
       "   seasonal_vaccine  race_Hispanic  race_Other or Multiple  race_White  \\\n",
       "0                 0              0                       0           1   \n",
       "1                 1              0                       0           1   \n",
       "2                 0              0                       0           1   \n",
       "3                 1              0                       0           1   \n",
       "4                 0              0                       0           1   \n",
       "\n",
       "   census_msa_MSA, Principle City  census_msa_Non-MSA  sex_Male  \\\n",
       "0                               0                   1         0   \n",
       "1                               0                   0         1   \n",
       "2                               0                   0         1   \n",
       "3                               1                   0         0   \n",
       "4                               0                   0         0   \n",
       "\n",
       "   marital_status_Not Married  rent_or_own_Rent  \n",
       "0                           1                 0  \n",
       "1                           1                 1  \n",
       "2                           1                 0  \n",
       "3                           1                 1  \n",
       "4                           0                 0  \n",
       "\n",
       "[5 rows x 35 columns]"
      ]
     },
     "execution_count": 481,
     "metadata": {},
     "output_type": "execute_result"
    }
   ],
   "source": [
    "data.head()"
   ]
  },
  {
   "cell_type": "code",
   "execution_count": 482,
   "id": "c8bb7d5f",
   "metadata": {},
   "outputs": [
    {
     "data": {
      "text/plain": [
       "seasonal_vaccine\n",
       "0    14272\n",
       "1    12435\n",
       "Name: count, dtype: int64"
      ]
     },
     "execution_count": 482,
     "metadata": {},
     "output_type": "execute_result"
    }
   ],
   "source": [
    "# check the distribution of value counts\n",
    "data['seasonal_vaccine'].value_counts()"
   ]
  },
  {
   "cell_type": "code",
   "execution_count": 477,
   "id": "63ff7f75",
   "metadata": {},
   "outputs": [
    {
     "data": {
      "text/plain": [
       "hhs_geo_region\n",
       "lzgpxyit    4297\n",
       "fpwskwrf    3265\n",
       "qufhixun    3102\n",
       "oxchjgsf    2859\n",
       "kbazzjca    2858\n",
       "bhuqouqj    2846\n",
       "mlyzmhmf    2243\n",
       "lrircsnp    2078\n",
       "atmpeygn    2033\n",
       "dqpwygqj    1126\n",
       "Name: count, dtype: int64"
      ]
     },
     "execution_count": 477,
     "metadata": {},
     "output_type": "execute_result"
    }
   ],
   "source": [
    "df1['hhs_geo_region'].value_counts()"
   ]
  },
  {
   "cell_type": "code",
   "execution_count": 531,
   "id": "232044c1",
   "metadata": {},
   "outputs": [
    {
     "data": {
      "text/plain": [
       "seasonal_vaccine                  1.000000\n",
       "opinion_seas_risk                 0.386916\n",
       "doctor_recc_seasonal              0.360696\n",
       "opinion_seas_vacc_effective       0.358869\n",
       "age_group                         0.277454\n",
       "opinion_h1n1_risk                 0.215650\n",
       "opinion_h1n1_vacc_effective       0.203187\n",
       "doctor_recc_h1n1                  0.198560\n",
       "chronic_med_condition             0.169465\n",
       "h1n1_concern                      0.154488\n",
       "employment_status                 0.129689\n",
       "health_worker                     0.126977\n",
       "behavioral_touch_face             0.119925\n",
       "h1n1_knowledge                    0.119779\n",
       "behavioral_wash_hands             0.112254\n",
       "race_White                        0.100314\n",
       "behavioral_avoidance              0.076130\n",
       "education                         0.066918\n",
       "income_poverty                    0.063805\n",
       "behavioral_large_gatherings       0.063722\n",
       "behavioral_outside_home           0.053287\n",
       "behavioral_face_mask              0.050020\n",
       "opinion_h1n1_sick_from_vacc       0.027964\n",
       "child_under_6_months              0.013424\n",
       "behavioral_antiviral_meds         0.006013\n",
       "census_msa_Non-MSA               -0.009042\n",
       "census_msa_MSA, Principle City   -0.015406\n",
       "race_Other or Multiple           -0.023186\n",
       "marital_status_Not Married       -0.042360\n",
       "opinion_seas_sick_from_vacc      -0.060538\n",
       "household_adults                 -0.065137\n",
       "race_Hispanic                    -0.066995\n",
       "sex_Male                         -0.077091\n",
       "rent_or_own_Rent                 -0.101796\n",
       "household_children               -0.111680\n",
       "Name: seasonal_vaccine, dtype: float64"
      ]
     },
     "execution_count": 531,
     "metadata": {},
     "output_type": "execute_result"
    }
   ],
   "source": [
    "# checking corerelation of all features with target variable 'seasonal_vaccine'\n",
    "correlation = data.corr()['seasonal_vaccine'].sort_values(ascending=False)\n",
    "correlation"
   ]
  },
  {
   "cell_type": "code",
   "execution_count": 573,
   "id": "29b95b95",
   "metadata": {},
   "outputs": [],
   "source": [
    "df1.drop('census_msa', axis=1, inplace=True)"
   ]
  },
  {
   "cell_type": "markdown",
   "id": "13e921ee",
   "metadata": {},
   "source": [
    "### Modeling"
   ]
  },
  {
   "cell_type": "code",
   "execution_count": 598,
   "id": "f232179e",
   "metadata": {},
   "outputs": [],
   "source": [
    "X = data.drop('seasonal_vaccine', axis=1)\n",
    "y = data['seasonal_vaccine']"
   ]
  },
  {
   "cell_type": "code",
   "execution_count": 599,
   "id": "a7d8ab2d",
   "metadata": {},
   "outputs": [],
   "source": [
    "# importing libraries for modeling\n",
    "from sklearn.model_selection import train_test_split\n",
    "from sklearn.linear_model import LogisticRegression\n",
    "from sklearn.metrics import classification_report, confusion_matrix, roc_auc_score, roc_curve\n",
    "\n",
    "### Modeling\n",
    "X_train, X_test, y_train, y_test = train_test_split(X, y, test_size=0.3, random_state=42)\n",
    " \n",
    "# training the model\n",
    "model = LogisticRegression(max_iter=2000, penalty='l1', solver='liblinear')\n",
    "model.fit(X_train, y_train)\n",
    "\n",
    " # making predictions\n",
    "y_pred = model.predict(X_test) \n",
    "\n",
    "\n"
   ]
  },
  {
   "cell_type": "code",
   "execution_count": 600,
   "id": "ef691cc6",
   "metadata": {},
   "outputs": [
    {
     "name": "stdout",
     "output_type": "stream",
     "text": [
      "Confusion Matrix:\n",
      "[[3561  781]\n",
      " [ 952 2719]]\n",
      "\n",
      "Classification Report:\n",
      "              precision    recall  f1-score   support\n",
      "\n",
      "           0       0.79      0.82      0.80      4342\n",
      "           1       0.78      0.74      0.76      3671\n",
      "\n",
      "    accuracy                           0.78      8013\n",
      "   macro avg       0.78      0.78      0.78      8013\n",
      "weighted avg       0.78      0.78      0.78      8013\n",
      "\n",
      "\n",
      "ROC AUC Score:\n",
      "0.7803995449789397\n"
     ]
    }
   ],
   "source": [
    "# Evaluating the model\n",
    "print(\"Confusion Matrix:\")\n",
    "print(confusion_matrix(y_test, y_pred))\n",
    "print(\"\\nClassification Report:\")\n",
    "print(classification_report(y_test, y_pred))\n",
    "print(\"\\nROC AUC Score:\")\n",
    "print(roc_auc_score(y_test, y_pred))\n"
   ]
  },
  {
   "cell_type": "code",
   "execution_count": 577,
   "id": "df38e9eb",
   "metadata": {},
   "outputs": [
    {
     "data": {
      "image/png": "[encoded data removed]",
      "text/plain": [
       "<Figure size 640x480 with 1 Axes>"
      ]
     },
     "metadata": {},
     "output_type": "display_data"
    }
   ],
   "source": [
    "# ploting the roc curve\n",
    "y_prob = model.predict_proba(X_test)[:, 1]\n",
    "fpr, tpr, thresholds = roc_curve(y_test, y_prob)\n",
    "plt.plot(fpr, tpr, label='Logistic Regression (area = %0.2f)' % roc_auc_score(y_test, y_prob))\n",
    "# plt.plot([0, 1], [0, 1], 'k--')  # Random guess line\n",
    "plt.xlim([0.0, 1.0])\n",
    "plt.ylim([0.0, 1.05])\n",
    "plt.xlabel('False Positive Rate')\n",
    "plt.ylabel('True Positive Rate')\n",
    "plt.title('Receiver Operating Characteristic')\n",
    "plt.legend(loc=\"lower right\")\n",
    "plt.show()"
   ]
  },
  {
   "cell_type": "code",
   "execution_count": 578,
   "id": "dd82750b",
   "metadata": {},
   "outputs": [
    {
     "data": {
      "image/png": "[encoded data removed]",
      "text/plain": [
       "<Figure size 640x480 with 2 Axes>"
      ]
     },
     "metadata": {},
     "output_type": "display_data"
    }
   ],
   "source": [
    "# ploting the confusion matrix\n",
    "cm = confusion_matrix(y_test, y_pred)\n",
    "sns.heatmap(cm, annot=True, fmt='d', cmap='Blues')\n",
    "plt.xlabel('Predicted')\n",
    "plt.ylabel('Actual')\n",
    "plt.show()"
   ]
  },
  {
   "cell_type": "code",
   "execution_count": 601,
   "id": "bbf8831e",
   "metadata": {},
   "outputs": [
    {
     "name": "stdout",
     "output_type": "stream",
     "text": [
      "F1 Score: 0.7583321712452935\n"
     ]
    }
   ],
   "source": [
    "# F1 score during training and testing\n",
    "from sklearn.metrics import f1_score\n",
    "f1 = f1_score(y_test, y_pred)\n",
    "print(f\"F1 Score: {f1}\")\n",
    "\n"
   ]
  },
  {
   "cell_type": "code",
   "execution_count": 596,
   "id": "4ba438b8",
   "metadata": {},
   "outputs": [
    {
     "name": "stdout",
     "output_type": "stream",
     "text": [
      "Precision Score: 0.7724492292635184\n"
     ]
    }
   ],
   "source": [
    "# Precision score during training and testing\n",
    "from sklearn.metrics import precision_score\n",
    "precision = precision_score(y_test, y_pred)\n",
    "print(f\"Precision Score: {precision}\")"
   ]
  },
  {
   "cell_type": "code",
   "execution_count": 602,
   "id": "10c70293",
   "metadata": {},
   "outputs": [
    {
     "name": "stdout",
     "output_type": "stream",
     "text": [
      "Recall Score: 0.7406701171342959\n"
     ]
    }
   ],
   "source": [
    "# Recall score during training and testing\n",
    "from sklearn.metrics import recall_score\n",
    "recall = recall_score(y_test, y_pred)\n",
    "print(f\"Recall Score: {recall}\")"
   ]
  },
  {
   "cell_type": "code",
   "execution_count": 603,
   "id": "6e078f04",
   "metadata": {},
   "outputs": [
    {
     "name": "stdout",
     "output_type": "stream",
     "text": [
      "Training Accuracy: 0.7722798758960094\n",
      "Testing Accuracy: 0.7837264445276426\n"
     ]
    }
   ],
   "source": [
    "# checking for training and testing score accuracy \n",
    "print(f\"Training Accuracy: {model.score(X_train, y_train)}\")\n",
    "print(f\"Testing Accuracy: {model.score(X_test, y_test)}\")"
   ]
  },
  {
   "cell_type": "markdown",
   "id": "f7165f6a",
   "metadata": {},
   "source": [
    "* droping irrelevant columns and also columns with highest missing values\n",
    "* impute columns with less missing values \n",
    "* perform class imbalance\n",
    "* onehot encoding\n",
    "* "
   ]
  },
  {
   "cell_type": "markdown",
   "id": "5d11879e",
   "metadata": {},
   "source": [
    "### DECISION TREE"
   ]
  },
  {
   "cell_type": "code",
   "execution_count": 615,
   "id": "510fe65f",
   "metadata": {},
   "outputs": [],
   "source": [
    "# importing decision tree libraries\n",
    "from sklearn.tree import DecisionTreeClassifier\n",
    "from sklearn.model_selection import cross_val_score, KFold,StratifiedKFold\n",
    "from sklearn.model_selection import cross_val_score\n",
    "dt_clf = DecisionTreeClassifier(random_state=42,  max_depth=5)\n"
   ]
  },
  {
   "cell_type": "code",
   "execution_count": 616,
   "id": "215c4b09",
   "metadata": {},
   "outputs": [],
   "source": [
    "# splitting the data\n",
    "X_train2, X_test2, y_train2, y_test2 = train_test_split(X, y, test_size=0.2, random_state=42)\n",
    "# fitting the model\n",
    "dt_clf.fit(X_train2, y_train2)\n",
    "# making predictions\n",
    "y_pred_dt = dt_clf.predict(X_test2)"
   ]
  },
  {
   "cell_type": "code",
   "execution_count": 617,
   "id": "c93e69cf",
   "metadata": {},
   "outputs": [
    {
     "name": "stdout",
     "output_type": "stream",
     "text": [
      "Training Accuracy: 0.758015445822607\n",
      "Testing Accuracy: 0.7588918008236616\n"
     ]
    }
   ],
   "source": [
    "# accuracy score for our decision tree model\n",
    "print(f\"Training Accuracy: {dt_clf.score(X_train2, y_train2)}\")\n",
    "print(f\"Testing Accuracy: {dt_clf.score(X_test2, y_test2)}\")"
   ]
  },
  {
   "cell_type": "code",
   "execution_count": 611,
   "id": "6e67b34f",
   "metadata": {},
   "outputs": [
    {
     "name": "stdout",
     "output_type": "stream",
     "text": [
      "Cross-Validation Scores: [0.74953271 0.74018692 0.74205607 0.72897196 0.7046729  0.72149533\n",
      " 0.67850467 0.73220974 0.70973783 0.73220974 0.72284644 0.7340824\n",
      " 0.73595506 0.73220974 0.69662921 0.74531835 0.72097378 0.69662921\n",
      " 0.70599251 0.71722846 0.69101124 0.66853933 0.71161049 0.73033708\n",
      " 0.70599251 0.7340824  0.73033708 0.73033708 0.72097378 0.7340824\n",
      " 0.71910112 0.71535581 0.7340824  0.70224719 0.74906367 0.7247191\n",
      " 0.70973783 0.72284644 0.71722846 0.73220974 0.72284644 0.71910112\n",
      " 0.70599251 0.71722846 0.73595506 0.70224719 0.72846442 0.72659176\n",
      " 0.76217228 0.76029963]\n"
     ]
    }
   ],
   "source": [
    "# cross validation for decision tree model\n",
    "kfold = KFold(n_splits=50, shuffle=True, random_state=42)\n",
    "results = cross_val_score(dt_clf, X, y, cv=kfold)\n",
    "print(f\"Cross-Validation Scores: {results}\")"
   ]
  },
  {
   "cell_type": "code",
   "execution_count": 581,
   "id": "50406e90",
   "metadata": {},
   "outputs": [
    {
     "data": {
      "text/plain": [
       "0.754520704259862"
      ]
     },
     "execution_count": 581,
     "metadata": {},
     "output_type": "execute_result"
    }
   ],
   "source": [
    "np.average(results)"
   ]
  },
  {
   "cell_type": "code",
   "execution_count": 618,
   "id": "a804461c",
   "metadata": {},
   "outputs": [
    {
     "name": "stdout",
     "output_type": "stream",
     "text": [
      "Confusion Matrix:\n",
      "[[2452  439]\n",
      " [ 849 1602]]\n",
      "\n",
      "Classification Report:\n",
      "              precision    recall  f1-score   support\n",
      "\n",
      "           0       0.74      0.85      0.79      2891\n",
      "           1       0.78      0.65      0.71      2451\n",
      "\n",
      "    accuracy                           0.76      5342\n",
      "   macro avg       0.76      0.75      0.75      5342\n",
      "weighted avg       0.76      0.76      0.76      5342\n",
      "\n"
     ]
    }
   ],
   "source": [
    "# checking for precision, recall and f1 score for decision tree model\n",
    "print(\"Confusion Matrix:\")\n",
    "print(confusion_matrix(y_test2, y_pred_dt))\n",
    "print(\"\\nClassification Report:\")\n",
    "print(classification_report(y_test2, y_pred_dt))\n"
   ]
  },
  {
   "cell_type": "code",
   "execution_count": 613,
   "id": "c35b26d9",
   "metadata": {},
   "outputs": [
    {
     "name": "stdout",
     "output_type": "stream",
     "text": [
      "F1 Score for Decision Tree: 0.6798828564992115\n"
     ]
    }
   ],
   "source": [
    "# checking for F1 score for decision tree model\n",
    "from sklearn.metrics import f1_score\n",
    "f1_dt = f1_score(y_test2, y_pred_dt)\n",
    "print(f\"F1 Score for Decision Tree: {f1_dt}\")"
   ]
  },
  {
   "cell_type": "code",
   "execution_count": 614,
   "id": "2f918c75",
   "metadata": {},
   "outputs": [
    {
     "data": {
      "text/plain": [
       "<matplotlib.legend.Legend at 0x195cb2608d0>"
      ]
     },
     "execution_count": 614,
     "metadata": {},
     "output_type": "execute_result"
    },
    {
     "data": {
      "image/png": "[encoded data removed]",
      "text/plain": [
       "<Figure size 640x480 with 1 Axes>"
      ]
     },
     "metadata": {},
     "output_type": "display_data"
    }
   ],
   "source": [
    "# ploting the roc curve for decision tree model\n",
    "y_prob_dt = dt_clf.predict_proba(X_test2)[:, 1]\n",
    "fpr_dt, tpr_dt, thresholds_dt = roc_curve(y_test2, y_prob_dt)\n",
    "plt.plot(fpr_dt, tpr_dt, label='Decision Tree (area = %0 .2f)' % roc_auc_score(y_test2, y_prob_dt))\n",
    "plt.xlim([0.0, 1.0])\n",
    "plt.ylim([0.0, 1.05])\n",
    "plt.xlabel('False Positive Rate')   \n",
    "plt.ylabel('True Positive Rate')\n",
    "plt.title('Receiver Operating Characteristic - Decision Tree')\n",
    "plt.legend(loc=\"lower right\")"
   ]
  },
  {
   "cell_type": "markdown",
   "id": "1230c439",
   "metadata": {},
   "source": [
    "### RANDOM FOREST"
   ]
  },
  {
   "cell_type": "code",
   "execution_count": 619,
   "id": "439e515f",
   "metadata": {},
   "outputs": [
    {
     "name": "stdout",
     "output_type": "stream",
     "text": [
      "Training Accuracy: 0.7667680786332788\n",
      "Testing Accuracy: 0.7719955073006365\n"
     ]
    }
   ],
   "source": [
    "# importing random forest libraries\n",
    "from sklearn.ensemble import RandomForestClassifier\n",
    "rf_clf = RandomForestClassifier(random_state=42, n_estimators=100, max_depth=5)\n",
    "rf_clf.fit(X_train2, y_train2)\n",
    "y_pred_rf = rf_clf.predict(X_test2)\n",
    "# accuracy score for random forest model\n",
    "print(f\"Training Accuracy: {rf_clf.score(X_train2, y_train2)}\")\n",
    "print(f\"Testing Accuracy: {rf_clf.score(X_test2, y_test2)}\")\n"
   ]
  },
  {
   "cell_type": "code",
   "execution_count": null,
   "id": "85e0a641",
   "metadata": {},
   "outputs": [
    {
     "name": "stdout",
     "output_type": "stream",
     "text": [
      "Precision Score for Random Forest: 0.7780784844384303\n"
     ]
    }
   ],
   "source": [
    "# precision score for random forest model\n",
    "from sklearn.metrics import precision_score\n",
    "precision_rf = precision_score(y_test2, y_pred_rf)\n",
    "print(f\"Precision Score for Random Forest: {precision_rf}\")\n"
   ]
  },
  {
   "cell_type": "code",
   "execution_count": 621,
   "id": "429a1070",
   "metadata": {},
   "outputs": [
    {
     "name": "stdout",
     "output_type": "stream",
     "text": [
      "F1 Score for Random Forest: 0.7390745501285346\n"
     ]
    }
   ],
   "source": [
    "# F1 score for random forest model\n",
    "from sklearn.metrics import f1_score\n",
    "f1_rf = f1_score(y_test2, y_pred_rf)\n",
    "print(f\"F1 Score for Random Forest: {f1_rf}\")"
   ]
  },
  {
   "cell_type": "code",
   "execution_count": 622,
   "id": "82b60fd5",
   "metadata": {},
   "outputs": [
    {
     "name": "stdout",
     "output_type": "stream",
     "text": [
      "Confusion Matrix:\n",
      "[[2399  492]\n",
      " [ 726 1725]]\n",
      "\n",
      "Classification Report:\n",
      "              precision    recall  f1-score   support\n",
      "\n",
      "           0       0.77      0.83      0.80      2891\n",
      "           1       0.78      0.70      0.74      2451\n",
      "\n",
      "    accuracy                           0.77      5342\n",
      "   macro avg       0.77      0.77      0.77      5342\n",
      "weighted avg       0.77      0.77      0.77      5342\n",
      "\n"
     ]
    }
   ],
   "source": [
    "# precision , recall and f1 score for random forest model\n",
    "print(\"Confusion Matrix:\")\n",
    "print(confusion_matrix(y_test2, y_pred_rf))\n",
    "print(\"\\nClassification Report:\")\n",
    "print(classification_report(y_test2, y_pred_rf))\n"
   ]
  },
  {
   "cell_type": "code",
   "execution_count": 623,
   "id": "36b8d8e1",
   "metadata": {},
   "outputs": [
    {
     "data": {
      "text/plain": [
       "<matplotlib.legend.Legend at 0x195cb352210>"
      ]
     },
     "execution_count": 623,
     "metadata": {},
     "output_type": "execute_result"
    },
    {
     "data": {
      "image/png": "[encoded data removed]",
      "text/plain": [
       "<Figure size 640x480 with 1 Axes>"
      ]
     },
     "metadata": {},
     "output_type": "display_data"
    }
   ],
   "source": [
    "# ploting the roc curve for decision random forest model\n",
    "y_prob_rf = rf_clf.predict_proba(X_test2)[:, 1]\n",
    "fpr_rf, tpr_rf, thresholds_rf = roc_curve(y_test2, y_prob_rf)\n",
    "plt.plot(fpr_rf, tpr_rf, label='Random Forest (area = %0.2f)' % roc_auc_score(y_test2, y_prob_rf))\n",
    "plt.xlim([0.0, 1.0])\n",
    "plt.ylim([0.0, 1.05])\n",
    "plt.xlabel('False Positive Rate')\n",
    "plt.ylabel('True Positive Rate')\n",
    "plt.title('Receiver Operating Characteristic - Random Forest')\n",
    "plt.legend(loc=\"lower right\")"
   ]
  },
  {
   "cell_type": "code",
   "execution_count": 624,
   "id": "642a802c",
   "metadata": {},
   "outputs": [
    {
     "name": "stdout",
     "output_type": "stream",
     "text": [
      "ROC AUC Score for Logistic Regression: 0.8501197215819184\n",
      "ROC AUC Score for Decision Tree: 0.7971089105725065\n",
      "ROC AUC Score for Random Forest: 0.8420597498589087\n"
     ]
    }
   ],
   "source": [
    "# Roc Auc Score for all models\n",
    "print(f\"ROC AUC Score for Logistic Regression: {roc_auc_score(y_test, y_prob)}\")\n",
    "print(f\"ROC AUC Score for Decision Tree: {roc_auc_score(y_test2, y_prob_dt)}\")\n",
    "print(f\"ROC AUC Score for Random Forest: {roc_auc_score(y_test2, y_prob_rf)}\") \n",
    "\n"
   ]
  },
  {
   "cell_type": "code",
   "execution_count": 629,
   "id": "b38dde58",
   "metadata": {},
   "outputs": [
    {
     "name": "stdout",
     "output_type": "stream",
     "text": [
      "F1 Score for Logistic Regression: 0.7583321712452935\n",
      "Precision Score for Logistic Regression: 0.7724492292635184\n",
      "Recall Score for Logistic Regression: 0.7406701171342959\n",
      "------------------------------------------------\n",
      "F1 Score for Decision Tree: 0.6798828564992115\n",
      "Precision Score for Decision Tree: 0.7780784844384303\n",
      "recall Score for Decision Tree: 0.7406701171342959\n",
      "------------------------------------------------\n",
      "Precision Score for Random Forest: 0.7780784844384303\n",
      "F1 Score for Random Forest: 0.7390745501285346\n",
      "recall Score for Random Forest: 0.7406701171342959\n"
     ]
    }
   ],
   "source": [
    "# printing F1 Score PRECISION RECALL and recall for all models\n",
    "print(f\"F1 Score for Logistic Regression: {f1}\")\n",
    "print(f\"Precision Score for Logistic Regression: {precision}\")\n",
    "print(f\"Recall Score for Logistic Regression: {recall}\")\n",
    "print('------------------------------------------------')\n",
    "print(f\"F1 Score for Decision Tree: {f1_dt}\")\n",
    "print(f\"Precision Score for Decision Tree: {precision_rf}\")\n",
    "print(f\"recall Score for Decision Tree: {recall}\")\n",
    "\n",
    "### RANDOM FOREST\n",
    "print('------------------------------------------------')\n",
    "print(f\"Precision Score for Random Forest: {precision_rf}\")\n",
    "print(f\"F1 Score for Random Forest: {f1_rf}\")\n",
    "print(f\"recall Score for Random Forest: {recall}\")\n"
   ]
  },
  {
   "cell_type": "code",
   "execution_count": null,
   "id": "e6dd005f",
   "metadata": {},
   "outputs": [],
   "source": []
  },
  {
   "cell_type": "code",
   "execution_count": null,
   "id": "1c6f3cc8",
   "metadata": {},
   "outputs": [],
   "source": []
  },
  {
   "cell_type": "code",
   "execution_count": null,
   "id": "8d966975",
   "metadata": {},
   "outputs": [],
   "source": []
  },
  {
   "cell_type": "code",
   "execution_count": null,
   "id": "73e5f353",
   "metadata": {},
   "outputs": [],
   "source": []
  },
  {
   "cell_type": "code",
   "execution_count": null,
   "id": "3fc30ad7",
   "metadata": {},
   "outputs": [],
   "source": []
  },
  {
   "cell_type": "code",
   "execution_count": null,
   "id": "713d834b",
   "metadata": {},
   "outputs": [],
   "source": []
  },
  {
   "cell_type": "code",
   "execution_count": null,
   "id": "3a083d5d",
   "metadata": {},
   "outputs": [],
   "source": []
  },
  {
   "cell_type": "code",
   "execution_count": null,
   "id": "af2fab53",
   "metadata": {},
   "outputs": [],
   "source": []
  },
  {
   "cell_type": "code",
   "execution_count": null,
   "id": "2808b87c",
   "metadata": {},
   "outputs": [],
   "source": []
  },
  {
   "cell_type": "code",
   "execution_count": null,
   "id": "e2265cc8",
   "metadata": {},
   "outputs": [],
   "source": []
  },
  {
   "cell_type": "code",
   "execution_count": null,
   "id": "605b48d7",
   "metadata": {},
   "outputs": [],
   "source": []
  },
  {
   "cell_type": "code",
   "execution_count": 443,
   "id": "61a7fe9a",
   "metadata": {},
   "outputs": [],
   "source": [
    "# picking the columns that i want to use for my analysis\n",
    "df1_new = df1[['h1n1_concern', 'h1n1_knowledge', 'behavioral_antiviral_meds',\n",
    "       'behavioral_avoidance', 'behavioral_face_mask', 'behavioral_wash_hands',\n",
    "       'behavioral_large_gatherings', 'behavioral_outside_home',\n",
    "       'behavioral_touch_face', 'doctor_recc_h1n1', 'doctor_recc_seasonal',\n",
    "       'chronic_med_condition', 'child_under_6_months', 'health_worker',\n",
    "       'opinion_h1n1_vacc_effective', 'opinion_h1n1_risk',\n",
    "       'opinion_h1n1_sick_from_vacc', 'opinion_seas_vacc_effective',\n",
    "       'opinion_seas_risk', 'opinion_seas_sick_from_vacc', 'age_group',\n",
    "       'education', 'race', 'sex', 'income_poverty', 'marital_status',\n",
    "       'rent_or_own', 'employment_status', 'hhs_geo_region', 'census_msa',\n",
    "       'household_adults', 'household_children', 'seasonal_vaccine']].copy()\n"
   ]
  },
  {
   "cell_type": "markdown",
   "id": "9e6c9669",
   "metadata": {},
   "source": [
    "**We decided to drop the `employment_occupation`, `employment_industry` and `health_insurance` since they have over 40% missing values filling them using mean or mode could make the data biased**"
   ]
  },
  {
   "cell_type": "code",
   "execution_count": 444,
   "id": "4e93fdb4",
   "metadata": {},
   "outputs": [
    {
     "data": {
      "text/plain": [
       "Index(['h1n1_concern', 'h1n1_knowledge', 'behavioral_antiviral_meds',\n",
       "       'behavioral_avoidance', 'behavioral_face_mask', 'behavioral_wash_hands',\n",
       "       'behavioral_large_gatherings', 'behavioral_outside_home',\n",
       "       'behavioral_touch_face', 'doctor_recc_h1n1', 'doctor_recc_seasonal',\n",
       "       'chronic_med_condition', 'child_under_6_months', 'health_worker',\n",
       "       'opinion_h1n1_vacc_effective', 'opinion_h1n1_risk',\n",
       "       'opinion_h1n1_sick_from_vacc', 'opinion_seas_vacc_effective',\n",
       "       'opinion_seas_risk', 'opinion_seas_sick_from_vacc', 'age_group',\n",
       "       'education', 'race', 'sex', 'income_poverty', 'marital_status',\n",
       "       'rent_or_own', 'employment_status', 'hhs_geo_region', 'census_msa',\n",
       "       'household_adults', 'household_children', 'seasonal_vaccine'],\n",
       "      dtype='object')"
      ]
     },
     "execution_count": 444,
     "metadata": {},
     "output_type": "execute_result"
    }
   ],
   "source": [
    "# checking for our new columns after dropping some columns\n",
    "df1_new.columns"
   ]
  },
  {
   "cell_type": "code",
   "execution_count": 445,
   "id": "83f69b87",
   "metadata": {},
   "outputs": [
    {
     "data": {
      "text/plain": [
       "h1n1_concern                   0\n",
       "h1n1_knowledge                 0\n",
       "behavioral_antiviral_meds      0\n",
       "behavioral_avoidance           0\n",
       "behavioral_face_mask           0\n",
       "behavioral_wash_hands          0\n",
       "behavioral_large_gatherings    0\n",
       "behavioral_outside_home        0\n",
       "behavioral_touch_face          0\n",
       "doctor_recc_h1n1               0\n",
       "doctor_recc_seasonal           0\n",
       "chronic_med_condition          0\n",
       "child_under_6_months           0\n",
       "health_worker                  0\n",
       "opinion_h1n1_vacc_effective    0\n",
       "opinion_h1n1_risk              0\n",
       "opinion_h1n1_sick_from_vacc    0\n",
       "opinion_seas_vacc_effective    0\n",
       "opinion_seas_risk              0\n",
       "opinion_seas_sick_from_vacc    0\n",
       "age_group                      0\n",
       "education                      0\n",
       "race                           0\n",
       "sex                            0\n",
       "income_poverty                 0\n",
       "marital_status                 0\n",
       "rent_or_own                    0\n",
       "employment_status              0\n",
       "hhs_geo_region                 0\n",
       "census_msa                     0\n",
       "household_adults               0\n",
       "household_children             0\n",
       "seasonal_vaccine               0\n",
       "dtype: int64"
      ]
     },
     "execution_count": 445,
     "metadata": {},
     "output_type": "execute_result"
    }
   ],
   "source": [
    "# checking for missing values in our new dataframe\n",
    "df1_new.isnull().sum()"
   ]
  },
  {
   "cell_type": "code",
   "execution_count": 446,
   "id": "e5b8cf3b",
   "metadata": {},
   "outputs": [
    {
     "data": {
      "text/plain": [
       "h1n1_concern                   0\n",
       "h1n1_knowledge                 0\n",
       "behavioral_antiviral_meds      0\n",
       "behavioral_avoidance           0\n",
       "behavioral_face_mask           0\n",
       "behavioral_wash_hands          0\n",
       "behavioral_large_gatherings    0\n",
       "behavioral_outside_home        0\n",
       "behavioral_touch_face          0\n",
       "doctor_recc_h1n1               0\n",
       "doctor_recc_seasonal           0\n",
       "chronic_med_condition          0\n",
       "child_under_6_months           0\n",
       "health_worker                  0\n",
       "opinion_h1n1_vacc_effective    0\n",
       "opinion_h1n1_risk              0\n",
       "opinion_h1n1_sick_from_vacc    0\n",
       "opinion_seas_vacc_effective    0\n",
       "opinion_seas_risk              0\n",
       "opinion_seas_sick_from_vacc    0\n",
       "age_group                      0\n",
       "education                      0\n",
       "race                           0\n",
       "sex                            0\n",
       "income_poverty                 0\n",
       "marital_status                 0\n",
       "rent_or_own                    0\n",
       "employment_status              0\n",
       "hhs_geo_region                 0\n",
       "census_msa                     0\n",
       "household_adults               0\n",
       "household_children             0\n",
       "seasonal_vaccine               0\n",
       "dtype: int64"
      ]
     },
     "execution_count": 446,
     "metadata": {},
     "output_type": "execute_result"
    }
   ],
   "source": [
    "# impute missing categorical columns with mode\n",
    "for col in df1_new.select_dtypes(include='float64').columns:\n",
    "    df1_new[col].fillna(df1_new[col].mode()[0], inplace=True)\n",
    "df1_new.isnull().sum()\n",
    "\n"
   ]
  },
  {
   "cell_type": "code",
   "execution_count": 447,
   "id": "c48a1352",
   "metadata": {},
   "outputs": [
    {
     "data": {
      "text/html": [
       "<div>\n",
       "<style scoped>\n",
       "    .dataframe tbody tr th:only-of-type {\n",
       "        vertical-align: middle;\n",
       "    }\n",
       "\n",
       "    .dataframe tbody tr th {\n",
       "        vertical-align: top;\n",
       "    }\n",
       "\n",
       "    .dataframe thead th {\n",
       "        text-align: right;\n",
       "    }\n",
       "</style>\n",
       "<table border=\"1\" class=\"dataframe\">\n",
       "  <thead>\n",
       "    <tr style=\"text-align: right;\">\n",
       "      <th></th>\n",
       "      <th>h1n1_concern</th>\n",
       "      <th>h1n1_knowledge</th>\n",
       "      <th>behavioral_antiviral_meds</th>\n",
       "      <th>behavioral_avoidance</th>\n",
       "      <th>behavioral_face_mask</th>\n",
       "      <th>behavioral_wash_hands</th>\n",
       "      <th>behavioral_large_gatherings</th>\n",
       "      <th>behavioral_outside_home</th>\n",
       "      <th>behavioral_touch_face</th>\n",
       "      <th>doctor_recc_h1n1</th>\n",
       "      <th>...</th>\n",
       "      <th>sex</th>\n",
       "      <th>income_poverty</th>\n",
       "      <th>marital_status</th>\n",
       "      <th>rent_or_own</th>\n",
       "      <th>employment_status</th>\n",
       "      <th>hhs_geo_region</th>\n",
       "      <th>census_msa</th>\n",
       "      <th>household_adults</th>\n",
       "      <th>household_children</th>\n",
       "      <th>seasonal_vaccine</th>\n",
       "    </tr>\n",
       "  </thead>\n",
       "  <tbody>\n",
       "    <tr>\n",
       "      <th>0</th>\n",
       "      <td>1.0</td>\n",
       "      <td>0.0</td>\n",
       "      <td>0.0</td>\n",
       "      <td>0.0</td>\n",
       "      <td>0.0</td>\n",
       "      <td>0.0</td>\n",
       "      <td>0.0</td>\n",
       "      <td>1.0</td>\n",
       "      <td>1.0</td>\n",
       "      <td>0.0</td>\n",
       "      <td>...</td>\n",
       "      <td>Female</td>\n",
       "      <td>0.0</td>\n",
       "      <td>Not Married</td>\n",
       "      <td>Own</td>\n",
       "      <td>2.0</td>\n",
       "      <td>oxchjgsf</td>\n",
       "      <td>Non-MSA</td>\n",
       "      <td>0.0</td>\n",
       "      <td>0.0</td>\n",
       "      <td>0</td>\n",
       "    </tr>\n",
       "    <tr>\n",
       "      <th>1</th>\n",
       "      <td>3.0</td>\n",
       "      <td>2.0</td>\n",
       "      <td>0.0</td>\n",
       "      <td>1.0</td>\n",
       "      <td>0.0</td>\n",
       "      <td>1.0</td>\n",
       "      <td>0.0</td>\n",
       "      <td>1.0</td>\n",
       "      <td>1.0</td>\n",
       "      <td>0.0</td>\n",
       "      <td>...</td>\n",
       "      <td>Male</td>\n",
       "      <td>0.0</td>\n",
       "      <td>Not Married</td>\n",
       "      <td>Rent</td>\n",
       "      <td>0.0</td>\n",
       "      <td>bhuqouqj</td>\n",
       "      <td>MSA, Not Principle  City</td>\n",
       "      <td>0.0</td>\n",
       "      <td>0.0</td>\n",
       "      <td>1</td>\n",
       "    </tr>\n",
       "    <tr>\n",
       "      <th>2</th>\n",
       "      <td>1.0</td>\n",
       "      <td>1.0</td>\n",
       "      <td>0.0</td>\n",
       "      <td>1.0</td>\n",
       "      <td>0.0</td>\n",
       "      <td>0.0</td>\n",
       "      <td>0.0</td>\n",
       "      <td>0.0</td>\n",
       "      <td>0.0</td>\n",
       "      <td>0.0</td>\n",
       "      <td>...</td>\n",
       "      <td>Male</td>\n",
       "      <td>1.0</td>\n",
       "      <td>Not Married</td>\n",
       "      <td>Own</td>\n",
       "      <td>0.0</td>\n",
       "      <td>qufhixun</td>\n",
       "      <td>MSA, Not Principle  City</td>\n",
       "      <td>2.0</td>\n",
       "      <td>0.0</td>\n",
       "      <td>0</td>\n",
       "    </tr>\n",
       "    <tr>\n",
       "      <th>3</th>\n",
       "      <td>1.0</td>\n",
       "      <td>1.0</td>\n",
       "      <td>0.0</td>\n",
       "      <td>1.0</td>\n",
       "      <td>0.0</td>\n",
       "      <td>1.0</td>\n",
       "      <td>1.0</td>\n",
       "      <td>0.0</td>\n",
       "      <td>0.0</td>\n",
       "      <td>0.0</td>\n",
       "      <td>...</td>\n",
       "      <td>Female</td>\n",
       "      <td>0.0</td>\n",
       "      <td>Not Married</td>\n",
       "      <td>Rent</td>\n",
       "      <td>2.0</td>\n",
       "      <td>lrircsnp</td>\n",
       "      <td>MSA, Principle City</td>\n",
       "      <td>0.0</td>\n",
       "      <td>0.0</td>\n",
       "      <td>1</td>\n",
       "    </tr>\n",
       "    <tr>\n",
       "      <th>4</th>\n",
       "      <td>2.0</td>\n",
       "      <td>1.0</td>\n",
       "      <td>0.0</td>\n",
       "      <td>1.0</td>\n",
       "      <td>0.0</td>\n",
       "      <td>1.0</td>\n",
       "      <td>1.0</td>\n",
       "      <td>0.0</td>\n",
       "      <td>1.0</td>\n",
       "      <td>0.0</td>\n",
       "      <td>...</td>\n",
       "      <td>Female</td>\n",
       "      <td>1.0</td>\n",
       "      <td>Married</td>\n",
       "      <td>Own</td>\n",
       "      <td>0.0</td>\n",
       "      <td>qufhixun</td>\n",
       "      <td>MSA, Not Principle  City</td>\n",
       "      <td>1.0</td>\n",
       "      <td>0.0</td>\n",
       "      <td>0</td>\n",
       "    </tr>\n",
       "  </tbody>\n",
       "</table>\n",
       "<p>5 rows × 33 columns</p>\n",
       "</div>"
      ],
      "text/plain": [
       "   h1n1_concern  h1n1_knowledge  behavioral_antiviral_meds  \\\n",
       "0           1.0             0.0                        0.0   \n",
       "1           3.0             2.0                        0.0   \n",
       "2           1.0             1.0                        0.0   \n",
       "3           1.0             1.0                        0.0   \n",
       "4           2.0             1.0                        0.0   \n",
       "\n",
       "   behavioral_avoidance  behavioral_face_mask  behavioral_wash_hands  \\\n",
       "0                   0.0                   0.0                    0.0   \n",
       "1                   1.0                   0.0                    1.0   \n",
       "2                   1.0                   0.0                    0.0   \n",
       "3                   1.0                   0.0                    1.0   \n",
       "4                   1.0                   0.0                    1.0   \n",
       "\n",
       "   behavioral_large_gatherings  behavioral_outside_home  \\\n",
       "0                          0.0                      1.0   \n",
       "1                          0.0                      1.0   \n",
       "2                          0.0                      0.0   \n",
       "3                          1.0                      0.0   \n",
       "4                          1.0                      0.0   \n",
       "\n",
       "   behavioral_touch_face  doctor_recc_h1n1  ...     sex  income_poverty  \\\n",
       "0                    1.0               0.0  ...  Female             0.0   \n",
       "1                    1.0               0.0  ...    Male             0.0   \n",
       "2                    0.0               0.0  ...    Male             1.0   \n",
       "3                    0.0               0.0  ...  Female             0.0   \n",
       "4                    1.0               0.0  ...  Female             1.0   \n",
       "\n",
       "   marital_status  rent_or_own  employment_status  hhs_geo_region  \\\n",
       "0     Not Married          Own                2.0        oxchjgsf   \n",
       "1     Not Married         Rent                0.0        bhuqouqj   \n",
       "2     Not Married          Own                0.0        qufhixun   \n",
       "3     Not Married         Rent                2.0        lrircsnp   \n",
       "4         Married          Own                0.0        qufhixun   \n",
       "\n",
       "                 census_msa  household_adults  household_children  \\\n",
       "0                   Non-MSA               0.0                 0.0   \n",
       "1  MSA, Not Principle  City               0.0                 0.0   \n",
       "2  MSA, Not Principle  City               2.0                 0.0   \n",
       "3       MSA, Principle City               0.0                 0.0   \n",
       "4  MSA, Not Principle  City               1.0                 0.0   \n",
       "\n",
       "   seasonal_vaccine  \n",
       "0                 0  \n",
       "1                 1  \n",
       "2                 0  \n",
       "3                 1  \n",
       "4                 0  \n",
       "\n",
       "[5 rows x 33 columns]"
      ]
     },
     "execution_count": 447,
     "metadata": {},
     "output_type": "execute_result"
    }
   ],
   "source": [
    "df1_new.head()"
   ]
  },
  {
   "cell_type": "code",
   "execution_count": 448,
   "id": "00770418",
   "metadata": {},
   "outputs": [
    {
     "data": {
      "text/html": [
       "<div>\n",
       "<style scoped>\n",
       "    .dataframe tbody tr th:only-of-type {\n",
       "        vertical-align: middle;\n",
       "    }\n",
       "\n",
       "    .dataframe tbody tr th {\n",
       "        vertical-align: top;\n",
       "    }\n",
       "\n",
       "    .dataframe thead th {\n",
       "        text-align: right;\n",
       "    }\n",
       "</style>\n",
       "<table border=\"1\" class=\"dataframe\">\n",
       "  <thead>\n",
       "    <tr style=\"text-align: right;\">\n",
       "      <th></th>\n",
       "      <th>h1n1_concern</th>\n",
       "      <th>h1n1_knowledge</th>\n",
       "      <th>behavioral_antiviral_meds</th>\n",
       "      <th>behavioral_avoidance</th>\n",
       "      <th>behavioral_face_mask</th>\n",
       "      <th>behavioral_wash_hands</th>\n",
       "      <th>behavioral_large_gatherings</th>\n",
       "      <th>behavioral_outside_home</th>\n",
       "      <th>behavioral_touch_face</th>\n",
       "      <th>doctor_recc_h1n1</th>\n",
       "      <th>...</th>\n",
       "      <th>hhs_geo_region_dqpwygqj</th>\n",
       "      <th>hhs_geo_region_fpwskwrf</th>\n",
       "      <th>hhs_geo_region_kbazzjca</th>\n",
       "      <th>hhs_geo_region_lrircsnp</th>\n",
       "      <th>hhs_geo_region_lzgpxyit</th>\n",
       "      <th>hhs_geo_region_mlyzmhmf</th>\n",
       "      <th>hhs_geo_region_oxchjgsf</th>\n",
       "      <th>hhs_geo_region_qufhixun</th>\n",
       "      <th>census_msa_MSA, Principle City</th>\n",
       "      <th>census_msa_Non-MSA</th>\n",
       "    </tr>\n",
       "  </thead>\n",
       "  <tbody>\n",
       "    <tr>\n",
       "      <th>0</th>\n",
       "      <td>1</td>\n",
       "      <td>0</td>\n",
       "      <td>0</td>\n",
       "      <td>0</td>\n",
       "      <td>0</td>\n",
       "      <td>0</td>\n",
       "      <td>0</td>\n",
       "      <td>1</td>\n",
       "      <td>1</td>\n",
       "      <td>0</td>\n",
       "      <td>...</td>\n",
       "      <td>0</td>\n",
       "      <td>0</td>\n",
       "      <td>0</td>\n",
       "      <td>0</td>\n",
       "      <td>0</td>\n",
       "      <td>0</td>\n",
       "      <td>1</td>\n",
       "      <td>0</td>\n",
       "      <td>0</td>\n",
       "      <td>1</td>\n",
       "    </tr>\n",
       "    <tr>\n",
       "      <th>1</th>\n",
       "      <td>3</td>\n",
       "      <td>2</td>\n",
       "      <td>0</td>\n",
       "      <td>1</td>\n",
       "      <td>0</td>\n",
       "      <td>1</td>\n",
       "      <td>0</td>\n",
       "      <td>1</td>\n",
       "      <td>1</td>\n",
       "      <td>0</td>\n",
       "      <td>...</td>\n",
       "      <td>0</td>\n",
       "      <td>0</td>\n",
       "      <td>0</td>\n",
       "      <td>0</td>\n",
       "      <td>0</td>\n",
       "      <td>0</td>\n",
       "      <td>0</td>\n",
       "      <td>0</td>\n",
       "      <td>0</td>\n",
       "      <td>0</td>\n",
       "    </tr>\n",
       "    <tr>\n",
       "      <th>2</th>\n",
       "      <td>1</td>\n",
       "      <td>1</td>\n",
       "      <td>0</td>\n",
       "      <td>1</td>\n",
       "      <td>0</td>\n",
       "      <td>0</td>\n",
       "      <td>0</td>\n",
       "      <td>0</td>\n",
       "      <td>0</td>\n",
       "      <td>0</td>\n",
       "      <td>...</td>\n",
       "      <td>0</td>\n",
       "      <td>0</td>\n",
       "      <td>0</td>\n",
       "      <td>0</td>\n",
       "      <td>0</td>\n",
       "      <td>0</td>\n",
       "      <td>0</td>\n",
       "      <td>1</td>\n",
       "      <td>0</td>\n",
       "      <td>0</td>\n",
       "    </tr>\n",
       "    <tr>\n",
       "      <th>3</th>\n",
       "      <td>1</td>\n",
       "      <td>1</td>\n",
       "      <td>0</td>\n",
       "      <td>1</td>\n",
       "      <td>0</td>\n",
       "      <td>1</td>\n",
       "      <td>1</td>\n",
       "      <td>0</td>\n",
       "      <td>0</td>\n",
       "      <td>0</td>\n",
       "      <td>...</td>\n",
       "      <td>0</td>\n",
       "      <td>0</td>\n",
       "      <td>0</td>\n",
       "      <td>1</td>\n",
       "      <td>0</td>\n",
       "      <td>0</td>\n",
       "      <td>0</td>\n",
       "      <td>0</td>\n",
       "      <td>1</td>\n",
       "      <td>0</td>\n",
       "    </tr>\n",
       "    <tr>\n",
       "      <th>4</th>\n",
       "      <td>2</td>\n",
       "      <td>1</td>\n",
       "      <td>0</td>\n",
       "      <td>1</td>\n",
       "      <td>0</td>\n",
       "      <td>1</td>\n",
       "      <td>1</td>\n",
       "      <td>0</td>\n",
       "      <td>1</td>\n",
       "      <td>0</td>\n",
       "      <td>...</td>\n",
       "      <td>0</td>\n",
       "      <td>0</td>\n",
       "      <td>0</td>\n",
       "      <td>0</td>\n",
       "      <td>0</td>\n",
       "      <td>0</td>\n",
       "      <td>0</td>\n",
       "      <td>1</td>\n",
       "      <td>0</td>\n",
       "      <td>0</td>\n",
       "    </tr>\n",
       "  </tbody>\n",
       "</table>\n",
       "<p>5 rows × 44 columns</p>\n",
       "</div>"
      ],
      "text/plain": [
       "   h1n1_concern  h1n1_knowledge  behavioral_antiviral_meds  \\\n",
       "0             1               0                          0   \n",
       "1             3               2                          0   \n",
       "2             1               1                          0   \n",
       "3             1               1                          0   \n",
       "4             2               1                          0   \n",
       "\n",
       "   behavioral_avoidance  behavioral_face_mask  behavioral_wash_hands  \\\n",
       "0                     0                     0                      0   \n",
       "1                     1                     0                      1   \n",
       "2                     1                     0                      0   \n",
       "3                     1                     0                      1   \n",
       "4                     1                     0                      1   \n",
       "\n",
       "   behavioral_large_gatherings  behavioral_outside_home  \\\n",
       "0                            0                        1   \n",
       "1                            0                        1   \n",
       "2                            0                        0   \n",
       "3                            1                        0   \n",
       "4                            1                        0   \n",
       "\n",
       "   behavioral_touch_face  doctor_recc_h1n1  ...  hhs_geo_region_dqpwygqj  \\\n",
       "0                      1                 0  ...                        0   \n",
       "1                      1                 0  ...                        0   \n",
       "2                      0                 0  ...                        0   \n",
       "3                      0                 0  ...                        0   \n",
       "4                      1                 0  ...                        0   \n",
       "\n",
       "   hhs_geo_region_fpwskwrf  hhs_geo_region_kbazzjca  hhs_geo_region_lrircsnp  \\\n",
       "0                        0                        0                        0   \n",
       "1                        0                        0                        0   \n",
       "2                        0                        0                        0   \n",
       "3                        0                        0                        1   \n",
       "4                        0                        0                        0   \n",
       "\n",
       "   hhs_geo_region_lzgpxyit  hhs_geo_region_mlyzmhmf  hhs_geo_region_oxchjgsf  \\\n",
       "0                        0                        0                        1   \n",
       "1                        0                        0                        0   \n",
       "2                        0                        0                        0   \n",
       "3                        0                        0                        0   \n",
       "4                        0                        0                        0   \n",
       "\n",
       "   hhs_geo_region_qufhixun  census_msa_MSA, Principle City  census_msa_Non-MSA  \n",
       "0                        0                               0                   1  \n",
       "1                        0                               0                   0  \n",
       "2                        1                               0                   0  \n",
       "3                        0                               1                   0  \n",
       "4                        1                               0                   0  \n",
       "\n",
       "[5 rows x 44 columns]"
      ]
     },
     "execution_count": 448,
     "metadata": {},
     "output_type": "execute_result"
    }
   ],
   "source": [
    "# onehot encoding for categorical variables for int too\n",
    "df1_encoded = pd.get_dummies(df1_new, drop_first=True).astype(int)\n",
    "df1_encoded.head()\n",
    "\n"
   ]
  },
  {
   "cell_type": "code",
   "execution_count": 449,
   "id": "90abdc71",
   "metadata": {},
   "outputs": [
    {
     "data": {
      "text/plain": [
       "h1n1_concern                      int32\n",
       "h1n1_knowledge                    int32\n",
       "behavioral_antiviral_meds         int32\n",
       "behavioral_avoidance              int32\n",
       "behavioral_face_mask              int32\n",
       "behavioral_wash_hands             int32\n",
       "behavioral_large_gatherings       int32\n",
       "behavioral_outside_home           int32\n",
       "behavioral_touch_face             int32\n",
       "doctor_recc_h1n1                  int32\n",
       "doctor_recc_seasonal              int32\n",
       "chronic_med_condition             int32\n",
       "child_under_6_months              int32\n",
       "health_worker                     int32\n",
       "opinion_h1n1_vacc_effective       int32\n",
       "opinion_h1n1_risk                 int32\n",
       "opinion_h1n1_sick_from_vacc       int32\n",
       "opinion_seas_vacc_effective       int32\n",
       "opinion_seas_risk                 int32\n",
       "opinion_seas_sick_from_vacc       int32\n",
       "age_group                         int32\n",
       "education                         int32\n",
       "income_poverty                    int32\n",
       "employment_status                 int32\n",
       "household_adults                  int32\n",
       "household_children                int32\n",
       "seasonal_vaccine                  int32\n",
       "race_Hispanic                     int32\n",
       "race_Other or Multiple            int32\n",
       "race_White                        int32\n",
       "sex_Male                          int32\n",
       "marital_status_Not Married        int32\n",
       "rent_or_own_Rent                  int32\n",
       "hhs_geo_region_bhuqouqj           int32\n",
       "hhs_geo_region_dqpwygqj           int32\n",
       "hhs_geo_region_fpwskwrf           int32\n",
       "hhs_geo_region_kbazzjca           int32\n",
       "hhs_geo_region_lrircsnp           int32\n",
       "hhs_geo_region_lzgpxyit           int32\n",
       "hhs_geo_region_mlyzmhmf           int32\n",
       "hhs_geo_region_oxchjgsf           int32\n",
       "hhs_geo_region_qufhixun           int32\n",
       "census_msa_MSA, Principle City    int32\n",
       "census_msa_Non-MSA                int32\n",
       "dtype: object"
      ]
     },
     "execution_count": 449,
     "metadata": {},
     "output_type": "execute_result"
    }
   ],
   "source": [
    "df1_encoded.dtypes"
   ]
  },
  {
   "cell_type": "code",
   "execution_count": 450,
   "id": "298276e2",
   "metadata": {},
   "outputs": [
    {
     "data": {
      "text/plain": [
       "seasonal_vaccine\n",
       "0    14272\n",
       "1    12435\n",
       "Name: count, dtype: int64"
      ]
     },
     "execution_count": 450,
     "metadata": {},
     "output_type": "execute_result"
    }
   ],
   "source": [
    "# checking for class imbalance\n",
    "df1_encoded['seasonal_vaccine'].value_counts()"
   ]
  },
  {
   "cell_type": "code",
   "execution_count": 451,
   "id": "71bb274c",
   "metadata": {},
   "outputs": [],
   "source": [
    "# handling class imbalance with SMOTE where minority class is oversampled\n",
    "# from imblearn.over_sampling import SMOTE\n",
    "X = df1_encoded.drop('seasonal_vaccine', axis=1)\n",
    "y = df1_encoded['seasonal_vaccine']\n",
    "# smote = SMOTE(random_state=42)\n",
    "# X_res, y_res = smote.fit_resample(X, y)\n",
    "# X_res.shape, y_res.shape\n"
   ]
  },
  {
   "cell_type": "code",
   "execution_count": 452,
   "id": "8513a417",
   "metadata": {},
   "outputs": [],
   "source": [
    "# X_res.value_counts()"
   ]
  },
  {
   "cell_type": "code",
   "execution_count": 453,
   "id": "b1fbfeae",
   "metadata": {},
   "outputs": [],
   "source": [
    "# distribution of target variable after resampling\n",
    "# y_res.value_counts()"
   ]
  },
  {
   "cell_type": "markdown",
   "id": "90d97697",
   "metadata": {},
   "source": [
    "## 4. MODELING LOGISTIC"
   ]
  },
  {
   "cell_type": "code",
   "execution_count": 454,
   "id": "dedd8196",
   "metadata": {},
   "outputs": [],
   "source": [
    "# importing libraries for model building\n",
    "from sklearn.linear_model import LogisticRegression\n",
    "from sklearn.model_selection import cross_val_score, KFold\n",
    "from sklearn.model_selection import train_test_split\n",
    "from sklearn.metrics import classification_report, confusion_matrix, accuracy_score"
   ]
  },
  {
   "cell_type": "code",
   "execution_count": null,
   "id": "21672e29",
   "metadata": {},
   "outputs": [],
   "source": []
  },
  {
   "cell_type": "code",
   "execution_count": 455,
   "id": "f592cb4b",
   "metadata": {},
   "outputs": [],
   "source": [
    "X_train, X_test, y_train, y_test = train_test_split(X, y, test_size=0.2, random_state=42)"
   ]
  },
  {
   "cell_type": "code",
   "execution_count": 456,
   "id": "38e5745d",
   "metadata": {},
   "outputs": [],
   "source": [
    "clf = LogisticRegression(max_iter=1000)\n",
    "clf.fit(X_train, y_train)\n",
    "y_pred = clf.predict(X_test)\n"
   ]
  },
  {
   "cell_type": "code",
   "execution_count": 457,
   "id": "0b6cbb4a",
   "metadata": {},
   "outputs": [],
   "source": [
    "X_train2, X_test2, y_train2, y_test2 = train_test_split(X, y, test_size=0.2, random_state=42)"
   ]
  },
  {
   "cell_type": "code",
   "execution_count": 458,
   "id": "0d3ad7e1",
   "metadata": {},
   "outputs": [
    {
     "data": {
      "text/plain": [
       "array([0.75627106, 0.77985773, 0.76375889, 0.77761138, 0.77124672,\n",
       "       0.77761138, 0.78210408, 0.77752809, 0.77041199, 0.77378277])"
      ]
     },
     "execution_count": 458,
     "metadata": {},
     "output_type": "execute_result"
    }
   ],
   "source": [
    "# cross validation with k-fold in decision tree model\n",
    "# Define k-fold strategy (here k=5)\n",
    "kf = KFold(n_splits=10, shuffle=True, random_state=42)\n",
    "# Evaluate model using cross-validation\n",
    "scores = cross_val_score(clf, X, y, cv=10)\n",
    "scores"
   ]
  },
  {
   "cell_type": "code",
   "execution_count": 459,
   "id": "e6f48b99",
   "metadata": {},
   "outputs": [
    {
     "data": {
      "text/plain": [
       "0.7730184096909936"
      ]
     },
     "execution_count": 459,
     "metadata": {},
     "output_type": "execute_result"
    }
   ],
   "source": [
    "np.average(scores)"
   ]
  },
  {
   "cell_type": "code",
   "execution_count": 460,
   "id": "eb9c3cfb",
   "metadata": {},
   "outputs": [
    {
     "name": "stdout",
     "output_type": "stream",
     "text": [
      "Training Accuracy: 0.7729932131991575\n",
      "Testing Accuracy: 0.7821040808685885\n"
     ]
    }
   ],
   "source": [
    "# checking for overfitting for logistic regression in model  KFold\n",
    "print(\"Training Accuracy:\", accuracy_score(y_train2, clf.predict(X_train2)))\n",
    "print(\"Testing Accuracy:\", accuracy_score(y_test2, y_pred))"
   ]
  },
  {
   "cell_type": "markdown",
   "id": "634edb92",
   "metadata": {},
   "source": [
    "## EVALUATION LOGISTIC"
   ]
  },
  {
   "cell_type": "code",
   "execution_count": 461,
   "id": "0373abb6",
   "metadata": {},
   "outputs": [
    {
     "data": {
      "text/plain": [
       "0.7821040808685885"
      ]
     },
     "execution_count": 461,
     "metadata": {},
     "output_type": "execute_result"
    }
   ],
   "source": [
    "acc = accuracy_score(y_test, y_pred)\n",
    "acc"
   ]
  },
  {
   "cell_type": "code",
   "execution_count": 462,
   "id": "89345ef6",
   "metadata": {},
   "outputs": [
    {
     "name": "stdout",
     "output_type": "stream",
     "text": [
      "              precision    recall  f1-score   support\n",
      "\n",
      "           0       0.79      0.81      0.80      2891\n",
      "           1       0.77      0.75      0.76      2451\n",
      "\n",
      "    accuracy                           0.78      5342\n",
      "   macro avg       0.78      0.78      0.78      5342\n",
      "weighted avg       0.78      0.78      0.78      5342\n",
      "\n"
     ]
    }
   ],
   "source": [
    "# using Recall, Precision, F1-score for model evaluation\n",
    "print(classification_report(y_test, y_pred))\n"
   ]
  },
  {
   "cell_type": "code",
   "execution_count": 463,
   "id": "856a3688",
   "metadata": {},
   "outputs": [
    {
     "name": "stdout",
     "output_type": "stream",
     "text": [
      "Training Accuracy: 0.7729932131991575\n",
      "Testing Accuracy: 0.7821040808685885\n"
     ]
    }
   ],
   "source": [
    "# CHECKING FOR OVERFITTING\n",
    "print(\"Training Accuracy:\", accuracy_score(y_train, clf.predict(X_train)))\n",
    "print(\"Testing Accuracy:\", accuracy_score(y_test, y_pred))"
   ]
  },
  {
   "cell_type": "code",
   "execution_count": 464,
   "id": "82909efd",
   "metadata": {},
   "outputs": [
    {
     "data": {
      "image/png": "[encoded data removed]",
      "text/plain": [
       "<Figure size 500x500 with 1 Axes>"
      ]
     },
     "metadata": {},
     "output_type": "display_data"
    }
   ],
   "source": [
    "# using confusion matrix for model evaluation\n",
    "cm = confusion_matrix(y_test, y_pred)\n",
    "plt.figure(figsize=(5,5))\n",
    "sns.heatmap(cm, annot=True, fmt='d', cmap='Blues', cbar=False)\n",
    "plt.xlabel('Predicted')\n",
    "plt.ylabel('Actual')\n",
    "plt.title('Confusion Matrix')\n",
    "plt.show()"
   ]
  },
  {
   "cell_type": "markdown",
   "id": "e61aa0bd",
   "metadata": {},
   "source": [
    "## MODELING DECISION TREE"
   ]
  },
  {
   "cell_type": "code",
   "execution_count": 465,
   "id": "ac917ba8",
   "metadata": {},
   "outputs": [],
   "source": [
    "# developing a decision tree model\n",
    "from sklearn.tree import DecisionTreeClassifier\n",
    "from sklearn.model_selection import cross_val_score, KFold,StratifiedKFold\n",
    "from sklearn.model_selection import cross_val_score\n",
    "dt_clf = DecisionTreeClassifier(random_state=42, criterion='entropy', max_depth=3)\n",
    "\n"
   ]
  },
  {
   "cell_type": "code",
   "execution_count": 466,
   "id": "3cfaef10",
   "metadata": {},
   "outputs": [],
   "source": [
    "X_train2, X_test2, y_train2, y_test2 = train_test_split(X_res, y_res, test_size=0.2, random_state=42)"
   ]
  },
  {
   "cell_type": "code",
   "execution_count": 467,
   "id": "c9bf9f50",
   "metadata": {},
   "outputs": [],
   "source": [
    "# Define k-fold strategy (here k=5)\n",
    "kf = KFold(n_splits=10, shuffle=True, random_state=42)\n",
    "# Evaluate model using cross-validation\n",
    "scores = cross_val_score(dt_clf, X_res, y_res, cv=10)\n"
   ]
  },
  {
   "cell_type": "code",
   "execution_count": 468,
   "id": "5a6b3039",
   "metadata": {},
   "outputs": [
    {
     "name": "stdout",
     "output_type": "stream",
     "text": [
      "Cross-validation scores: [0.72294221 0.74115587 0.72539405 0.7380035  0.73020322 0.71653819\n",
      " 0.73090399 0.73230554 0.69761738 0.67238963]\n"
     ]
    }
   ],
   "source": [
    "# selecting the best model from cross validation scores\n",
    "print(\"Cross-validation scores:\", scores)"
   ]
  },
  {
   "cell_type": "code",
   "execution_count": 469,
   "id": "9fa8cb57",
   "metadata": {},
   "outputs": [
    {
     "data": {
      "text/plain": [
       "0.7207453575465411"
      ]
     },
     "execution_count": 469,
     "metadata": {},
     "output_type": "execute_result"
    }
   ],
   "source": [
    "np.average(scores)"
   ]
  },
  {
   "cell_type": "code",
   "execution_count": 470,
   "id": "3f1301c2",
   "metadata": {},
   "outputs": [
    {
     "data": {
      "text/plain": [
       "0.019894813194312414"
      ]
     },
     "execution_count": 470,
     "metadata": {},
     "output_type": "execute_result"
    }
   ],
   "source": [
    "np.std(scores)"
   ]
  },
  {
   "cell_type": "code",
   "execution_count": 471,
   "id": "1f8dfe9e",
   "metadata": {},
   "outputs": [],
   "source": [
    "dt_clf.fit(X_train2, y_train2)    \n",
    "y_dt_pred = dt_clf.predict(X_test2)"
   ]
  },
  {
   "cell_type": "markdown",
   "id": "3b35b0f6",
   "metadata": {},
   "source": [
    "## EVALUATION DECISION TREE"
   ]
  },
  {
   "cell_type": "code",
   "execution_count": 472,
   "id": "869522ee",
   "metadata": {},
   "outputs": [
    {
     "data": {
      "text/plain": [
       "0.7120336311087756"
      ]
     },
     "execution_count": 472,
     "metadata": {},
     "output_type": "execute_result"
    }
   ],
   "source": [
    "acc_dt = accuracy_score(y_test2, y_dt_pred)\n",
    "acc_dt"
   ]
  },
  {
   "cell_type": "code",
   "execution_count": 473,
   "id": "d5b7382f",
   "metadata": {},
   "outputs": [
    {
     "name": "stdout",
     "output_type": "stream",
     "text": [
      "Training Accuracy: 0.7191591854609153\n",
      "Testing Accuracy: 0.7120336311087756\n"
     ]
    }
   ],
   "source": [
    "# CHECKING FOR OVERFITTING\n",
    "print(\"Training Accuracy:\", accuracy_score(y_train2, dt_clf.predict(X_train2)))\n",
    "print(\"Testing Accuracy:\", accuracy_score(y_test2, y_dt_pred))\n"
   ]
  },
  {
   "cell_type": "code",
   "execution_count": 474,
   "id": "ffafe95b",
   "metadata": {},
   "outputs": [
    {
     "ename": "ValueError",
     "evalue": "Found input variables with inconsistent numbers of samples: [5342, 5709]",
     "output_type": "error",
     "traceback": [
      "\u001b[1;31m---------------------------------------------------------------------------\u001b[0m",
      "\u001b[1;31mValueError\u001b[0m                                Traceback (most recent call last)",
      "Cell \u001b[1;32mIn[474], line 2\u001b[0m\n\u001b[0;32m      1\u001b[0m \u001b[38;5;66;03m# using confusion matrix for model evaluation for decision tree\u001b[39;00m\n\u001b[1;32m----> 2\u001b[0m cm_dt \u001b[38;5;241m=\u001b[39m confusion_matrix(y_test, y_dt_pred)\n\u001b[0;32m      3\u001b[0m plt\u001b[38;5;241m.\u001b[39mfigure(figsize\u001b[38;5;241m=\u001b[39m(\u001b[38;5;241m12\u001b[39m,\u001b[38;5;241m10\u001b[39m))\n\u001b[0;32m      4\u001b[0m sns\u001b[38;5;241m.\u001b[39mheatmap(cm_dt, annot\u001b[38;5;241m=\u001b[39m\u001b[38;5;28;01mTrue\u001b[39;00m, fmt\u001b[38;5;241m=\u001b[39m\u001b[38;5;124m'\u001b[39m\u001b[38;5;124md\u001b[39m\u001b[38;5;124m'\u001b[39m, cmap\u001b[38;5;241m=\u001b[39m\u001b[38;5;124m'\u001b[39m\u001b[38;5;124mGreens\u001b[39m\u001b[38;5;124m'\u001b[39m, cbar\u001b[38;5;241m=\u001b[39m\u001b[38;5;28;01mFalse\u001b[39;00m)\n",
      "File \u001b[1;32mc:\\Users\\mikeo\\anaconda3\\Lib\\site-packages\\sklearn\\metrics\\_classification.py:317\u001b[0m, in \u001b[0;36mconfusion_matrix\u001b[1;34m(y_true, y_pred, labels, sample_weight, normalize)\u001b[0m\n\u001b[0;32m    232\u001b[0m \u001b[38;5;28;01mdef\u001b[39;00m \u001b[38;5;21mconfusion_matrix\u001b[39m(\n\u001b[0;32m    233\u001b[0m     y_true, y_pred, \u001b[38;5;241m*\u001b[39m, labels\u001b[38;5;241m=\u001b[39m\u001b[38;5;28;01mNone\u001b[39;00m, sample_weight\u001b[38;5;241m=\u001b[39m\u001b[38;5;28;01mNone\u001b[39;00m, normalize\u001b[38;5;241m=\u001b[39m\u001b[38;5;28;01mNone\u001b[39;00m\n\u001b[0;32m    234\u001b[0m ):\n\u001b[0;32m    235\u001b[0m \u001b[38;5;250m    \u001b[39m\u001b[38;5;124;03m\"\"\"Compute confusion matrix to evaluate the accuracy of a classification.\u001b[39;00m\n\u001b[0;32m    236\u001b[0m \n\u001b[0;32m    237\u001b[0m \u001b[38;5;124;03m    By definition a confusion matrix :math:`C` is such that :math:`C_{i, j}`\u001b[39;00m\n\u001b[1;32m   (...)\u001b[0m\n\u001b[0;32m    315\u001b[0m \u001b[38;5;124;03m    (0, 2, 1, 1)\u001b[39;00m\n\u001b[0;32m    316\u001b[0m \u001b[38;5;124;03m    \"\"\"\u001b[39;00m\n\u001b[1;32m--> 317\u001b[0m     y_type, y_true, y_pred \u001b[38;5;241m=\u001b[39m _check_targets(y_true, y_pred)\n\u001b[0;32m    318\u001b[0m     \u001b[38;5;28;01mif\u001b[39;00m y_type \u001b[38;5;129;01mnot\u001b[39;00m \u001b[38;5;129;01min\u001b[39;00m (\u001b[38;5;124m\"\u001b[39m\u001b[38;5;124mbinary\u001b[39m\u001b[38;5;124m\"\u001b[39m, \u001b[38;5;124m\"\u001b[39m\u001b[38;5;124mmulticlass\u001b[39m\u001b[38;5;124m\"\u001b[39m):\n\u001b[0;32m    319\u001b[0m         \u001b[38;5;28;01mraise\u001b[39;00m \u001b[38;5;167;01mValueError\u001b[39;00m(\u001b[38;5;124m\"\u001b[39m\u001b[38;5;132;01m%s\u001b[39;00m\u001b[38;5;124m is not supported\u001b[39m\u001b[38;5;124m\"\u001b[39m \u001b[38;5;241m%\u001b[39m y_type)\n",
      "File \u001b[1;32mc:\\Users\\mikeo\\anaconda3\\Lib\\site-packages\\sklearn\\metrics\\_classification.py:86\u001b[0m, in \u001b[0;36m_check_targets\u001b[1;34m(y_true, y_pred)\u001b[0m\n\u001b[0;32m     59\u001b[0m \u001b[38;5;28;01mdef\u001b[39;00m \u001b[38;5;21m_check_targets\u001b[39m(y_true, y_pred):\n\u001b[0;32m     60\u001b[0m \u001b[38;5;250m    \u001b[39m\u001b[38;5;124;03m\"\"\"Check that y_true and y_pred belong to the same classification task.\u001b[39;00m\n\u001b[0;32m     61\u001b[0m \n\u001b[0;32m     62\u001b[0m \u001b[38;5;124;03m    This converts multiclass or binary types to a common shape, and raises a\u001b[39;00m\n\u001b[1;32m   (...)\u001b[0m\n\u001b[0;32m     84\u001b[0m \u001b[38;5;124;03m    y_pred : array or indicator matrix\u001b[39;00m\n\u001b[0;32m     85\u001b[0m \u001b[38;5;124;03m    \"\"\"\u001b[39;00m\n\u001b[1;32m---> 86\u001b[0m     check_consistent_length(y_true, y_pred)\n\u001b[0;32m     87\u001b[0m     type_true \u001b[38;5;241m=\u001b[39m type_of_target(y_true, input_name\u001b[38;5;241m=\u001b[39m\u001b[38;5;124m\"\u001b[39m\u001b[38;5;124my_true\u001b[39m\u001b[38;5;124m\"\u001b[39m)\n\u001b[0;32m     88\u001b[0m     type_pred \u001b[38;5;241m=\u001b[39m type_of_target(y_pred, input_name\u001b[38;5;241m=\u001b[39m\u001b[38;5;124m\"\u001b[39m\u001b[38;5;124my_pred\u001b[39m\u001b[38;5;124m\"\u001b[39m)\n",
      "File \u001b[1;32mc:\\Users\\mikeo\\anaconda3\\Lib\\site-packages\\sklearn\\utils\\validation.py:397\u001b[0m, in \u001b[0;36mcheck_consistent_length\u001b[1;34m(*arrays)\u001b[0m\n\u001b[0;32m    395\u001b[0m uniques \u001b[38;5;241m=\u001b[39m np\u001b[38;5;241m.\u001b[39munique(lengths)\n\u001b[0;32m    396\u001b[0m \u001b[38;5;28;01mif\u001b[39;00m \u001b[38;5;28mlen\u001b[39m(uniques) \u001b[38;5;241m>\u001b[39m \u001b[38;5;241m1\u001b[39m:\n\u001b[1;32m--> 397\u001b[0m     \u001b[38;5;28;01mraise\u001b[39;00m \u001b[38;5;167;01mValueError\u001b[39;00m(\n\u001b[0;32m    398\u001b[0m         \u001b[38;5;124m\"\u001b[39m\u001b[38;5;124mFound input variables with inconsistent numbers of samples: \u001b[39m\u001b[38;5;132;01m%r\u001b[39;00m\u001b[38;5;124m\"\u001b[39m\n\u001b[0;32m    399\u001b[0m         \u001b[38;5;241m%\u001b[39m [\u001b[38;5;28mint\u001b[39m(l) \u001b[38;5;28;01mfor\u001b[39;00m l \u001b[38;5;129;01min\u001b[39;00m lengths]\n\u001b[0;32m    400\u001b[0m     )\n",
      "\u001b[1;31mValueError\u001b[0m: Found input variables with inconsistent numbers of samples: [5342, 5709]"
     ]
    }
   ],
   "source": [
    "# using confusion matrix for model evaluation for decision tree\n",
    "cm_dt = confusion_matrix(y_test, y_dt_pred)\n",
    "plt.figure(figsize=(12,10))\n",
    "sns.heatmap(cm_dt, annot=True, fmt='d', cmap='Greens', cbar=False)\n",
    "plt.xlabel('Predicted')\n",
    "plt.ylabel('Actual')\n"
   ]
  },
  {
   "cell_type": "code",
   "execution_count": null,
   "id": "78b1e39f",
   "metadata": {},
   "outputs": [
    {
     "name": "stdout",
     "output_type": "stream",
     "text": [
      "              precision    recall  f1-score   support\n",
      "\n",
      "           0       0.70      0.79      0.74      4287\n",
      "           1       0.75      0.64      0.69      4127\n",
      "\n",
      "    accuracy                           0.72      8414\n",
      "   macro avg       0.72      0.72      0.72      8414\n",
      "weighted avg       0.72      0.72      0.72      8414\n",
      "\n"
     ]
    }
   ],
   "source": [
    "# using classification report to check precision, recall and f1-score to determinne accuracy of decision tree model\n",
    "print(classification_report(y_test, y_dt_pred))\n",
    "\n",
    "  "
   ]
  },
  {
   "cell_type": "code",
   "execution_count": null,
   "id": "493a7877",
   "metadata": {},
   "outputs": [],
   "source": [
    "# checking for correlation for numerical columns\n",
    "# plt.figure(figsize=(10,8))\n",
    "# sns.heatmap(df1_new.corr(), annot=True, cmap='coolwarm')\n",
    "# plt.title('Correlation Matrix')\n"
   ]
  },
  {
   "cell_type": "code",
   "execution_count": null,
   "id": "79c474ca",
   "metadata": {},
   "outputs": [],
   "source": [
    "\n",
    "# df1_new"
   ]
  },
  {
   "cell_type": "code",
   "execution_count": null,
   "id": "e5676c5f",
   "metadata": {},
   "outputs": [],
   "source": [
    "# s = df1.select_dtypes(include='number').corr()\n",
    "# s"
   ]
  },
  {
   "cell_type": "code",
   "execution_count": null,
   "id": "db37bdca",
   "metadata": {},
   "outputs": [],
   "source": [
    "\n",
    "# plt.figure(figsize=(25,15))\n",
    "# sns.heatmap(s, annot=True, cmap='coolwarm')"
   ]
  },
  {
   "cell_type": "code",
   "execution_count": null,
   "id": "1b101505",
   "metadata": {},
   "outputs": [],
   "source": [
    "# df1.describe()"
   ]
  },
  {
   "cell_type": "code",
   "execution_count": null,
   "id": "cb249afe",
   "metadata": {},
   "outputs": [],
   "source": [
    "# df1.info()"
   ]
  },
  {
   "cell_type": "code",
   "execution_count": null,
   "id": "8b0b6e6e",
   "metadata": {},
   "outputs": [],
   "source": [
    "# df1.isnull().sum()"
   ]
  }
 ],
 "metadata": {
  "kernelspec": {
   "display_name": "base",
   "language": "python",
   "name": "python3"
  },
  "language_info": {
   "codemirror_mode": {
    "name": "ipython",
    "version": 3
   },
   "file_extension": ".py",
   "mimetype": "text/x-python",
   "name": "python",
   "nbconvert_exporter": "python",
   "pygments_lexer": "ipython3",
   "version": "3.11.7"
  }
 },
 "nbformat": 4,
 "nbformat_minor": 5
}
