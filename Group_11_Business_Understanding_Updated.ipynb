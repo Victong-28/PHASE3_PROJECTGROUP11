{
 "cells": [
  {
   "cell_type": "code",
   "execution_count": null,
   "id": "89362070-4875-4382-94c7-2c398f662c2f",
   "metadata": {},
   "outputs": [],
   "source": [
    "## 1. Business Understanding\n",
    "### 1.1 Business Overview\n",
    "#### 1.1.0 H1N1 influenza\n",
    " H1N1 is a type of Influenza A virus that infects the nose, throat, and lungs. It was initially called \"swine flu\" because it resembled a flu virus that affects pigs. The H1N1 virus that caused the 2009 pandemic contained genetic material from avian, swine, and human influenza viruses. The H1N1 virus caused the deadly \"Spanish flu\" pandemic in 1918. A different strain of H1N1 caused a pandemic in 2009, but it is now considered a regular, seasonal flu virus. H1N1 is contagious and spreads from person to person through coughs and sneezes. Its symptoms are similar to other types of flu and can include fever, cough, sore throat, body aches, and fatigue. \n",
    "\n",
    " The 2009 H1N1 influenza pandemic highlighted the importance of vaccination campaigns in preventingwidespread illness. Despite the availability of both H1N1 and seasonal flu vaccines, vaccination rates varied significantly across demographic groups. Factors such as personal health behaviors, medical access, and perceptions of vaccine safety played a significant role in whether individuals chose to get vaccinated.\n",
    "\n",
    "As the world continues to face public health challenges, such as the COVID-19 pandemic, gaining insight into the drivers of vaccine uptake remains critical. By analyzing survey data from the 2009 National H1N1 Flu Survey, we can explore how people's backgrounds, health conditions, opinions, and behaviors relate to their vaccination decisions.\n",
    "\n",
    "#### 1.1.1 Seasonal flu vaccine\n",
    " The seasonal flu vaccine is an annual vaccination that protects against the influenza viruses predicted to be the most common in the coming season. The vaccine is updated every year. It typically includes protection against two influenza A viruses (one H1N1 and one H3N2 subtype) and one or two influenza B viruses. Administration: It is offered as either an injection (shot) containing an inactivated (killed) virus or as a nasal spray containing a weakened live virus.\n",
    "\n",
    "\n",
    "### 1.2 Problem Statement\n",
    "\n",
    "* The seasonal flu vaccine is an annual vaccination, one of the most effective strategies for reducing infection and preventing severe illness. The seasonal flu vaccine is an annual vaccination and one of the most effective strategies for reducing infection and preventing severe illness. However, not all individuals choose to get vaccinated, and uptake rates vary across different demographic and socioeconomic groups. Understanding the factors that influence vaccine adoption is critical for designing effective public health interventions. This project aims to develop a machine learning model that predicts whether an individual received the seasonal flu vaccine based on their demographic information, health conditions, behaviors, and opinions collected in the National 2009 Seasonal Flu Survey. However, not all individuals choose to get vaccinated, and uptake rates vary across different demographic and socioeconomic groups. Understanding the factors that influence vaccine adoption is critical for designing effective public health interventions. This project aims to develop a machine learning model that predicts whether an individual did not receive the Seasonal flu vaccine based on their demographic information, health conditions, behaviors, and opinions collected in the National 2009 Seasonal Flu Survey.\n",
    "\n",
    "\n",
    "### 1.3 Business Objectives\n",
    "\n",
    "#### 1.3.0 Main objective\n",
    "* To develop a model that will predict whether an  individual did not receive the Seasonal vaccine.\n",
    "\n",
    "#### 1.3.1 Specific Objectives.\n",
    "* To identify which age group, sex, race, and chronic_med_condition persons received the Seasonal vaccine\n",
    "* To analyze the demographic, behavioral, and medical characteristics of survey respondents and determine their association with Seasonal vaccine uptake.\n",
    "* To identify the most influential features affecting vaccine uptake, providing insights that can guide targeted public health interventions and awareness campaigns.\n",
    "\n",
    "#### 1.3.2 Research Questions.\n",
    "* What demographic factors influence whether an  individuals did not receives the Seasonal vaccine?\n",
    "* What behavioral factors influence whether an individuals did not receives the Seasonal vaccine?\n",
    "* What are the medical factors that influence whether an individuals did not receives the Seasonal vaccine?\n",
    "* How can the insights from the predictive model help public health officials design targeted campaigns to increase vaccination rates?\n",
    "\n",
    "### 1.4 Success criteria\n",
    "* If we build a model that will correctly predict whether an  individual did not receive the Seasonal vaccine."
   ]
  }
 ],
 "metadata": {
  "kernelspec": {
   "display_name": "Python [conda env:base] *",
   "language": "python",
   "name": "conda-base-py"
  },
  "language_info": {
   "codemirror_mode": {
    "name": "ipython",
    "version": 3
   },
   "file_extension": ".py",
   "mimetype": "text/x-python",
   "name": "python",
   "nbconvert_exporter": "python",
   "pygments_lexer": "ipython3",
   "version": "3.12.7"
  }
 },
 "nbformat": 4,
 "nbformat_minor": 5
}
