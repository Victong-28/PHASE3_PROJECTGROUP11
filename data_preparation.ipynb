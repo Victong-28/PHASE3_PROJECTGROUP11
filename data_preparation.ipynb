{
 "cells": [
  {
   "cell_type": "markdown",
   "id": "9e2c2b9a",
   "metadata": {},
   "source": [
    "## 3. Data Preparation\n"
   ]
  },
  {
   "cell_type": "code",
   "execution_count": null,
   "id": "5284b596",
   "metadata": {},
   "outputs": [],
   "source": [
    "df1.head()"
   ]
  },
  {
   "cell_type": "code",
   "execution_count": null,
   "id": "63ff7f75",
   "metadata": {},
   "outputs": [],
   "source": [
    "df1['household_children'].value_counts()"
   ]
  },
  {
   "cell_type": "code",
   "execution_count": null,
   "id": "a7d8ab2d",
   "metadata": {},
   "outputs": [],
   "source": [
    "df1.info()"
   ]
  },
  {
   "cell_type": "markdown",
   "id": "f7165f6a",
   "metadata": {},
   "source": [
    "* droping irrelevant columns and also columns with highest missing values\n",
    "* impute columns with less missing values \n",
    "* perform class imbalance\n",
    "* onehot encoding\n",
    "* "
   ]
  },
  {
   "cell_type": "code",
   "execution_count": null,
   "id": "61a7fe9a",
   "metadata": {},
   "outputs": [],
   "source": [
    "# picking the columns that i want to use for my analysis\n",
    "df1_new = df1[['h1n1_concern', 'h1n1_knowledge', 'behavioral_antiviral_meds',\n",
    "       'behavioral_avoidance', 'behavioral_face_mask', 'behavioral_wash_hands',\n",
    "       'behavioral_large_gatherings', 'behavioral_outside_home',\n",
    "       'behavioral_touch_face', 'doctor_recc_h1n1', 'doctor_recc_seasonal',\n",
    "       'chronic_med_condition', 'child_under_6_months', 'health_worker',\n",
    "       'opinion_h1n1_vacc_effective', 'opinion_h1n1_risk',\n",
    "       'opinion_h1n1_sick_from_vacc', 'opinion_seas_vacc_effective',\n",
    "       'opinion_seas_risk', 'opinion_seas_sick_from_vacc', 'age_group',\n",
    "       'education', 'race', 'sex', 'income_poverty', 'marital_status',\n",
    "       'rent_or_own', 'employment_status', 'hhs_geo_region', 'census_msa',\n",
    "       'household_adults', 'household_children', 'h1n1_vaccine']].copy()\n"
   ]
  },
  {
   "cell_type": "markdown",
   "id": "9e6c9669",
   "metadata": {},
   "source": [
    "**We decided to drop the `employment_occupation`, `employment_industry` and `health_insurance` since they have over 40% missing values**"
   ]
  },
  {
   "cell_type": "code",
   "execution_count": null,
   "id": "4e93fdb4",
   "metadata": {},
   "outputs": [],
   "source": [
    "df1_new.columns"
   ]
  },
  {
   "cell_type": "code",
   "execution_count": null,
   "id": "83f69b87",
   "metadata": {},
   "outputs": [],
   "source": [
    "df1_new.isnull().sum()"
   ]
  },
  {
   "cell_type": "code",
   "execution_count": null,
   "id": "e5b8cf3b",
   "metadata": {},
   "outputs": [],
   "source": [
    "# impute missing categorical columns with mode\n",
    "for col in df1_new.select_dtypes(include='float64').columns:\n",
    "    df1_new[col].fillna(df1_new[col].mode()[0], inplace=True)\n",
    "df1_new.isnull().sum()\n",
    "\n"
   ]
  },
  {
   "cell_type": "code",
   "execution_count": null,
   "id": "c48a1352",
   "metadata": {},
   "outputs": [],
   "source": [
    "df1_new.head()"
   ]
  },
  {
   "cell_type": "code",
   "execution_count": null,
   "id": "00770418",
   "metadata": {},
   "outputs": [],
   "source": [
    "# onehot encoding for categorical variables for int too\n",
    "df1_encoded = pd.get_dummies(df1_new, drop_first=True).astype(int)\n",
    "df1_encoded.head()\n",
    "\n"
   ]
  },
  {
   "cell_type": "code",
   "execution_count": null,
   "id": "90abdc71",
   "metadata": {},
   "outputs": [],
   "source": [
    "df1_encoded.dtypes"
   ]
  },
  {
   "cell_type": "code",
   "execution_count": null,
   "id": "298276e2",
   "metadata": {},
   "outputs": [],
   "source": [
    "# checking for class imbalance\n",
    "df1_encoded['h1n1_vaccine'].value_counts()"
   ]
  },
  {
   "cell_type": "code",
   "execution_count": null,
   "id": "71bb274c",
   "metadata": {},
   "outputs": [],
   "source": [
    "# handling class imbalance with SMOTE where minority class is oversampled\n",
    "from imblearn.over_sampling import SMOTE\n",
    "X = df1_encoded.drop('h1n1_vaccine', axis=1)\n",
    "y = df1_encoded['h1n1_vaccine']\n",
    "smote = SMOTE(random_state=42)\n",
    "X_res, y_res = smote.fit_resample(X, y)\n",
    "X_res.shape, y_res.shape\n"
   ]
  },
  {
   "cell_type": "code",
   "execution_count": null,
   "id": "b1fbfeae",
   "metadata": {},
   "outputs": [],
   "source": [
    "# distribution of target variable after resampling\n",
    "y_res.value_counts()"
   ]
  }
 ],
 "metadata": {
  "kernelspec": {
   "display_name": "Python 3 (ipykernel)",
   "language": "python",
   "name": "python3"
  },
  "language_info": {
   "codemirror_mode": {
    "name": "ipython",
    "version": 3
   },
   "file_extension": ".py",
   "mimetype": "text/x-python",
   "name": "python",
   "nbconvert_exporter": "python",
   "pygments_lexer": "ipython3",
   "version": "3.12.7"
  }
 },
 "nbformat": 4,
 "nbformat_minor": 5
}
